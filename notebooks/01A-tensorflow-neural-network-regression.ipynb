{
 "cells": [
  {
   "cell_type": "markdown",
   "metadata": {
    "id": "62DMeh9D0Xzw"
   },
   "source": [
    "# Part 01A: Introduction to Regression with Neural Network in tensorflow\n",
    "\n",
    "Contents:\n",
    "- Polynomial model, OLS, sklearn LinearRegression, Basic Tensorflow regression\n",
    "\n",
    "**Note**:\n",
    "- Predicting probabilities can also be somewhat categorized as a regression problem (`RidgeClassifier` in sklearn)\n",
    "- As we are predicting a continous bounded output between 0 and 1 (probabilities)\n",
    "- It all depends on how you choose your outputs and the loss function\n",
    "    - Yes, you can choose a mean squared error for loss function between predicted probabilities and the actual ground truth output. (It just won't be the maximum likelihood output)\n",
    "    \n",
    "    \n",
    "    "
   ]
  },
  {
   "cell_type": "code",
   "execution_count": 1,
   "metadata": {
    "colab": {
     "base_uri": "https://localhost:8080/"
    },
    "executionInfo": {
     "elapsed": 3332,
     "status": "ok",
     "timestamp": 1619451569597,
     "user": {
      "displayName": "Abhishek Bhatia",
      "photoUrl": "",
      "userId": "05636063588651340588"
     },
     "user_tz": -330
    },
    "id": "Y6PVqUuK1Z1w",
    "outputId": "8281b755-a3aa-43d0-ce14-e6038b2c693d"
   },
   "outputs": [
    {
     "name": "stdout",
     "output_type": "stream",
     "text": [
      "2.4.1\n"
     ]
    }
   ],
   "source": [
    "# Import tensorflow\n",
    "import tensorflow as tf\n",
    "print(tf.__version__)"
   ]
  },
  {
   "cell_type": "code",
   "execution_count": 2,
   "metadata": {
    "colab": {
     "base_uri": "https://localhost:8080/"
    },
    "executionInfo": {
     "elapsed": 868,
     "status": "ok",
     "timestamp": 1619451571080,
     "user": {
      "displayName": "Abhishek Bhatia",
      "photoUrl": "",
      "userId": "05636063588651340588"
     },
     "user_tz": -330
    },
    "id": "ZZOI4AWS1Z1z",
    "outputId": "df3ae63b-157d-4585-c312-44d64e6e4ae6"
   },
   "outputs": [
    {
     "name": "stdout",
     "output_type": "stream",
     "text": [
      "Tue Apr 27 13:21:04 2021       \n",
      "+-----------------------------------------------------------------------------+\n",
      "| NVIDIA-SMI 452.56       Driver Version: 452.56       CUDA Version: 11.0     |\n",
      "|-------------------------------+----------------------+----------------------+\n",
      "| GPU  Name            TCC/WDDM | Bus-Id        Disp.A | Volatile Uncorr. ECC |\n",
      "| Fan  Temp  Perf  Pwr:Usage/Cap|         Memory-Usage | GPU-Util  Compute M. |\n",
      "|                               |                      |               MIG M. |\n",
      "|===============================+======================+======================|\n",
      "|   0  GeForce MX350      WDDM  | 00000000:30:00.0 Off |                  N/A |\n",
      "| N/A   55C    P0    N/A /  N/A |     68MiB /  2048MiB |      0%      Default |\n",
      "|                               |                      |                  N/A |\n",
      "+-------------------------------+----------------------+----------------------+\n",
      "                                                                               \n",
      "+-----------------------------------------------------------------------------+\n",
      "| Processes:                                                                  |\n",
      "|  GPU   GI   CI        PID   Type   Process name                  GPU Memory |\n",
      "|        ID   ID                                                   Usage      |\n",
      "|=============================================================================|\n",
      "|  No running processes found                                                 |\n",
      "+-----------------------------------------------------------------------------+\n"
     ]
    }
   ],
   "source": [
    "!nvidia-smi"
   ]
  },
  {
   "cell_type": "markdown",
   "metadata": {
    "id": "lkbNdQz01Z1z"
   },
   "source": [
    "## Polynomial Class"
   ]
  },
  {
   "cell_type": "code",
   "execution_count": 3,
   "metadata": {
    "executionInfo": {
     "elapsed": 1289,
     "status": "ok",
     "timestamp": 1619451572294,
     "user": {
      "displayName": "Abhishek Bhatia",
      "photoUrl": "",
      "userId": "05636063588651340588"
     },
     "user_tz": -330
    },
    "id": "mWrGoR7R1Z1z"
   },
   "outputs": [
    {
     "ename": "ModuleNotFoundError",
     "evalue": "No module named 'matplotlib'",
     "output_type": "error",
     "traceback": [
      "\u001b[1;31m---------------------------------------------------------------------------\u001b[0m",
      "\u001b[1;31mModuleNotFoundError\u001b[0m                       Traceback (most recent call last)",
      "\u001b[1;32m<ipython-input-3-e0e1492b7973>\u001b[0m in \u001b[0;36m<module>\u001b[1;34m\u001b[0m\n\u001b[0;32m      1\u001b[0m \u001b[1;32mimport\u001b[0m \u001b[0mnumpy\u001b[0m \u001b[1;32mas\u001b[0m \u001b[0mnp\u001b[0m\u001b[1;33m\u001b[0m\u001b[1;33m\u001b[0m\u001b[0m\n\u001b[1;32m----> 2\u001b[1;33m \u001b[1;32mimport\u001b[0m \u001b[0mmatplotlib\u001b[0m\u001b[1;33m.\u001b[0m\u001b[0mpyplot\u001b[0m \u001b[1;32mas\u001b[0m \u001b[0mplt\u001b[0m\u001b[1;33m\u001b[0m\u001b[1;33m\u001b[0m\u001b[0m\n\u001b[0m",
      "\u001b[1;31mModuleNotFoundError\u001b[0m: No module named 'matplotlib'"
     ]
    }
   ],
   "source": [
    "import numpy as np\n",
    "import matplotlib.pyplot as plt"
   ]
  },
  {
   "cell_type": "code",
   "execution_count": 4,
   "metadata": {
    "executionInfo": {
     "elapsed": 906,
     "status": "ok",
     "timestamp": 1619451572295,
     "user": {
      "displayName": "Abhishek Bhatia",
      "photoUrl": "",
      "userId": "05636063588651340588"
     },
     "user_tz": -330
    },
    "id": "2aWUUluW1Z10"
   },
   "outputs": [],
   "source": [
    "class PolynomialModel:\n",
    "    \n",
    "    def __init__(self, params, stderr):\n",
    "        self.params = params\n",
    "        self.stderr = stderr\n",
    "        self.degree = len(self.params) - 1\n",
    "        \n",
    "    def __call__(self, X: np.array, add_noise=False):\n",
    "        \n",
    "        val = 0.0\n",
    "        for i, p in enumerate(self.params):\n",
    "            val += (X**i)*p\n",
    "            \n",
    "        val = np.sum(val, axis=1) # DOUBT: Should y be a 2D Matrix?\n",
    "            \n",
    "        if add_noise:\n",
    "            val += self._sample_normal_noise(self.stderr, shape=(val.shape[0],))\n",
    "            \n",
    "        return val\n",
    "    \n",
    "            \n",
    "    @staticmethod\n",
    "    def _sample_normal_noise(stderr, shape=None):\n",
    "        return np.random.normal(loc=0, scale=stderr, size=shape)\n",
    "    \n",
    "\n",
    "    def plot(self, X: np.array, ax=None, **kwargs):\n",
    "        \n",
    "        if ax is None:\n",
    "            fig, ax = plt.subplots()\n",
    "            \n",
    "        y = self(X)\n",
    "        \n",
    "        ax.plot(X.flatten(), y.flatten(), **kwargs)\n",
    "        \n",
    "        return ax\n",
    "    \n",
    "    \n",
    "    \n",
    "        "
   ]
  },
  {
   "cell_type": "markdown",
   "metadata": {
    "id": "wKHn2L6q1Z10"
   },
   "source": [
    "## Create data to view and fit\n",
    "\n",
    "Note that features in the real world are sampled from the population in most cases That means even though we consider them as non stochastic while modelling, since we have to explain the effect of X on y, these are generally not the result of a carefully controlled experiment in which we tinker with X. Infact, the business problem defines what we choose as X and what we choose as y.\n"
   ]
  },
  {
   "cell_type": "code",
   "execution_count": 5,
   "metadata": {
    "executionInfo": {
     "elapsed": 865,
     "status": "ok",
     "timestamp": 1619451573046,
     "user": {
      "displayName": "Abhishek Bhatia",
      "photoUrl": "",
      "userId": "05636063588651340588"
     },
     "user_tz": -330
    },
    "id": "xoyS7DtA1Z11"
   },
   "outputs": [],
   "source": [
    "xmin, xmax = -10, 40 # range\n",
    "m = 1000 # no of data points\n",
    "X = np.expand_dims(np.linspace(xmin, xmax, m), axis=-1) # You can randomly sample as well\n",
    "\n",
    "# Create the labels aka the outputs (dependent variable)\n",
    "polymodels = {}\n",
    "polymodels['linear'] = PolynomialModel([2, 3], 5)\n",
    "polymodels['quadratic'] = PolynomialModel([1, 2, -0.1], 10)\n",
    "\n",
    "# Now sample some y\n",
    "ys = {}\n",
    "ys['linear'] = polymodels['linear'](X, add_noise=True)\n",
    "ys['quadratic'] = polymodels['quadratic'](X, add_noise=True)\n"
   ]
  },
  {
   "cell_type": "code",
   "execution_count": 6,
   "metadata": {
    "colab": {
     "base_uri": "https://localhost:8080/"
    },
    "executionInfo": {
     "elapsed": 1014,
     "status": "ok",
     "timestamp": 1619451573615,
     "user": {
      "displayName": "Abhishek Bhatia",
      "photoUrl": "",
      "userId": "05636063588651340588"
     },
     "user_tz": -330
    },
    "id": "MPn9XCfX1Z11",
    "outputId": "fa5cd0e5-5ff0-49ee-d453-6b47097bc3bb"
   },
   "outputs": [
    {
     "data": {
      "text/plain": [
       "((1000, 1), (1000,), (1000,))"
      ]
     },
     "execution_count": 6,
     "metadata": {
      "tags": []
     },
     "output_type": "execute_result"
    }
   ],
   "source": [
    "X.shape, ys['linear'].shape, ys['quadratic'].shape"
   ]
  },
  {
   "cell_type": "code",
   "execution_count": 7,
   "metadata": {
    "colab": {
     "base_uri": "https://localhost:8080/",
     "height": 295
    },
    "executionInfo": {
     "elapsed": 1818,
     "status": "ok",
     "timestamp": 1619451575012,
     "user": {
      "displayName": "Abhishek Bhatia",
      "photoUrl": "",
      "userId": "05636063588651340588"
     },
     "user_tz": -330
    },
    "id": "dUi2blmQ1Z12",
    "outputId": "bcb24693-a7bc-4a91-e1dd-332c2c9e299e"
   },
   "outputs": [
    {
     "data": {
      "image/png": "[encoded data removed]",
      "text/plain": [
       "<Figure size 864x288 with 2 Axes>"
      ]
     },
     "metadata": {
      "needs_background": "light",
      "tags": []
     },
     "output_type": "display_data"
    }
   ],
   "source": [
    "# Plot!\n",
    "fig, axn = plt.subplots(1, 2, figsize=(12, 4))\n",
    "\n",
    "for ax, modtype in zip(axn, ['linear', 'quadratic']):\n",
    "    \n",
    "    y = ys[modtype]\n",
    "    polymodel = polymodels[modtype]\n",
    "    \n",
    "    ax.scatter(X.flatten(), y.flatten(), s=0.2)\n",
    "    polymodel.plot(X, ax=ax, label='True Relationship')\n",
    "    \n",
    "    ax.set_title(modtype)\n",
    "\n",
    "    ax.set_xlabel('X')\n",
    "    ax.set_ylabel('y')\n",
    "\n",
    "plt.legend();"
   ]
  },
  {
   "cell_type": "markdown",
   "metadata": {
    "id": "wMj3YO0I1Z12"
   },
   "source": [
    "## OLSRegressor"
   ]
  },
  {
   "cell_type": "code",
   "execution_count": 8,
   "metadata": {
    "executionInfo": {
     "elapsed": 1090,
     "status": "ok",
     "timestamp": 1619451575682,
     "user": {
      "displayName": "Abhishek Bhatia",
      "photoUrl": "",
      "userId": "05636063588651340588"
     },
     "user_tz": -330
    },
    "id": "6UrNe6On1Z12"
   },
   "outputs": [],
   "source": [
    "class OLSRegressor:\n",
    "    \n",
    "    def __init__(self, degree=1, add_bias=True):\n",
    "        \n",
    "        if degree != 1:\n",
    "            raise NotImplementedError('Providing a degree other than 1 is not implemented yet!')\n",
    "        \n",
    "        self._check_degree(degree)\n",
    "        \n",
    "        self.degree = degree\n",
    "        self.add_bias = add_bias\n",
    "        \n",
    "        \n",
    "    def fit(self, X, y):\n",
    "        if self.add_bias:\n",
    "            X = self._add_bias(X)\n",
    "            \n",
    "        params = np.linalg.inv(X.T@X)@X.T@y\n",
    "        \n",
    "        if self.add_bias:\n",
    "            self.intercept_, self.coef_ = params[0:1], params[1:]\n",
    "        else:\n",
    "            self.intercept_, self.coef_ = np.array([0.0]), params\n",
    "            \n",
    "    def predict(self, X):\n",
    "        beta_hat = np.expand_dims(np.concatenate([self.intercept_, self.coef_]), axis=-1)\n",
    "        if self.add_bias:\n",
    "            X = self.add_bias(X)\n",
    "            \n",
    "        return X@beta_hat\n",
    "        \n",
    "    @staticmethod\n",
    "    def _add_bias(X):\n",
    "        bias = np.ones(shape=(X.shape[0], 1))\n",
    "        return np.hstack((bias, X))\n",
    "        \n",
    "    @staticmethod\n",
    "    def _check_degree(degree):\n",
    "        assert type(degree) is int, 'Please provided an integer value for degree'\n",
    "        assert degree >= 0, 'Please provide a positive value for degree'\n",
    "        \n",
    "    "
   ]
  },
  {
   "cell_type": "markdown",
   "metadata": {
    "id": "CBGWEgIJ1Z13"
   },
   "source": [
    "#### Linear model"
   ]
  },
  {
   "cell_type": "code",
   "execution_count": 9,
   "metadata": {
    "executionInfo": {
     "elapsed": 970,
     "status": "ok",
     "timestamp": 1619451576693,
     "user": {
      "displayName": "Abhishek Bhatia",
      "photoUrl": "",
      "userId": "05636063588651340588"
     },
     "user_tz": -330
    },
    "id": "WVjME0ge1Z13"
   },
   "outputs": [],
   "source": [
    "olsmodels = {}"
   ]
  },
  {
   "cell_type": "code",
   "execution_count": 10,
   "metadata": {
    "colab": {
     "base_uri": "https://localhost:8080/"
    },
    "executionInfo": {
     "elapsed": 871,
     "status": "ok",
     "timestamp": 1619451577089,
     "user": {
      "displayName": "Abhishek Bhatia",
      "photoUrl": "",
      "userId": "05636063588651340588"
     },
     "user_tz": -330
    },
    "id": "OnspppF61Z13",
    "outputId": "d2e96b0f-0fd9-4f18-b50c-67e61d921246"
   },
   "outputs": [
    {
     "data": {
      "text/plain": [
       "(array([1.83345236]), array([2.98801215]))"
      ]
     },
     "execution_count": 10,
     "metadata": {
      "tags": []
     },
     "output_type": "execute_result"
    }
   ],
   "source": [
    "olsmodel = OLSRegressor(add_bias=True)\n",
    "olsmodel.fit(X, ys['linear'])\n",
    "olsmodels['linear'] = olsmodel\n",
    "olsmodel.intercept_, olsmodel.coef_"
   ]
  },
  {
   "cell_type": "markdown",
   "metadata": {
    "id": "Adk-GuL_1Z13"
   },
   "source": [
    "#### Quadratic model"
   ]
  },
  {
   "cell_type": "code",
   "execution_count": 11,
   "metadata": {
    "colab": {
     "base_uri": "https://localhost:8080/"
    },
    "executionInfo": {
     "elapsed": 1229,
     "status": "ok",
     "timestamp": 1619451578297,
     "user": {
      "displayName": "Abhishek Bhatia",
      "photoUrl": "",
      "userId": "05636063588651340588"
     },
     "user_tz": -330
    },
    "id": "8ckw-Tdv1Z14",
    "outputId": "e4ffcda1-301b-4133-8667-bb3935b3273c"
   },
   "outputs": [
    {
     "data": {
      "text/plain": [
       "(array([0.11292078]), array([ 2.07431224, -0.10153367]))"
      ]
     },
     "execution_count": 11,
     "metadata": {
      "tags": []
     },
     "output_type": "execute_result"
    }
   ],
   "source": [
    "olsmodel = OLSRegressor(add_bias=True)\n",
    "olsmodel.fit(np.hstack([X, X**2]), ys['quadratic'])\n",
    "olsmodels['quadratic'] = olsmodel\n",
    "olsmodel.intercept_, olsmodel.coef_"
   ]
  },
  {
   "cell_type": "markdown",
   "metadata": {
    "id": "9JMwa4uU1Z14"
   },
   "source": [
    "## sklearn `LinearRegression` Estimate"
   ]
  },
  {
   "cell_type": "code",
   "execution_count": 12,
   "metadata": {
    "executionInfo": {
     "elapsed": 1943,
     "status": "ok",
     "timestamp": 1619451579762,
     "user": {
      "displayName": "Abhishek Bhatia",
      "photoUrl": "",
      "userId": "05636063588651340588"
     },
     "user_tz": -330
    },
    "id": "wv-iw4jm1Z14"
   },
   "outputs": [],
   "source": [
    "from sklearn.linear_model import LinearRegression"
   ]
  },
  {
   "cell_type": "code",
   "execution_count": 13,
   "metadata": {
    "executionInfo": {
     "elapsed": 1514,
     "status": "ok",
     "timestamp": 1619451579763,
     "user": {
      "displayName": "Abhishek Bhatia",
      "photoUrl": "",
      "userId": "05636063588651340588"
     },
     "user_tz": -330
    },
    "id": "QMKsmcLY1Z14"
   },
   "outputs": [],
   "source": [
    "linregmodels = {}"
   ]
  },
  {
   "cell_type": "markdown",
   "metadata": {
    "id": "_LiLi6C11Z14"
   },
   "source": [
    "#### Linear model"
   ]
  },
  {
   "cell_type": "code",
   "execution_count": 14,
   "metadata": {
    "colab": {
     "base_uri": "https://localhost:8080/"
    },
    "executionInfo": {
     "elapsed": 1251,
     "status": "ok",
     "timestamp": 1619451580348,
     "user": {
      "displayName": "Abhishek Bhatia",
      "photoUrl": "",
      "userId": "05636063588651340588"
     },
     "user_tz": -330
    },
    "id": "EV3uGI4a1Z15",
    "outputId": "cf646186-18a0-45e5-9eb6-c3178dc89f94"
   },
   "outputs": [
    {
     "data": {
      "text/plain": [
       "(1.7628005007690497, array([-0.97169772]))"
      ]
     },
     "execution_count": 14,
     "metadata": {
      "tags": []
     },
     "output_type": "execute_result"
    }
   ],
   "source": [
    "linregmodel = LinearRegression()\n",
    "linregmodel.fit(X, y)\n",
    "linregmodels['linear'] = linregmodel\n",
    "linregmodel.intercept_, linregmodel.coef_"
   ]
  },
  {
   "cell_type": "markdown",
   "metadata": {
    "id": "t7i1snY51Z15"
   },
   "source": [
    "#### Quadratic model"
   ]
  },
  {
   "cell_type": "code",
   "execution_count": 15,
   "metadata": {
    "colab": {
     "base_uri": "https://localhost:8080/"
    },
    "executionInfo": {
     "elapsed": 1295,
     "status": "ok",
     "timestamp": 1619451581866,
     "user": {
      "displayName": "Abhishek Bhatia",
      "photoUrl": "",
      "userId": "05636063588651340588"
     },
     "user_tz": -330
    },
    "id": "go55mBIL1Z15",
    "outputId": "c2fd2fc6-24af-43b9-d8fb-5f0a33ddfa60"
   },
   "outputs": [
    {
     "data": {
      "text/plain": [
       "(0.11292078464846078, array([ 2.07431224, -0.10153367]))"
      ]
     },
     "execution_count": 15,
     "metadata": {
      "tags": []
     },
     "output_type": "execute_result"
    }
   ],
   "source": [
    "linregmodel = LinearRegression()\n",
    "linregmodel.fit(np.hstack([X, X**2]), y)\n",
    "linregmodels['quadratic'] = linregmodel\n",
    "linregmodel.intercept_, linregmodel.coef_"
   ]
  },
  {
   "cell_type": "markdown",
   "metadata": {
    "id": "OfhoxcDq1Z15"
   },
   "source": [
    "## Minimizing any function in Tensorflow"
   ]
  },
  {
   "cell_type": "markdown",
   "metadata": {
    "id": "2HMiuyCw1Z15"
   },
   "source": [
    "#### Minimize $y=x^2$"
   ]
  },
  {
   "cell_type": "code",
   "execution_count": 16,
   "metadata": {
    "executionInfo": {
     "elapsed": 1105,
     "status": "ok",
     "timestamp": 1619451582940,
     "user": {
      "displayName": "Abhishek Bhatia",
      "photoUrl": "",
      "userId": "05636063588651340588"
     },
     "user_tz": -330
    },
    "id": "hxW4doP81Z16"
   },
   "outputs": [],
   "source": [
    "x = tf.Variable(2.)\n",
    "\n",
    "def f(x):\n",
    "    return x*x\n",
    "\n",
    "with tf.GradientTape() as tape:\n",
    "    tape.watch(x)\n",
    "    \n",
    "opt = tf.keras.optimizers.SGD(learning_rate=0.1)\n",
    "xvals = []\n",
    "for i in range(30):\n",
    "    opt.minimize(lambda : f(x), var_list=[x])\n",
    "    xvals.append(x.numpy())\n",
    "    \n",
    "    "
   ]
  },
  {
   "cell_type": "code",
   "execution_count": 17,
   "metadata": {
    "executionInfo": {
     "elapsed": 1125,
     "status": "ok",
     "timestamp": 1619451584308,
     "user": {
      "displayName": "Abhishek Bhatia",
      "photoUrl": "",
      "userId": "05636063588651340588"
     },
     "user_tz": -330
    },
    "id": "px5OvkSq1Z16"
   },
   "outputs": [],
   "source": [
    "fvals = list(map(f, xvals))"
   ]
  },
  {
   "cell_type": "code",
   "execution_count": 18,
   "metadata": {
    "colab": {
     "base_uri": "https://localhost:8080/",
     "height": 282
    },
    "executionInfo": {
     "elapsed": 1365,
     "status": "ok",
     "timestamp": 1619451585005,
     "user": {
      "displayName": "Abhishek Bhatia",
      "photoUrl": "",
      "userId": "05636063588651340588"
     },
     "user_tz": -330
    },
    "id": "7Rku-kdf1Z16",
    "outputId": "1aeff15a-18c5-4b00-e109-96ec241bb1bd"
   },
   "outputs": [
    {
     "data": {
      "text/plain": [
       "<matplotlib.collections.PathCollection at 0x7f52af28ddd0>"
      ]
     },
     "execution_count": 18,
     "metadata": {
      "tags": []
     },
     "output_type": "execute_result"
    },
    {
     "data": {
      "image/png": "[encoded data removed]",
      "text/plain": [
       "<Figure size 432x288 with 1 Axes>"
      ]
     },
     "metadata": {
      "needs_background": "light",
      "tags": []
     },
     "output_type": "display_data"
    }
   ],
   "source": [
    "pm = PolynomialModel([0, 0, 1], stderr=0) # For y = x^2\n",
    "Xvals = np.expand_dims(np.linspace(-2, 2, 100), axis=-1)\n",
    "ax = pm.plot(Xvals)\n",
    "ax.scatter(xvals, fvals, color='red')"
   ]
  },
  {
   "cell_type": "markdown",
   "metadata": {
    "id": "XwWY7_lF1Z16"
   },
   "source": [
    "## Fitting Simple Linear Regression model with tensorflow"
   ]
  },
  {
   "cell_type": "code",
   "execution_count": 19,
   "metadata": {
    "colab": {
     "base_uri": "https://localhost:8080/"
    },
    "executionInfo": {
     "elapsed": 898,
     "status": "ok",
     "timestamp": 1619451586994,
     "user": {
      "displayName": "Abhishek Bhatia",
      "photoUrl": "",
      "userId": "05636063588651340588"
     },
     "user_tz": -330
    },
    "id": "ag89UnGS1Z16",
    "outputId": "6cba5a35-befa-499a-ae2f-507292e27185"
   },
   "outputs": [
    {
     "data": {
      "text/plain": [
       "([2, 3], 5)"
      ]
     },
     "execution_count": 19,
     "metadata": {
      "tags": []
     },
     "output_type": "execute_result"
    }
   ],
   "source": [
    "# Choose linear true relationship\n",
    "polymodel = polymodels['linear']\n",
    "polymodel.params, polymodel.stderr"
   ]
  },
  {
   "cell_type": "code",
   "execution_count": 20,
   "metadata": {
    "colab": {
     "base_uri": "https://localhost:8080/",
     "height": 354
    },
    "executionInfo": {
     "elapsed": 1588,
     "status": "error",
     "timestamp": 1619451588140,
     "user": {
      "displayName": "Abhishek Bhatia",
      "photoUrl": "",
      "userId": "05636063588651340588"
     },
     "user_tz": -330
    },
    "id": "shMohoky1Z16",
    "outputId": "1a4ac132-22d7-4e41-8434-890b7239eacc"
   },
   "outputs": [
    {
     "ename": "ValueError",
     "evalue": "ignored",
     "output_type": "error",
     "traceback": [
      "\u001b[0;31m---------------------------------------------------------------------------\u001b[0m",
      "\u001b[0;31mValueError\u001b[0m                                Traceback (most recent call last)",
      "\u001b[0;32m<ipython-input-20-3ef69543ef29>\u001b[0m in \u001b[0;36m<module>\u001b[0;34m()\u001b[0m\n\u001b[1;32m     19\u001b[0m \u001b[0mopt\u001b[0m \u001b[0;34m=\u001b[0m \u001b[0mtf\u001b[0m\u001b[0;34m.\u001b[0m\u001b[0mkeras\u001b[0m\u001b[0;34m.\u001b[0m\u001b[0moptimizers\u001b[0m\u001b[0;34m.\u001b[0m\u001b[0mAdam\u001b[0m\u001b[0;34m(\u001b[0m\u001b[0mlearning_rate\u001b[0m\u001b[0;34m=\u001b[0m\u001b[0;36m0.01\u001b[0m\u001b[0;34m)\u001b[0m\u001b[0;34m\u001b[0m\u001b[0;34m\u001b[0m\u001b[0m\n\u001b[1;32m     20\u001b[0m \u001b[0;32mfor\u001b[0m \u001b[0mi\u001b[0m \u001b[0;32min\u001b[0m \u001b[0mrange\u001b[0m\u001b[0;34m(\u001b[0m\u001b[0;36m20\u001b[0m\u001b[0;34m)\u001b[0m\u001b[0;34m:\u001b[0m\u001b[0;34m\u001b[0m\u001b[0;34m\u001b[0m\u001b[0m\n\u001b[0;32m---> 21\u001b[0;31m     \u001b[0mopt\u001b[0m\u001b[0;34m.\u001b[0m\u001b[0mminimize\u001b[0m\u001b[0;34m(\u001b[0m\u001b[0;32mlambda\u001b[0m \u001b[0;34m:\u001b[0m \u001b[0mloss_func\u001b[0m\u001b[0;34m(\u001b[0m\u001b[0mintercept\u001b[0m\u001b[0;34m,\u001b[0m \u001b[0mslope\u001b[0m\u001b[0;34m,\u001b[0m \u001b[0mX\u001b[0m\u001b[0;34m,\u001b[0m \u001b[0my\u001b[0m\u001b[0;34m)\u001b[0m\u001b[0;34m,\u001b[0m \u001b[0mvar_list\u001b[0m\u001b[0;34m=\u001b[0m\u001b[0;34m[\u001b[0m\u001b[0mintercept\u001b[0m\u001b[0;34m,\u001b[0m \u001b[0mslope\u001b[0m\u001b[0;34m]\u001b[0m\u001b[0;34m)\u001b[0m\u001b[0;34m\u001b[0m\u001b[0;34m\u001b[0m\u001b[0m\n\u001b[0m",
      "\u001b[0;32m/usr/local/lib/python3.7/dist-packages/tensorflow/python/keras/optimizer_v2/optimizer_v2.py\u001b[0m in \u001b[0;36mminimize\u001b[0;34m(self, loss, var_list, grad_loss, name, tape)\u001b[0m\n\u001b[1;32m    496\u001b[0m     grads_and_vars = self._compute_gradients(\n\u001b[1;32m    497\u001b[0m         loss, var_list=var_list, grad_loss=grad_loss, tape=tape)\n\u001b[0;32m--> 498\u001b[0;31m     \u001b[0;32mreturn\u001b[0m \u001b[0mself\u001b[0m\u001b[0;34m.\u001b[0m\u001b[0mapply_gradients\u001b[0m\u001b[0;34m(\u001b[0m\u001b[0mgrads_and_vars\u001b[0m\u001b[0;34m,\u001b[0m \u001b[0mname\u001b[0m\u001b[0;34m=\u001b[0m\u001b[0mname\u001b[0m\u001b[0;34m)\u001b[0m\u001b[0;34m\u001b[0m\u001b[0;34m\u001b[0m\u001b[0m\n\u001b[0m\u001b[1;32m    499\u001b[0m \u001b[0;34m\u001b[0m\u001b[0m\n\u001b[1;32m    500\u001b[0m   \u001b[0;32mdef\u001b[0m \u001b[0m_compute_gradients\u001b[0m\u001b[0;34m(\u001b[0m\u001b[0mself\u001b[0m\u001b[0;34m,\u001b[0m \u001b[0mloss\u001b[0m\u001b[0;34m,\u001b[0m \u001b[0mvar_list\u001b[0m\u001b[0;34m,\u001b[0m \u001b[0mgrad_loss\u001b[0m\u001b[0;34m=\u001b[0m\u001b[0;32mNone\u001b[0m\u001b[0;34m,\u001b[0m \u001b[0mtape\u001b[0m\u001b[0;34m=\u001b[0m\u001b[0;32mNone\u001b[0m\u001b[0;34m)\u001b[0m\u001b[0;34m:\u001b[0m\u001b[0;34m\u001b[0m\u001b[0;34m\u001b[0m\u001b[0m\n",
      "\u001b[0;32m/usr/local/lib/python3.7/dist-packages/tensorflow/python/keras/optimizer_v2/optimizer_v2.py\u001b[0m in \u001b[0;36mapply_gradients\u001b[0;34m(self, grads_and_vars, name, experimental_aggregate_gradients)\u001b[0m\n\u001b[1;32m    596\u001b[0m       \u001b[0mRuntimeError\u001b[0m\u001b[0;34m:\u001b[0m \u001b[0mIf\u001b[0m \u001b[0mcalled\u001b[0m \u001b[0;32min\u001b[0m \u001b[0ma\u001b[0m \u001b[0mcross\u001b[0m\u001b[0;34m-\u001b[0m\u001b[0mreplica\u001b[0m \u001b[0mcontext\u001b[0m\u001b[0;34m.\u001b[0m\u001b[0;34m\u001b[0m\u001b[0;34m\u001b[0m\u001b[0m\n\u001b[1;32m    597\u001b[0m     \"\"\"\n\u001b[0;32m--> 598\u001b[0;31m     \u001b[0mgrads_and_vars\u001b[0m \u001b[0;34m=\u001b[0m \u001b[0moptimizer_utils\u001b[0m\u001b[0;34m.\u001b[0m\u001b[0mfilter_empty_gradients\u001b[0m\u001b[0;34m(\u001b[0m\u001b[0mgrads_and_vars\u001b[0m\u001b[0;34m)\u001b[0m\u001b[0;34m\u001b[0m\u001b[0;34m\u001b[0m\u001b[0m\n\u001b[0m\u001b[1;32m    599\u001b[0m     \u001b[0mvar_list\u001b[0m \u001b[0;34m=\u001b[0m \u001b[0;34m[\u001b[0m\u001b[0mv\u001b[0m \u001b[0;32mfor\u001b[0m \u001b[0;34m(\u001b[0m\u001b[0m_\u001b[0m\u001b[0;34m,\u001b[0m \u001b[0mv\u001b[0m\u001b[0;34m)\u001b[0m \u001b[0;32min\u001b[0m \u001b[0mgrads_and_vars\u001b[0m\u001b[0;34m]\u001b[0m\u001b[0;34m\u001b[0m\u001b[0;34m\u001b[0m\u001b[0m\n\u001b[1;32m    600\u001b[0m \u001b[0;34m\u001b[0m\u001b[0m\n",
      "\u001b[0;32m/usr/local/lib/python3.7/dist-packages/tensorflow/python/keras/optimizer_v2/utils.py\u001b[0m in \u001b[0;36mfilter_empty_gradients\u001b[0;34m(grads_and_vars)\u001b[0m\n\u001b[1;32m     77\u001b[0m   \u001b[0;32mif\u001b[0m \u001b[0;32mnot\u001b[0m \u001b[0mfiltered\u001b[0m\u001b[0;34m:\u001b[0m\u001b[0;34m\u001b[0m\u001b[0;34m\u001b[0m\u001b[0m\n\u001b[1;32m     78\u001b[0m     raise ValueError(\"No gradients provided for any variable: %s.\" %\n\u001b[0;32m---> 79\u001b[0;31m                      ([v.name for _, v in grads_and_vars],))\n\u001b[0m\u001b[1;32m     80\u001b[0m   \u001b[0;32mif\u001b[0m \u001b[0mvars_with_empty_grads\u001b[0m\u001b[0;34m:\u001b[0m\u001b[0;34m\u001b[0m\u001b[0;34m\u001b[0m\u001b[0m\n\u001b[1;32m     81\u001b[0m     logging.warning(\n",
      "\u001b[0;31mValueError\u001b[0m: No gradients provided for any variable: ['Variable:0', 'Variable:0']."
     ]
    }
   ],
   "source": [
    "intercept = tf.Variable(polymodel.params[0], dtype=tf.float32)\n",
    "slope = tf.Variable(polymodel.params[1], dtype=tf.float32)\n",
    "\n",
    "def predict(intercept, slope, X):\n",
    "    m = PolynomialModel([intercept, slope], stderr=0)\n",
    "    return m(X)\n",
    "\n",
    "def mse(labels, preds):\n",
    "    return tf.keras.losses.mse(labels, preds)\n",
    "    \n",
    "def loss_func(intercept, slope, X, y):\n",
    "    predictions = predict(intercept, slope, X)\n",
    "    return mse(y, predictions)\n",
    "\n",
    "with tf.GradientTape() as tape:\n",
    "    tape.watch(intercept)\n",
    "    tape.watch(slope)\n",
    "    \n",
    "opt = tf.keras.optimizers.Adam(learning_rate=0.01)\n",
    "for i in range(20):\n",
    "    opt.minimize(lambda : loss_func(intercept, slope, X, y), var_list=[intercept, slope])"
   ]
  },
  {
   "cell_type": "code",
   "execution_count": null,
   "metadata": {
    "id": "FPNaRCKi1Z17",
    "outputId": "993ab7c7-0fca-4a8e-b868-f51019093765"
   },
   "outputs": [
    {
     "data": {
      "text/plain": [
       "array([5.], dtype=float32)"
      ]
     },
     "execution_count": 152,
     "metadata": {
      "tags": []
     },
     "output_type": "execute_result"
    }
   ],
   "source": [
    "PolynomialModel([intercept, slope], stderr=0)(np.array([[1]]))"
   ]
  },
  {
   "cell_type": "code",
   "execution_count": null,
   "metadata": {
    "id": "m2jahKEN1Z17",
    "outputId": "14b802a4-6759-418c-9de4-12a5883f35b6"
   },
   "outputs": [
    {
     "data": {
      "text/plain": [
       "<tf.Tensor: shape=(), dtype=float64, numpy=25.98332252935519>"
      ]
     },
     "execution_count": 170,
     "metadata": {
      "tags": []
     },
     "output_type": "execute_result"
    }
   ],
   "source": [
    "loss_func(intercept, slope, X, y)"
   ]
  },
  {
   "cell_type": "code",
   "execution_count": null,
   "metadata": {
    "id": "41B8_Xyc1Z17",
    "outputId": "14749b5a-1d33-4ea9-aa87-66c8f3027341"
   },
   "outputs": [
    {
     "ename": "TypeError",
     "evalue": "_sum_dispatcher() missing 1 required positional argument: 'a'",
     "output_type": "error",
     "traceback": [
      "\u001b[1;31m---------------------------------------------------------------------------\u001b[0m",
      "\u001b[1;31mTypeError\u001b[0m                                 Traceback (most recent call last)",
      "\u001b[1;32m<ipython-input-131-7a7855b7e6cc>\u001b[0m in \u001b[0;36m<module>\u001b[1;34m\u001b[0m\n\u001b[1;32m----> 1\u001b[1;33m \u001b[0mnp\u001b[0m\u001b[1;33m.\u001b[0m\u001b[0msum\u001b[0m\u001b[1;33m(\u001b[0m\u001b[1;33m)\u001b[0m\u001b[1;33m\u001b[0m\u001b[1;33m\u001b[0m\u001b[0m\n\u001b[0m",
      "\u001b[1;32m<__array_function__ internals>\u001b[0m in \u001b[0;36msum\u001b[1;34m(*args, **kwargs)\u001b[0m\n",
      "\u001b[1;31mTypeError\u001b[0m: _sum_dispatcher() missing 1 required positional argument: 'a'"
     ]
    }
   ],
   "source": [
    "np.sum()"
   ]
  },
  {
   "cell_type": "code",
   "execution_count": null,
   "metadata": {
    "id": "6JGtlur51Z17"
   },
   "outputs": [],
   "source": []
  }
 ],
 "metadata": {
  "colab": {
   "name": "01A-tensorflow-neural-network-regression.ipynb",
   "provenance": []
  },
  "kernelspec": {
   "display_name": "Python 3",
   "language": "python",
   "name": "python3"
  },
  "language_info": {
   "codemirror_mode": {
    "name": "ipython",
    "version": 3
   },
   "file_extension": ".py",
   "mimetype": "text/x-python",
   "name": "python",
   "nbconvert_exporter": "python",
   "pygments_lexer": "ipython3",
   "version": "3.7.10"
  }
 },
 "nbformat": 4,
 "nbformat_minor": 4
}
