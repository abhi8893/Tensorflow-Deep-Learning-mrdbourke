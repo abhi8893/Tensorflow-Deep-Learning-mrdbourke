{
 "cells": [
  {
   "cell_type": "markdown",
   "metadata": {
    "id": "a9tyXMM6Sv-o"
   },
   "source": [
    "### Google Colab: Mount Drive and change to project notebook"
   ]
  },
  {
   "cell_type": "code",
   "execution_count": 1,
   "metadata": {
    "executionInfo": {
     "elapsed": 3266,
     "status": "ok",
     "timestamp": 1618843283702,
     "user": {
      "displayName": "Abhishek Bhatia",
      "photoUrl": "",
      "userId": "05636063588651340588"
     },
     "user_tz": -330
    },
    "id": "gtDNMYtdSzAV"
   },
   "outputs": [],
   "source": [
    "import os\n",
    "os.chdir('/content/drive/MyDrive/projects/Tensorflow-tutorial-Daniel-Bourke/notebooks')"
   ]
  },
  {
   "cell_type": "code",
   "execution_count": 2,
   "metadata": {
    "colab": {
     "base_uri": "https://localhost:8080/"
    },
    "executionInfo": {
     "elapsed": 3248,
     "status": "ok",
     "timestamp": 1618843283702,
     "user": {
      "displayName": "Abhishek Bhatia",
      "photoUrl": "",
      "userId": "05636063588651340588"
     },
     "user_tz": -330
    },
    "id": "Ek5TJQY3TgT_",
    "outputId": "d168adb4-ca32-405d-955d-314498ec67c2"
   },
   "outputs": [
    {
     "name": "stdout",
     "output_type": "stream",
     "text": [
      "data\tnotebooks  references  requirements.txt  setup.py  src.egg-info\n",
      "models\tREADME.md  reports     scripts\t\t src\t   venv\n"
     ]
    }
   ],
   "source": [
    "!ls ../"
   ]
  },
  {
   "cell_type": "markdown",
   "metadata": {
    "id": "Nt0JxZGQUGO1"
   },
   "source": [
    "### Google Colab: Install the package"
   ]
  },
  {
   "cell_type": "code",
   "execution_count": 3,
   "metadata": {
    "colab": {
     "base_uri": "https://localhost:8080/"
    },
    "executionInfo": {
     "elapsed": 97732,
     "status": "ok",
     "timestamp": 1618843378197,
     "user": {
      "displayName": "Abhishek Bhatia",
      "photoUrl": "",
      "userId": "05636063588651340588"
     },
     "user_tz": -330
    },
    "id": "_WZjS92aUP49",
    "outputId": "4ba5ceac-6e20-4038-9bd1-ec711054aec6"
   },
   "outputs": [
    {
     "name": "stdout",
     "output_type": "stream",
     "text": [
      "Obtaining file:///content/drive/MyDrive/projects/Tensorflow-tutorial-Daniel-Bourke\n",
      "Installing collected packages: src\n",
      "  Running setup.py develop for src\n",
      "Successfully installed src\n"
     ]
    }
   ],
   "source": [
    "!pip install -e ../."
   ]
  },
  {
   "cell_type": "markdown",
   "metadata": {
    "id": "VsEXJSpPSSTF"
   },
   "source": [
    "# Tensorflow Fundamentals\n",
    "\n",
    "Contents:\n",
    "\n",
    "* Introduction to tensors\n",
    "* Getting information from tensors\n",
    "* Manipulating tensors\n",
    "* Tensors & Numpy\n",
    "* Using @tf.function -> a way to speed up Python functions\n",
    "* Using GPUs with tensorflow\n",
    "* Exercises"
   ]
  },
  {
   "cell_type": "markdown",
   "metadata": {
    "id": "yH109IlFUiMJ"
   },
   "source": [
    "## Introduction to tensors"
   ]
  },
  {
   "cell_type": "code",
   "execution_count": 1,
   "metadata": {
    "colab": {
     "base_uri": "https://localhost:8080/",
     "height": 35
    },
    "executionInfo": {
     "elapsed": 99966,
     "status": "ok",
     "timestamp": 1618843380447,
     "user": {
      "displayName": "Abhishek Bhatia",
      "photoUrl": "",
      "userId": "05636063588651340588"
     },
     "user_tz": -330
    },
    "id": "Z-SIqrM-UB2I",
    "outputId": "3428dda3-ffb0-4d4d-ec3c-dea96f34577b"
   },
   "outputs": [
    {
     "data": {
      "text/plain": [
       "'2.4.1'"
      ]
     },
     "execution_count": 1,
     "metadata": {},
     "output_type": "execute_result"
    }
   ],
   "source": [
    "import tensorflow as tf\n",
    "tf.__version__"
   ]
  },
  {
   "cell_type": "code",
   "execution_count": 2,
   "metadata": {
    "colab": {
     "base_uri": "https://localhost:8080/"
    },
    "executionInfo": {
     "elapsed": 99958,
     "status": "ok",
     "timestamp": 1618843380449,
     "user": {
      "displayName": "Abhishek Bhatia",
      "photoUrl": "",
      "userId": "05636063588651340588"
     },
     "user_tz": -330
    },
    "id": "RmhU7mmmUObC",
    "outputId": "12148e5b-2318-4c2e-9a66-04cafe58f00a"
   },
   "outputs": [
    {
     "data": {
      "text/plain": [
       "<tf.Tensor: shape=(), dtype=int32, numpy=2>"
      ]
     },
     "execution_count": 2,
     "metadata": {},
     "output_type": "execute_result"
    }
   ],
   "source": [
    "# Define a constant tensor -> 0D Tensor\n",
    "scalar = tf.constant(2)\n",
    "scalar\n"
   ]
  },
  {
   "cell_type": "code",
   "execution_count": 3,
   "metadata": {
    "colab": {
     "base_uri": "https://localhost:8080/"
    },
    "executionInfo": {
     "elapsed": 99947,
     "status": "ok",
     "timestamp": 1618843380450,
     "user": {
      "displayName": "Abhishek Bhatia",
      "photoUrl": "",
      "userId": "05636063588651340588"
     },
     "user_tz": -330
    },
    "id": "LJYbIBUTUPNn",
    "outputId": "06843a2b-6e06-415e-ace2-176540e9271c"
   },
   "outputs": [
    {
     "data": {
      "text/plain": [
       "0"
      ]
     },
     "execution_count": 3,
     "metadata": {},
     "output_type": "execute_result"
    }
   ],
   "source": [
    "# Check the dimensions\n",
    "scalar.ndim"
   ]
  },
  {
   "cell_type": "code",
   "execution_count": 4,
   "metadata": {
    "colab": {
     "base_uri": "https://localhost:8080/"
    },
    "executionInfo": {
     "elapsed": 99934,
     "status": "ok",
     "timestamp": 1618843380451,
     "user": {
      "displayName": "Abhishek Bhatia",
      "photoUrl": "",
      "userId": "05636063588651340588"
     },
     "user_tz": -330
    },
    "id": "QjfIlmPbVVdv",
    "outputId": "0f432671-3c64-46a1-fc7d-70dc668ad8a6"
   },
   "outputs": [
    {
     "data": {
      "text/plain": [
       "TensorShape([])"
      ]
     },
     "execution_count": 4,
     "metadata": {},
     "output_type": "execute_result"
    }
   ],
   "source": [
    "# Check the shape\n",
    "scalar.shape"
   ]
  },
  {
   "cell_type": "code",
   "execution_count": 5,
   "metadata": {
    "colab": {
     "base_uri": "https://localhost:8080/"
    },
    "executionInfo": {
     "elapsed": 99922,
     "status": "ok",
     "timestamp": 1618843380452,
     "user": {
      "displayName": "Abhishek Bhatia",
      "photoUrl": "",
      "userId": "05636063588651340588"
     },
     "user_tz": -330
    },
    "id": "StQCpUXgVfq_",
    "outputId": "831eba7f-9349-4210-ae4c-a8e9f2113423"
   },
   "outputs": [
    {
     "data": {
      "text/plain": [
       "<tf.Tensor: shape=(2,), dtype=int32, numpy=array([10, 10])>"
      ]
     },
     "execution_count": 5,
     "metadata": {},
     "output_type": "execute_result"
    }
   ],
   "source": [
    "# Let's create a vector! -> 1D tensor\n",
    "row_vector = tf.constant([10, 10])\n",
    "row_vector"
   ]
  },
  {
   "cell_type": "code",
   "execution_count": 6,
   "metadata": {
    "colab": {
     "base_uri": "https://localhost:8080/"
    },
    "executionInfo": {
     "elapsed": 99913,
     "status": "ok",
     "timestamp": 1618843380453,
     "user": {
      "displayName": "Abhishek Bhatia",
      "photoUrl": "",
      "userId": "05636063588651340588"
     },
     "user_tz": -330
    },
    "id": "DOb9jbpOVqhb",
    "outputId": "cf0e0f51-8660-42dd-9fec-8aab765d166e"
   },
   "outputs": [
    {
     "data": {
      "text/plain": [
       "1"
      ]
     },
     "execution_count": 6,
     "metadata": {},
     "output_type": "execute_result"
    }
   ],
   "source": [
    "row_vector.ndim"
   ]
  },
  {
   "cell_type": "code",
   "execution_count": 7,
   "metadata": {
    "colab": {
     "base_uri": "https://localhost:8080/"
    },
    "executionInfo": {
     "elapsed": 99898,
     "status": "ok",
     "timestamp": 1618843380453,
     "user": {
      "displayName": "Abhishek Bhatia",
      "photoUrl": "",
      "userId": "05636063588651340588"
     },
     "user_tz": -330
    },
    "id": "rfOmZBXXVsmT",
    "outputId": "ceffde82-3879-4199-d028-b68aceeb37b3"
   },
   "outputs": [
    {
     "data": {
      "text/plain": [
       "TensorShape([2])"
      ]
     },
     "execution_count": 7,
     "metadata": {},
     "output_type": "execute_result"
    }
   ],
   "source": [
    "row_vector.shape"
   ]
  },
  {
   "cell_type": "markdown",
   "metadata": {
    "id": "RAU5voiGWX0G"
   },
   "source": [
    "Transposing a 1D tensor has no effect!"
   ]
  },
  {
   "cell_type": "code",
   "execution_count": 8,
   "metadata": {
    "colab": {
     "base_uri": "https://localhost:8080/"
    },
    "executionInfo": {
     "elapsed": 99886,
     "status": "ok",
     "timestamp": 1618843380454,
     "user": {
      "displayName": "Abhishek Bhatia",
      "photoUrl": "",
      "userId": "05636063588651340588"
     },
     "user_tz": -330
    },
    "id": "AbmghfKRWbQg",
    "outputId": "334e68a1-074b-4886-fa5d-c6ba993b0ef9"
   },
   "outputs": [
    {
     "data": {
      "text/plain": [
       "<tf.Tensor: shape=(2,), dtype=int32, numpy=array([10, 10])>"
      ]
     },
     "execution_count": 8,
     "metadata": {},
     "output_type": "execute_result"
    }
   ],
   "source": [
    "tf.transpose(row_vector)"
   ]
  },
  {
   "cell_type": "code",
   "execution_count": 9,
   "metadata": {
    "colab": {
     "base_uri": "https://localhost:8080/"
    },
    "executionInfo": {
     "elapsed": 99874,
     "status": "ok",
     "timestamp": 1618843380455,
     "user": {
      "displayName": "Abhishek Bhatia",
      "photoUrl": "",
      "userId": "05636063588651340588"
     },
     "user_tz": -330
    },
    "id": "FkQC9AfYVvUK",
    "outputId": "ff63c0b5-c8e1-444c-a68f-e4e929ce6e0b"
   },
   "outputs": [
    {
     "data": {
      "text/plain": [
       "<tf.Tensor: shape=(2, 1), dtype=int32, numpy=\n",
       "array([[10],\n",
       "       [10]])>"
      ]
     },
     "execution_count": 9,
     "metadata": {},
     "output_type": "execute_result"
    }
   ],
   "source": [
    "# Let's create a column vector -> 2D tensor now!\n",
    "column_vector = tf.constant([[10], [10]])\n",
    "column_vector"
   ]
  },
  {
   "cell_type": "code",
   "execution_count": 10,
   "metadata": {
    "colab": {
     "base_uri": "https://localhost:8080/"
    },
    "executionInfo": {
     "elapsed": 99862,
     "status": "ok",
     "timestamp": 1618843380455,
     "user": {
      "displayName": "Abhishek Bhatia",
      "photoUrl": "",
      "userId": "05636063588651340588"
     },
     "user_tz": -330
    },
    "id": "kuLB71OHV7Oh",
    "outputId": "b14a4b51-7345-4c60-b620-fbd31c15cae3"
   },
   "outputs": [
    {
     "data": {
      "text/plain": [
       "<tf.Tensor: shape=(2, 1), dtype=int32, numpy=\n",
       "array([[10],\n",
       "       [10]])>"
      ]
     },
     "execution_count": 10,
     "metadata": {},
     "output_type": "execute_result"
    }
   ],
   "source": [
    "# Another way to make a column vector\n",
    "column_vector = tf.transpose(tf.constant([[10, 10]]))  # Notice double square brackets\n",
    "column_vector"
   ]
  },
  {
   "cell_type": "code",
   "execution_count": 11,
   "metadata": {
    "colab": {
     "base_uri": "https://localhost:8080/"
    },
    "executionInfo": {
     "elapsed": 99850,
     "status": "ok",
     "timestamp": 1618843380456,
     "user": {
      "displayName": "Abhishek Bhatia",
      "photoUrl": "",
      "userId": "05636063588651340588"
     },
     "user_tz": -330
    },
    "id": "Bh3bm0twWWUt",
    "outputId": "14848615-8949-4940-90bc-090bd37ea920"
   },
   "outputs": [
    {
     "data": {
      "text/plain": [
       "2"
      ]
     },
     "execution_count": 11,
     "metadata": {},
     "output_type": "execute_result"
    }
   ],
   "source": [
    "column_vector.ndim"
   ]
  },
  {
   "cell_type": "code",
   "execution_count": 12,
   "metadata": {
    "colab": {
     "base_uri": "https://localhost:8080/"
    },
    "executionInfo": {
     "elapsed": 99839,
     "status": "ok",
     "timestamp": 1618843380457,
     "user": {
      "displayName": "Abhishek Bhatia",
      "photoUrl": "",
      "userId": "05636063588651340588"
     },
     "user_tz": -330
    },
    "id": "C4MKVyBuXFU0",
    "outputId": "612d2dc5-e32d-44dc-e414-075a3c0e0a07"
   },
   "outputs": [
    {
     "data": {
      "text/plain": [
       "TensorShape([2, 1])"
      ]
     },
     "execution_count": 12,
     "metadata": {},
     "output_type": "execute_result"
    }
   ],
   "source": [
    "column_vector.shape"
   ]
  },
  {
   "cell_type": "code",
   "execution_count": 13,
   "metadata": {
    "colab": {
     "base_uri": "https://localhost:8080/"
    },
    "executionInfo": {
     "elapsed": 100363,
     "status": "ok",
     "timestamp": 1618843380993,
     "user": {
      "displayName": "Abhishek Bhatia",
      "photoUrl": "",
      "userId": "05636063588651340588"
     },
     "user_tz": -330
    },
    "id": "gR8Xw2mwXeMG",
    "outputId": "653bee73-f19d-4dd3-cb21-f313920eb964"
   },
   "outputs": [
    {
     "data": {
      "text/plain": [
       "<tf.Tensor: shape=(2,), dtype=int32, numpy=array([10, 10])>"
      ]
     },
     "execution_count": 13,
     "metadata": {},
     "output_type": "execute_result"
    }
   ],
   "source": [
    "# You can squeeze out the \"redundant\" dimensions\n",
    "tf.squeeze(column_vector)"
   ]
  },
  {
   "cell_type": "code",
   "execution_count": 14,
   "metadata": {
    "colab": {
     "base_uri": "https://localhost:8080/"
    },
    "executionInfo": {
     "elapsed": 100353,
     "status": "ok",
     "timestamp": 1618843380994,
     "user": {
      "displayName": "Abhishek Bhatia",
      "photoUrl": "",
      "userId": "05636063588651340588"
     },
     "user_tz": -330
    },
    "id": "NeGM9TMRXlCH",
    "outputId": "e8fb8a83-590b-426f-ff45-6abaa880619b"
   },
   "outputs": [
    {
     "data": {
      "text/plain": [
       "<tf.Tensor: shape=(2, 1), dtype=int32, numpy=\n",
       "array([[10],\n",
       "       [10]])>"
      ]
     },
     "execution_count": 14,
     "metadata": {},
     "output_type": "execute_result"
    }
   ],
   "source": [
    "# Or you can add an extra dimension by tf.newaxis\n",
    "row_vector[:, tf.newaxis]"
   ]
  },
  {
   "cell_type": "code",
   "execution_count": 15,
   "metadata": {
    "colab": {
     "base_uri": "https://localhost:8080/"
    },
    "executionInfo": {
     "elapsed": 100343,
     "status": "ok",
     "timestamp": 1618843380995,
     "user": {
      "displayName": "Abhishek Bhatia",
      "photoUrl": "",
      "userId": "05636063588651340588"
     },
     "user_tz": -330
    },
    "id": "D6KLYT5xXr8n",
    "outputId": "b2c7ec3a-091e-44e7-dc98-2b6bfccc4284"
   },
   "outputs": [
    {
     "data": {
      "text/plain": [
       "<tf.Tensor: shape=(2, 1), dtype=int32, numpy=\n",
       "array([[10],\n",
       "       [10]])>"
      ]
     },
     "execution_count": 15,
     "metadata": {},
     "output_type": "execute_result"
    }
   ],
   "source": [
    "# or doing this\n",
    "tf.expand_dims(row_vector, axis=-1)"
   ]
  },
  {
   "cell_type": "code",
   "execution_count": 16,
   "metadata": {
    "colab": {
     "base_uri": "https://localhost:8080/"
    },
    "executionInfo": {
     "elapsed": 100331,
     "status": "ok",
     "timestamp": 1618843380995,
     "user": {
      "displayName": "Abhishek Bhatia",
      "photoUrl": "",
      "userId": "05636063588651340588"
     },
     "user_tz": -330
    },
    "id": "FSYK1IysYnvU",
    "outputId": "62e0f6fb-6313-4c25-be1f-0025930d9014"
   },
   "outputs": [
    {
     "data": {
      "text/plain": [
       "<tf.Tensor: shape=(2, 1), dtype=int32, numpy=\n",
       "array([[10],\n",
       "       [10]])>"
      ]
     },
     "execution_count": 16,
     "metadata": {},
     "output_type": "execute_result"
    }
   ],
   "source": [
    "# Or doing this\n",
    "tf.reshape(row_vector, shape=(*row_vector.shape, 1))"
   ]
  },
  {
   "cell_type": "code",
   "execution_count": 17,
   "metadata": {
    "colab": {
     "base_uri": "https://localhost:8080/"
    },
    "executionInfo": {
     "elapsed": 100316,
     "status": "ok",
     "timestamp": 1618843380996,
     "user": {
      "displayName": "Abhishek Bhatia",
      "photoUrl": "",
      "userId": "05636063588651340588"
     },
     "user_tz": -330
    },
    "id": "ug9vvIRoXHV6",
    "outputId": "88ce1628-803c-441a-9cd8-543895dd0b20"
   },
   "outputs": [
    {
     "data": {
      "text/plain": [
       "<tf.Tensor: shape=(3, 2), dtype=int32, numpy=\n",
       "array([[1, 2],\n",
       "       [3, 4],\n",
       "       [5, 6]])>"
      ]
     },
     "execution_count": 17,
     "metadata": {},
     "output_type": "execute_result"
    }
   ],
   "source": [
    "# Let's create a matrix -> 2D Tensor\n",
    "matrix = tf.constant([[1, 2],\n",
    "                      [3, 4],\n",
    "                      [5, 6]])\n",
    "matrix"
   ]
  },
  {
   "cell_type": "code",
   "execution_count": 18,
   "metadata": {
    "colab": {
     "base_uri": "https://localhost:8080/"
    },
    "executionInfo": {
     "elapsed": 100304,
     "status": "ok",
     "timestamp": 1618843380996,
     "user": {
      "displayName": "Abhishek Bhatia",
      "photoUrl": "",
      "userId": "05636063588651340588"
     },
     "user_tz": -330
    },
    "id": "4aA8DS9nXS5A",
    "outputId": "c913ff5b-f3f2-4f88-9d64-3569895157c7"
   },
   "outputs": [
    {
     "data": {
      "text/plain": [
       "2"
      ]
     },
     "execution_count": 18,
     "metadata": {},
     "output_type": "execute_result"
    }
   ],
   "source": [
    "# Check the dimensions\n",
    "matrix.ndim"
   ]
  },
  {
   "cell_type": "code",
   "execution_count": 19,
   "metadata": {
    "colab": {
     "base_uri": "https://localhost:8080/"
    },
    "executionInfo": {
     "elapsed": 100292,
     "status": "ok",
     "timestamp": 1618843380997,
     "user": {
      "displayName": "Abhishek Bhatia",
      "photoUrl": "",
      "userId": "05636063588651340588"
     },
     "user_tz": -330
    },
    "id": "Xx3saakJXbZp",
    "outputId": "e4b66cdf-2dc2-4701-d61f-140fedc7eae7"
   },
   "outputs": [
    {
     "data": {
      "text/plain": [
       "TensorShape([3, 2])"
      ]
     },
     "execution_count": 19,
     "metadata": {},
     "output_type": "execute_result"
    }
   ],
   "source": [
    "# Check the shape\n",
    "matrix.shape"
   ]
  },
  {
   "cell_type": "code",
   "execution_count": 20,
   "metadata": {
    "colab": {
     "base_uri": "https://localhost:8080/"
    },
    "executionInfo": {
     "elapsed": 100281,
     "status": "ok",
     "timestamp": 1618843380997,
     "user": {
      "displayName": "Abhishek Bhatia",
      "photoUrl": "",
      "userId": "05636063588651340588"
     },
     "user_tz": -330
    },
    "id": "9tJ0x4TyY8-C",
    "outputId": "636615c7-9bb1-4cb7-df52-a203fb1486d4"
   },
   "outputs": [
    {
     "data": {
      "text/plain": [
       "<tf.Tensor: shape=(2, 3), dtype=float16, numpy=\n",
       "array([[1., 2., 3.],\n",
       "       [4., 5., 6.]], dtype=float16)>"
      ]
     },
     "execution_count": 20,
     "metadata": {},
     "output_type": "execute_result"
    }
   ],
   "source": [
    "# Another matrix\n",
    "another_matrix = tf.constant([[1, 2, 3],\n",
    "                              [4, 5, 6]], dtype=tf.float16) # Specify the dtype\n",
    "another_matrix                              "
   ]
  },
  {
   "cell_type": "code",
   "execution_count": 21,
   "metadata": {
    "colab": {
     "base_uri": "https://localhost:8080/"
    },
    "executionInfo": {
     "elapsed": 100271,
     "status": "ok",
     "timestamp": 1618843380998,
     "user": {
      "displayName": "Abhishek Bhatia",
      "photoUrl": "",
      "userId": "05636063588651340588"
     },
     "user_tz": -330
    },
    "id": "8wnN6hPKZJtf",
    "outputId": "f6c27ca8-f3cf-4851-98d7-61a4cbc121a8"
   },
   "outputs": [
    {
     "data": {
      "text/plain": [
       "<tf.Tensor: shape=(1, 3, 3), dtype=int32, numpy=\n",
       "array([[[1, 2, 3],\n",
       "        [4, 5, 6],\n",
       "        [7, 8, 9]]])>"
      ]
     },
     "execution_count": 21,
     "metadata": {},
     "output_type": "execute_result"
    }
   ],
   "source": [
    "# Now let's create a \"real\" tensor aka more than 2 dimensions!\n",
    "tensor = tf.constant([[[1, 2, 3],\n",
    "                       [4, 5, 6],\n",
    "                       [7, 8, 9]]], \n",
    "                     dtype=tf.int32)\n",
    "\n",
    "tensor"
   ]
  },
  {
   "cell_type": "code",
   "execution_count": 22,
   "metadata": {
    "colab": {
     "base_uri": "https://localhost:8080/"
    },
    "executionInfo": {
     "elapsed": 100257,
     "status": "ok",
     "timestamp": 1618843380998,
     "user": {
      "displayName": "Abhishek Bhatia",
      "photoUrl": "",
      "userId": "05636063588651340588"
     },
     "user_tz": -330
    },
    "id": "zp5nLAexZuZC",
    "outputId": "d9a4e508-1733-47f8-e787-36f13bfb8d13"
   },
   "outputs": [
    {
     "data": {
      "text/plain": [
       "3"
      ]
     },
     "execution_count": 22,
     "metadata": {},
     "output_type": "execute_result"
    }
   ],
   "source": [
    "# Check the number of dims\n",
    "tensor.ndim"
   ]
  },
  {
   "cell_type": "code",
   "execution_count": 23,
   "metadata": {
    "colab": {
     "base_uri": "https://localhost:8080/"
    },
    "executionInfo": {
     "elapsed": 100245,
     "status": "ok",
     "timestamp": 1618843381000,
     "user": {
      "displayName": "Abhishek Bhatia",
      "photoUrl": "",
      "userId": "05636063588651340588"
     },
     "user_tz": -330
    },
    "id": "C0zm0EaZZzKc",
    "outputId": "f8ec9c78-1797-43c2-e895-31d576babab0"
   },
   "outputs": [
    {
     "data": {
      "text/plain": [
       "TensorShape([1, 3, 3])"
      ]
     },
     "execution_count": 23,
     "metadata": {},
     "output_type": "execute_result"
    }
   ],
   "source": [
    "# Check the shape\n",
    "tensor.shape"
   ]
  },
  {
   "cell_type": "markdown",
   "metadata": {
    "id": "ggVBlslqZ3F_"
   },
   "source": [
    "What we have created so far:\n",
    "\n",
    "* Scalar -> 0D Tensor\n",
    "* Vector (Row) - > 1D Tensor \n",
    "* Vector (Column) -> 2D Tensor \n",
    "* Matrix -> 2D Tensor\n",
    "* Tensor -> A generalisation in n-dimensions -> nD Tensor\n",
    "\n",
    "\n",
    "Use case of Tensor?\n",
    "\n",
    "Series of images in a training set, trained in batch (BATCH_SIZE, WIDTH, HEIGHT, CHANNELS) = (32, 224, 224, 3)\n",
    "\n",
    "- Batch size taken as 32 (Faster Gradient Descent, Batches fit in memory, data augmentaion in batches, inference/prediction in batches)\n",
    "- 224 - Height of the image \n",
    "- 224 - Width of the image\n",
    "- 3 - RGB Channels\n",
    "\n",
    "Suppose we have 6400 RGB images of arbitrary size (Varying size)\n",
    "* Reshape all images to be of a constant size (224, 224)\n",
    "* Now the dataset Tensor would have the dimension: (6400, 224, 224, 3)\n",
    "* Divide into batches based on batch_size = 32 (power of 2 to better fit in the memory, not sure why? hmmm..)\n",
    "* New dimensions -> (32, 224, 224, 3)\n",
    " \n",
    "\n"
   ]
  },
  {
   "cell_type": "markdown",
   "metadata": {
    "id": "6kf-HllxaMGE"
   },
   "source": [
    "## Creating tensors with `tf.Variable`"
   ]
  },
  {
   "cell_type": "code",
   "execution_count": 24,
   "metadata": {
    "colab": {
     "base_uri": "https://localhost:8080/"
    },
    "executionInfo": {
     "elapsed": 100234,
     "status": "ok",
     "timestamp": 1618843381002,
     "user": {
      "displayName": "Abhishek Bhatia",
      "photoUrl": "",
      "userId": "05636063588651340588"
     },
     "user_tz": -330
    },
    "id": "zeiuibSQeLLx",
    "outputId": "7e93809b-7ebd-4fc3-bf7c-c5b12311aba1"
   },
   "outputs": [
    {
     "data": {
      "text/plain": [
       "(<tf.Variable 'Variable:0' shape=(2,) dtype=int32, numpy=array([1, 2])>,\n",
       " <tf.Tensor: shape=(2,), dtype=int32, numpy=array([1, 2])>)"
      ]
     },
     "execution_count": 24,
     "metadata": {},
     "output_type": "execute_result"
    }
   ],
   "source": [
    "changeable_tensor = tf.Variable([1, 2])\n",
    "unchangeable_tensor = tf.constant([1, 2])\n",
    "changeable_tensor, unchangeable_tensor"
   ]
  },
  {
   "cell_type": "code",
   "execution_count": 25,
   "metadata": {
    "colab": {
     "base_uri": "https://localhost:8080/",
     "height": 183
    },
    "executionInfo": {
     "elapsed": 100673,
     "status": "error",
     "timestamp": 1618843381457,
     "user": {
      "displayName": "Abhishek Bhatia",
      "photoUrl": "",
      "userId": "05636063588651340588"
     },
     "user_tz": -330
    },
    "id": "qRMWu9qAeZIW",
    "outputId": "6af82a9e-19f4-4435-a306-74038d7b0df9"
   },
   "outputs": [
    {
     "ename": "TypeError",
     "evalue": "'ResourceVariable' object does not support item assignment",
     "output_type": "error",
     "traceback": [
      "\u001b[1;31m---------------------------------------------------------------------------\u001b[0m",
      "\u001b[1;31mTypeError\u001b[0m                                 Traceback (most recent call last)",
      "\u001b[1;32m<ipython-input-25-fccf5ec3691e>\u001b[0m in \u001b[0;36m<module>\u001b[1;34m\u001b[0m\n\u001b[0;32m      1\u001b[0m \u001b[1;31m# Let's try changing one of the element's value in changeable tensor\u001b[0m\u001b[1;33m\u001b[0m\u001b[1;33m\u001b[0m\u001b[1;33m\u001b[0m\u001b[0m\n\u001b[1;32m----> 2\u001b[1;33m \u001b[0mchangeable_tensor\u001b[0m\u001b[1;33m[\u001b[0m\u001b[1;36m0\u001b[0m\u001b[1;33m]\u001b[0m \u001b[1;33m=\u001b[0m \u001b[1;36m3\u001b[0m\u001b[1;33m\u001b[0m\u001b[1;33m\u001b[0m\u001b[0m\n\u001b[0m",
      "\u001b[1;31mTypeError\u001b[0m: 'ResourceVariable' object does not support item assignment"
     ]
    }
   ],
   "source": [
    "# Let's try changing one of the element's value in changeable tensor\n",
    "changeable_tensor[0] = 3"
   ]
  },
  {
   "cell_type": "code",
   "execution_count": 26,
   "metadata": {
    "colab": {
     "base_uri": "https://localhost:8080/"
    },
    "executionInfo": {
     "elapsed": 859,
     "status": "ok",
     "timestamp": 1618843388192,
     "user": {
      "displayName": "Abhishek Bhatia",
      "photoUrl": "",
      "userId": "05636063588651340588"
     },
     "user_tz": -330
    },
    "id": "g_KOU0C2ekTc",
    "outputId": "97747499-265b-4825-a1e7-5bdedb3e7bb2"
   },
   "outputs": [
    {
     "data": {
      "text/plain": [
       "<tf.Variable 'Variable:0' shape=(2,) dtype=int32, numpy=array([3, 2])>"
      ]
     },
     "execution_count": 26,
     "metadata": {},
     "output_type": "execute_result"
    }
   ],
   "source": [
    "# To change the value we need to use .assign()\n",
    "changeable_tensor[0].assign(3)\n",
    "changeable_tensor"
   ]
  },
  {
   "cell_type": "code",
   "execution_count": 27,
   "metadata": {
    "colab": {
     "base_uri": "https://localhost:8080/",
     "height": 183
    },
    "executionInfo": {
     "elapsed": 982,
     "status": "error",
     "timestamp": 1618843388655,
     "user": {
      "displayName": "Abhishek Bhatia",
      "photoUrl": "",
      "userId": "05636063588651340588"
     },
     "user_tz": -330
    },
    "id": "VqNd1nz5erpm",
    "outputId": "072fd8c9-507a-4861-b1f2-3c11f5480323"
   },
   "outputs": [
    {
     "ename": "TypeError",
     "evalue": "'tensorflow.python.framework.ops.EagerTensor' object does not support item assignment",
     "output_type": "error",
     "traceback": [
      "\u001b[1;31m---------------------------------------------------------------------------\u001b[0m",
      "\u001b[1;31mTypeError\u001b[0m                                 Traceback (most recent call last)",
      "\u001b[1;32m<ipython-input-27-aa4e85b866f0>\u001b[0m in \u001b[0;36m<module>\u001b[1;34m\u001b[0m\n\u001b[0;32m      1\u001b[0m \u001b[1;31m# How about we try changing the value in unchangeable tensor\u001b[0m\u001b[1;33m\u001b[0m\u001b[1;33m\u001b[0m\u001b[1;33m\u001b[0m\u001b[0m\n\u001b[1;32m----> 2\u001b[1;33m \u001b[0munchangeable_tensor\u001b[0m\u001b[1;33m[\u001b[0m\u001b[1;36m0\u001b[0m\u001b[1;33m]\u001b[0m \u001b[1;33m=\u001b[0m \u001b[1;36m3\u001b[0m\u001b[1;33m\u001b[0m\u001b[1;33m\u001b[0m\u001b[0m\n\u001b[0m",
      "\u001b[1;31mTypeError\u001b[0m: 'tensorflow.python.framework.ops.EagerTensor' object does not support item assignment"
     ]
    }
   ],
   "source": [
    "# How about we try changing the value in unchangeable tensor\n",
    "unchangeable_tensor[0] = 3"
   ]
  },
  {
   "cell_type": "code",
   "execution_count": 28,
   "metadata": {
    "colab": {
     "base_uri": "https://localhost:8080/",
     "height": 183
    },
    "executionInfo": {
     "elapsed": 1293,
     "status": "error",
     "timestamp": 1618843389218,
     "user": {
      "displayName": "Abhishek Bhatia",
      "photoUrl": "",
      "userId": "05636063588651340588"
     },
     "user_tz": -330
    },
    "id": "eZ01TdiXe05Z",
    "outputId": "7fac3d50-5e7f-435f-b95e-829d100b9770"
   },
   "outputs": [
    {
     "ename": "AttributeError",
     "evalue": "'tensorflow.python.framework.ops.EagerTensor' object has no attribute 'assign'",
     "output_type": "error",
     "traceback": [
      "\u001b[1;31m---------------------------------------------------------------------------\u001b[0m",
      "\u001b[1;31mAttributeError\u001b[0m                            Traceback (most recent call last)",
      "\u001b[1;32m<ipython-input-28-083f190121c0>\u001b[0m in \u001b[0;36m<module>\u001b[1;34m\u001b[0m\n\u001b[0;32m      1\u001b[0m \u001b[1;31m# How about we change values in unchangeable tensor?\u001b[0m\u001b[1;33m\u001b[0m\u001b[1;33m\u001b[0m\u001b[1;33m\u001b[0m\u001b[0m\n\u001b[1;32m----> 2\u001b[1;33m \u001b[0munchangeable_tensor\u001b[0m\u001b[1;33m[\u001b[0m\u001b[1;36m0\u001b[0m\u001b[1;33m]\u001b[0m\u001b[1;33m.\u001b[0m\u001b[0massign\u001b[0m\u001b[1;33m(\u001b[0m\u001b[1;36m3\u001b[0m\u001b[1;33m)\u001b[0m\u001b[1;33m\u001b[0m\u001b[1;33m\u001b[0m\u001b[0m\n\u001b[0m",
      "\u001b[1;31mAttributeError\u001b[0m: 'tensorflow.python.framework.ops.EagerTensor' object has no attribute 'assign'"
     ]
    }
   ],
   "source": [
    "# How about we change values in unchangeable tensor?\n",
    "unchangeable_tensor[0].assign(3)"
   ]
  },
  {
   "cell_type": "markdown",
   "metadata": {
    "id": "6Gjs6mpve8b0"
   },
   "source": [
    "Because this is constant tensor!"
   ]
  },
  {
   "cell_type": "markdown",
   "metadata": {
    "id": "hQ3e7x1RfV_3"
   },
   "source": [
    "# Create random tensors\n"
   ]
  },
  {
   "cell_type": "code",
   "execution_count": 29,
   "metadata": {
    "colab": {
     "base_uri": "https://localhost:8080/"
    },
    "executionInfo": {
     "elapsed": 970,
     "status": "ok",
     "timestamp": 1618843389613,
     "user": {
      "displayName": "Abhishek Bhatia",
      "photoUrl": "",
      "userId": "05636063588651340588"
     },
     "user_tz": -330
    },
    "id": "AHA-Q5igfcDc",
    "outputId": "c48c5b63-ccdb-43b7-959f-001354cad5eb"
   },
   "outputs": [
    {
     "data": {
      "text/plain": [
       "<tf.Tensor: shape=(3, 2), dtype=bool, numpy=\n",
       "array([[ True,  True],\n",
       "       [ True,  True],\n",
       "       [ True,  True]])>"
      ]
     },
     "execution_count": 29,
     "metadata": {},
     "output_type": "execute_result"
    }
   ],
   "source": [
    "# Create two random (but the same) tensors!\n",
    "randgen1 = tf.random.Generator.from_seed(42)\n",
    "randval1 = randgen1.normal(shape=(3, 2))\n",
    "randgen2 = tf.random.Generator.from_seed(42)\n",
    "randval2 = randgen2.normal(shape=(3, 2))\n",
    "\n",
    "# Let's check if both are equal\n",
    "randval1 == randval2 "
   ]
  },
  {
   "cell_type": "code",
   "execution_count": 30,
   "metadata": {
    "colab": {
     "base_uri": "https://localhost:8080/"
    },
    "executionInfo": {
     "elapsed": 715,
     "status": "ok",
     "timestamp": 1618843389614,
     "user": {
      "displayName": "Abhishek Bhatia",
      "photoUrl": "",
      "userId": "05636063588651340588"
     },
     "user_tz": -330
    },
    "id": "GkZQZhE7ieo7",
    "outputId": "344b9cb2-1c02-43c6-bb5f-7270377b1a5e"
   },
   "outputs": [
    {
     "data": {
      "text/plain": [
       "<tf.Tensor: shape=(3, 2), dtype=bool, numpy=\n",
       "array([[False, False],\n",
       "       [False, False],\n",
       "       [False, False]])>"
      ]
     },
     "execution_count": 30,
     "metadata": {},
     "output_type": "execute_result"
    }
   ],
   "source": [
    "# Create two random (not the same) tensors!\n",
    "randgen1 = tf.random.Generator.from_seed(42)\n",
    "randval1 = randgen1.normal(shape=(3, 2))\n",
    "randgen2 = tf.random.Generator.from_seed(32)\n",
    "randval2 = randgen2.normal(shape=(3, 2))\n",
    "\n",
    "# Let's check their equality\n",
    "randval1 == randval2"
   ]
  },
  {
   "cell_type": "code",
   "execution_count": 31,
   "metadata": {
    "colab": {
     "base_uri": "https://localhost:8080/",
     "height": 265
    },
    "executionInfo": {
     "elapsed": 1408,
     "status": "ok",
     "timestamp": 1618843390522,
     "user": {
      "displayName": "Abhishek Bhatia",
      "photoUrl": "",
      "userId": "05636063588651340588"
     },
     "user_tz": -330
    },
    "id": "sFX40dxLjApg",
    "outputId": "5e1e9ace-3593-45cd-8735-288a640c8155"
   },
   "outputs": [
    {
     "data": {
      "image/png": "[encoded data removed]",
      "text/plain": [
       "<Figure size 432x288 with 1 Axes>"
      ]
     },
     "metadata": {
      "needs_background": "light"
     },
     "output_type": "display_data"
    }
   ],
   "source": [
    "# Normal distribution of the randomly sampled tensor\n",
    "import matplotlib.pyplot as plt\n",
    "norm_tensor = tf.random.normal(shape=(1000,))\n",
    "plt.hist(norm_tensor);"
   ]
  },
  {
   "cell_type": "markdown",
   "metadata": {
    "id": "N1zIU1UYjO1m"
   },
   "source": [
    "# Shuffle the orders of elements in a tensor\n",
    "* If we have first 10000 examples as `Ramen` and next 5000 examples as `Spaghetti`\n",
    "* Shuffling would be useful here to assure good mix of each in each mini batch\n",
    "* Remember, each batch takes a single step of gradient step assuming the batch represents the parent probability distribution\n",
    "* Each batch must have the same mix of classes/probability distribution\n",
    "    * Same probability distribution can also be linked to clusters present in the images"
   ]
  },
  {
   "cell_type": "code",
   "execution_count": 32,
   "metadata": {
    "colab": {
     "base_uri": "https://localhost:8080/"
    },
    "executionInfo": {
     "elapsed": 731,
     "status": "ok",
     "timestamp": 1618843390523,
     "user": {
      "displayName": "Abhishek Bhatia",
      "photoUrl": "",
      "userId": "05636063588651340588"
     },
     "user_tz": -330
    },
    "id": "6iHi7jY2kcNe",
    "outputId": "2bb546f1-b7d5-4ddb-d831-e509398bc76c"
   },
   "outputs": [
    {
     "data": {
      "text/plain": [
       "<tf.Tensor: shape=(3, 2), dtype=int32, numpy=\n",
       "array([[1, 2],\n",
       "       [3, 4],\n",
       "       [5, 6]])>"
      ]
     },
     "execution_count": 32,
     "metadata": {},
     "output_type": "execute_result"
    }
   ],
   "source": [
    "# Create a tensor\n",
    "not_shuffled = tf.constant([[1, 2],\n",
    "                            [3, 4],\n",
    "                            [5, 6]])\n",
    "not_shuffled"
   ]
  },
  {
   "cell_type": "code",
   "execution_count": 33,
   "metadata": {
    "colab": {
     "base_uri": "https://localhost:8080/"
    },
    "executionInfo": {
     "elapsed": 1012,
     "status": "ok",
     "timestamp": 1618843391202,
     "user": {
      "displayName": "Abhishek Bhatia",
      "photoUrl": "",
      "userId": "05636063588651340588"
     },
     "user_tz": -330
    },
    "id": "QQ17giTWlkiu",
    "outputId": "557a59d4-11ba-483f-9a41-1ba42d80c4a6"
   },
   "outputs": [
    {
     "data": {
      "text/plain": [
       "<tf.Tensor: shape=(3, 2), dtype=int32, numpy=\n",
       "array([[5, 6],\n",
       "       [3, 4],\n",
       "       [1, 2]])>"
      ]
     },
     "execution_count": 33,
     "metadata": {},
     "output_type": "execute_result"
    }
   ],
   "source": [
    "# Shuffle our non shuffled tensor (keep running this cell to see how 'its shuffling)\n",
    "tf.random.set_seed(42)  # If you remove this seed, every shuffle will be new\n",
    "tf.random.shuffle(not_shuffled, seed=12)"
   ]
  },
  {
   "cell_type": "markdown",
   "metadata": {
    "id": "dTfUd404njIH"
   },
   "source": [
    "**Note**: Shuffling is being done accross the first dimension i.e. rows are being interchanged\n",
    "\n",
    "Read about [set_seed](https://www.tensorflow.org/api_docs/python/tf/random/set_seed):\n",
    "* Global seed\n",
    "* Operation level seed"
   ]
  },
  {
   "cell_type": "code",
   "execution_count": 34,
   "metadata": {
    "colab": {
     "base_uri": "https://localhost:8080/"
    },
    "executionInfo": {
     "elapsed": 927,
     "status": "ok",
     "timestamp": 1618843392045,
     "user": {
      "displayName": "Abhishek Bhatia",
      "photoUrl": "",
      "userId": "05636063588651340588"
     },
     "user_tz": -330
    },
    "id": "SbtBhbKKm67w",
    "outputId": "b6aa4bef-a74f-471e-81e5-5de2ec9eea22"
   },
   "outputs": [
    {
     "data": {
      "text/plain": [
       "<tf.Tensor: shape=(3, 2), dtype=int32, numpy=\n",
       "array([[1, 2],\n",
       "       [3, 4],\n",
       "       [5, 6]])>"
      ]
     },
     "execution_count": 34,
     "metadata": {},
     "output_type": "execute_result"
    }
   ],
   "source": [
    "# Only operation level seed is set\n",
    "# Even with seed set, you would get different result each time\n",
    "tf.random.shuffle(not_shuffled, seed=42)"
   ]
  },
  {
   "cell_type": "code",
   "execution_count": 35,
   "metadata": {
    "colab": {
     "base_uri": "https://localhost:8080/"
    },
    "executionInfo": {
     "elapsed": 977,
     "status": "ok",
     "timestamp": 1618843392515,
     "user": {
      "displayName": "Abhishek Bhatia",
      "photoUrl": "",
      "userId": "05636063588651340588"
     },
     "user_tz": -330
    },
    "id": "uT3XF_5jn7wl",
    "outputId": "318c16ad-e4de-4783-cad9-71dff95eef28"
   },
   "outputs": [
    {
     "data": {
      "text/plain": [
       "<tf.Tensor: shape=(3, 2), dtype=int32, numpy=\n",
       "array([[3, 4],\n",
       "       [5, 6],\n",
       "       [1, 2]])>"
      ]
     },
     "execution_count": 35,
     "metadata": {},
     "output_type": "execute_result"
    }
   ],
   "source": [
    "# Only global level seed is set (Same result every time)\n",
    "tf.random.set_seed(42)\n",
    "tf.random.shuffle(not_shuffled)"
   ]
  },
  {
   "cell_type": "code",
   "execution_count": 36,
   "metadata": {
    "colab": {
     "base_uri": "https://localhost:8080/"
    },
    "executionInfo": {
     "elapsed": 919,
     "status": "ok",
     "timestamp": 1618843392900,
     "user": {
      "displayName": "Abhishek Bhatia",
      "photoUrl": "",
      "userId": "05636063588651340588"
     },
     "user_tz": -330
    },
    "id": "CXqoECLNn-Jk",
    "outputId": "b978edcc-aa2b-4a0d-c4f0-96a6587d9c49"
   },
   "outputs": [
    {
     "data": {
      "text/plain": [
       "<tf.Tensor: shape=(3, 2), dtype=int32, numpy=\n",
       "array([[1, 2],\n",
       "       [3, 4],\n",
       "       [5, 6]])>"
      ]
     },
     "execution_count": 36,
     "metadata": {},
     "output_type": "execute_result"
    }
   ],
   "source": [
    "# Both (Same result everytime)\n",
    "tf.random.set_seed(42) \n",
    "tf.random.shuffle(not_shuffled, seed=42)"
   ]
  },
  {
   "cell_type": "markdown",
   "metadata": {
    "id": "iPNDSmBZoRSo"
   },
   "source": [
    "## Other ways of making a tensor\n"
   ]
  },
  {
   "cell_type": "code",
   "execution_count": 37,
   "metadata": {
    "colab": {
     "base_uri": "https://localhost:8080/"
    },
    "executionInfo": {
     "elapsed": 909,
     "status": "ok",
     "timestamp": 1618843393885,
     "user": {
      "displayName": "Abhishek Bhatia",
      "photoUrl": "",
      "userId": "05636063588651340588"
     },
     "user_tz": -330
    },
    "id": "YxIr6GnNoWqy",
    "outputId": "aa6422e9-855d-4608-8b63-34f1707fe6a6"
   },
   "outputs": [
    {
     "data": {
      "text/plain": [
       "<tf.Tensor: shape=(10, 7), dtype=float32, numpy=\n",
       "array([[1., 1., 1., 1., 1., 1., 1.],\n",
       "       [1., 1., 1., 1., 1., 1., 1.],\n",
       "       [1., 1., 1., 1., 1., 1., 1.],\n",
       "       [1., 1., 1., 1., 1., 1., 1.],\n",
       "       [1., 1., 1., 1., 1., 1., 1.],\n",
       "       [1., 1., 1., 1., 1., 1., 1.],\n",
       "       [1., 1., 1., 1., 1., 1., 1.],\n",
       "       [1., 1., 1., 1., 1., 1., 1.],\n",
       "       [1., 1., 1., 1., 1., 1., 1.],\n",
       "       [1., 1., 1., 1., 1., 1., 1.]], dtype=float32)>"
      ]
     },
     "execution_count": 37,
     "metadata": {},
     "output_type": "execute_result"
    }
   ],
   "source": [
    "# Create a tensor of ones\n",
    "tf.ones(shape=(10, 7))\n"
   ]
  },
  {
   "cell_type": "code",
   "execution_count": 38,
   "metadata": {
    "colab": {
     "base_uri": "https://localhost:8080/"
    },
    "executionInfo": {
     "elapsed": 807,
     "status": "ok",
     "timestamp": 1618843394234,
     "user": {
      "displayName": "Abhishek Bhatia",
      "photoUrl": "",
      "userId": "05636063588651340588"
     },
     "user_tz": -330
    },
    "id": "xPAwg2wiobAJ",
    "outputId": "3c14d50e-a28d-49e5-c7de-185e0e4f88fa"
   },
   "outputs": [
    {
     "data": {
      "text/plain": [
       "<tf.Tensor: shape=(10, 7), dtype=float32, numpy=\n",
       "array([[0., 0., 0., 0., 0., 0., 0.],\n",
       "       [0., 0., 0., 0., 0., 0., 0.],\n",
       "       [0., 0., 0., 0., 0., 0., 0.],\n",
       "       [0., 0., 0., 0., 0., 0., 0.],\n",
       "       [0., 0., 0., 0., 0., 0., 0.],\n",
       "       [0., 0., 0., 0., 0., 0., 0.],\n",
       "       [0., 0., 0., 0., 0., 0., 0.],\n",
       "       [0., 0., 0., 0., 0., 0., 0.],\n",
       "       [0., 0., 0., 0., 0., 0., 0.],\n",
       "       [0., 0., 0., 0., 0., 0., 0.]], dtype=float32)>"
      ]
     },
     "execution_count": 38,
     "metadata": {},
     "output_type": "execute_result"
    }
   ],
   "source": [
    "# Create a tensor of all zeros\n",
    "tf.zeros(shape=(10, 7))"
   ]
  },
  {
   "cell_type": "markdown",
   "metadata": {
    "id": "K3Lns-0logTn"
   },
   "source": [
    "## Turn numpy arrays into tensors\n",
    "\n",
    "Tensors can be operated must faster on by GPUs"
   ]
  },
  {
   "cell_type": "code",
   "execution_count": 39,
   "metadata": {
    "colab": {
     "base_uri": "https://localhost:8080/"
    },
    "executionInfo": {
     "elapsed": 1113,
     "status": "ok",
     "timestamp": 1618843395635,
     "user": {
      "displayName": "Abhishek Bhatia",
      "photoUrl": "",
      "userId": "05636063588651340588"
     },
     "user_tz": -330
    },
    "id": "iVre0BKSuxTj",
    "outputId": "d6ea05d4-fec5-4a2d-c895-af699f1e0fe2"
   },
   "outputs": [
    {
     "data": {
      "text/plain": [
       "array([ 1,  2,  3,  4,  5,  6,  7,  8,  9, 10, 11, 12, 13, 14, 15, 16, 17,\n",
       "       18, 19, 20, 21, 22, 23, 24])"
      ]
     },
     "execution_count": 39,
     "metadata": {},
     "output_type": "execute_result"
    }
   ],
   "source": [
    "import numpy as np\n",
    "numpy_A = np.arange(1, 25, dtype=np.int32)\n",
    "numpy_A"
   ]
  },
  {
   "cell_type": "code",
   "execution_count": 40,
   "metadata": {
    "colab": {
     "base_uri": "https://localhost:8080/"
    },
    "executionInfo": {
     "elapsed": 801,
     "status": "ok",
     "timestamp": 1618843395979,
     "user": {
      "displayName": "Abhishek Bhatia",
      "photoUrl": "",
      "userId": "05636063588651340588"
     },
     "user_tz": -330
    },
    "id": "owg-qicZwR8c",
    "outputId": "5b5a5e39-04ec-40d6-8694-b2662cdbe791"
   },
   "outputs": [
    {
     "data": {
      "text/plain": [
       "{'A': <tf.Tensor: shape=(2, 3, 4), dtype=int32, numpy=\n",
       " array([[[ 1,  2,  3,  4],\n",
       "         [ 5,  6,  7,  8],\n",
       "         [ 9, 10, 11, 12]],\n",
       " \n",
       "        [[13, 14, 15, 16],\n",
       "         [17, 18, 19, 20],\n",
       "         [21, 22, 23, 24]]])>,\n",
       " 'B': <tf.Tensor: shape=(24,), dtype=int32, numpy=\n",
       " array([ 1,  2,  3,  4,  5,  6,  7,  8,  9, 10, 11, 12, 13, 14, 15, 16, 17,\n",
       "        18, 19, 20, 21, 22, 23, 24])>}"
      ]
     },
     "execution_count": 40,
     "metadata": {},
     "output_type": "execute_result"
    }
   ],
   "source": [
    "A = tf.constant(numpy_A, shape=(2, 3, 4))\n",
    "B = tf.constant(numpy_A)\n",
    "\n",
    "dict(zip(['A', 'B'], [A, B]))"
   ]
  },
  {
   "cell_type": "code",
   "execution_count": 41,
   "metadata": {
    "colab": {
     "base_uri": "https://localhost:8080/"
    },
    "executionInfo": {
     "elapsed": 887,
     "status": "ok",
     "timestamp": 1618843396575,
     "user": {
      "displayName": "Abhishek Bhatia",
      "photoUrl": "",
      "userId": "05636063588651340588"
     },
     "user_tz": -330
    },
    "id": "Dd94fH77w6DC",
    "outputId": "db7a7500-1059-43c5-e83e-0179c386f41d"
   },
   "outputs": [
    {
     "data": {
      "text/plain": [
       "{'A': 3, 'B': 1}"
      ]
     },
     "execution_count": 41,
     "metadata": {},
     "output_type": "execute_result"
    }
   ],
   "source": [
    "dict(zip(['A', 'B'], [A.ndim, B.ndim]))"
   ]
  },
  {
   "cell_type": "markdown",
   "metadata": {
    "id": "0f9aW5l0xali"
   },
   "source": [
    "## Getting Information from the tensors"
   ]
  },
  {
   "cell_type": "code",
   "execution_count": 42,
   "metadata": {},
   "outputs": [],
   "source": [
    "from src.utils import describe_tensor"
   ]
  },
  {
   "cell_type": "code",
   "execution_count": 43,
   "metadata": {
    "colab": {
     "base_uri": "https://localhost:8080/"
    },
    "executionInfo": {
     "elapsed": 988,
     "status": "ok",
     "timestamp": 1618843398165,
     "user": {
      "displayName": "Abhishek Bhatia",
      "photoUrl": "",
      "userId": "05636063588651340588"
     },
     "user_tz": -330
    },
    "id": "B2yGs8X-x_D2",
    "outputId": "d6765232-4ef2-4eec-b028-ecbe747d3653"
   },
   "outputs": [
    {
     "name": "stdout",
     "output_type": "stream",
     "text": [
      "Datatype: <dtype: 'int32'>\n",
      "Number of dimensions: 3\n",
      "Shape of tensor: (1, 3, 3)\n",
      "Elements along the 0 axis: 1\n",
      "Elements along the last axis: 3\n",
      "Total number of elements: 9\n"
     ]
    }
   ],
   "source": [
    "describe_tensor(tensor)"
   ]
  },
  {
   "cell_type": "markdown",
   "metadata": {
    "id": "FlzzpD11zTnq"
   },
   "source": [
    "## Indexing tensors\n",
    "Tensors can be indexed just like Python lists"
   ]
  },
  {
   "cell_type": "code",
   "execution_count": 52,
   "metadata": {
    "colab": {
     "base_uri": "https://localhost:8080/"
    },
    "executionInfo": {
     "elapsed": 725,
     "status": "ok",
     "timestamp": 1618843466878,
     "user": {
      "displayName": "Abhishek Bhatia",
      "photoUrl": "",
      "userId": "05636063588651340588"
     },
     "user_tz": -330
    },
    "id": "Ca9DfdbmzZOq",
    "outputId": "288d06a9-37b9-4149-a4d9-39f6f1c0a334"
   },
   "outputs": [
    {
     "data": {
      "text/plain": [
       "<tf.Tensor: shape=(8, 8), dtype=float32, numpy=\n",
       "array([[-0.15421568, -0.10875293, -0.621129  , -1.0798668 , -0.16909476,\n",
       "         0.8410001 , -1.6971248 , -1.7839274 ],\n",
       "       [ 1.1488945 ,  0.95193976,  0.10488074,  0.21458012,  0.55202   ,\n",
       "         0.34291965, -0.8316435 , -0.9340011 ],\n",
       "       [ 1.2897398 , -0.13424467,  1.8755274 , -0.21415219, -0.36870828,\n",
       "         0.67288345,  1.3695234 , -2.167099  ],\n",
       "       [-1.1596808 ,  0.38832134, -0.46657825,  0.23319368, -1.4149377 ,\n",
       "        -0.5536773 ,  1.2187223 , -1.1173725 ],\n",
       "       [-0.7941299 ,  0.8506392 ,  0.9731572 ,  0.9786592 , -0.40033567,\n",
       "        -1.2027842 ,  0.9958395 , -2.1588895 ],\n",
       "       [-1.3097545 , -1.7249739 , -0.88928556, -0.8335409 ,  0.11488265,\n",
       "         0.09552945, -0.30543768,  0.6083008 ],\n",
       "       [-0.20530795,  1.4380887 ,  0.64798355,  0.26897132, -0.7120822 ,\n",
       "        -0.92031354, -1.5436949 , -0.20956384],\n",
       "       [ 0.11213502,  0.13058572,  0.46756333,  0.81544125,  0.69696605,\n",
       "         0.4109041 ,  0.5073107 , -0.25794792]], dtype=float32)>"
      ]
     },
     "execution_count": 52,
     "metadata": {},
     "output_type": "execute_result"
    }
   ],
   "source": [
    "# Set the seed\n",
    "tf.random.set_seed(42)\n",
    "tensor4 = tf.random.normal(shape=(32, 8, 8, 3), seed=42) # A single batch of 8x8 RGB Image (32)\n",
    "tensor4[0, :, :, 1] # (1st batch 1st image and Green channel)"
   ]
  },
  {
   "cell_type": "code",
   "execution_count": 53,
   "metadata": {
    "colab": {
     "base_uri": "https://localhost:8080/"
    },
    "executionInfo": {
     "elapsed": 951,
     "status": "ok",
     "timestamp": 1618843652234,
     "user": {
      "displayName": "Abhishek Bhatia",
      "photoUrl": "",
      "userId": "05636063588651340588"
     },
     "user_tz": -330
    },
    "id": "ybDdVvEhk_Vr",
    "outputId": "9e5d90b9-981a-4478-a6f8-b4ba4a144b56"
   },
   "outputs": [
    {
     "data": {
      "text/plain": [
       "<tf.Tensor: shape=(10, 10, 3), dtype=float32, numpy=\n",
       "array([[[ 3.27468514e-01, -8.42625797e-01,  3.19433689e-01],\n",
       "        [-1.40755188e+00, -2.38805985e+00, -1.03924787e+00],\n",
       "        [-5.57323217e-01,  5.39707005e-01,  1.69943225e+00],\n",
       "        [ 2.88936555e-01, -1.50661159e+00, -2.64547408e-01],\n",
       "        [-5.97224057e-01, -1.91711318e+00, -6.20441437e-01],\n",
       "        [ 8.50402296e-01, -4.06047940e-01, -3.02584124e+00],\n",
       "        [ 9.05846417e-01,  2.98559874e-01, -2.25615546e-01],\n",
       "        [-7.61644304e-01, -1.89171410e+00, -9.38471258e-01],\n",
       "        [ 7.78522134e-01, -4.73388970e-01,  9.77726936e-01],\n",
       "        [ 2.46944040e-01,  2.05737472e-01, -5.25623322e-01]],\n",
       "\n",
       "       [[ 3.24100167e-01,  2.54540909e-02, -1.06384970e-01],\n",
       "        [-6.36947513e-01,  1.16031218e+00,  2.50735909e-01],\n",
       "        [-4.17285025e-01,  4.01257813e-01, -1.41454434e+00],\n",
       "        [-5.93185723e-01, -1.66172135e+00,  3.35671932e-01],\n",
       "        [ 1.08156286e-01,  2.34796822e-01, -5.66687644e-01],\n",
       "        [-3.58198434e-01,  8.86986136e-01,  5.27447641e-01],\n",
       "        [ 7.04022467e-01, -3.34212482e-01,  2.16396436e-01],\n",
       "        [-9.74854469e-01, -2.07576811e-01, -3.64772938e-02],\n",
       "        [-1.33534443e+00,  6.88585520e-01,  1.11108327e+00],\n",
       "        [ 4.01302516e-01,  6.32058620e-01, -3.90306145e-01]],\n",
       "\n",
       "       [[ 1.46120000e+00, -6.33797646e-01, -9.99705136e-01],\n",
       "        [-8.80446867e-04,  1.07158554e+00,  4.81234878e-01],\n",
       "        [-1.60123384e+00, -1.22025335e+00, -2.60341227e-01],\n",
       "        [-1.49422154e-01,  1.12653100e+00, -1.04361320e+00],\n",
       "        [ 1.15956819e+00,  5.13993859e-01, -1.08452451e+00],\n",
       "        [-3.13049525e-01,  4.25618500e-01, -1.80582374e-01],\n",
       "        [-1.93230391e-01,  9.52812552e-01,  2.00572729e+00],\n",
       "        [-5.95110774e-01,  2.72236496e-01,  2.42677748e-01],\n",
       "        [ 1.50638473e+00, -1.16431601e-01, -1.53971851e+00],\n",
       "        [ 2.13203907e+00, -4.65701789e-01, -8.20223927e-01]],\n",
       "\n",
       "       [[-1.73188818e+00, -3.60235900e-01,  4.11543936e-01],\n",
       "        [ 1.36178446e+00, -1.62113667e+00,  1.08125830e+00],\n",
       "        [ 2.05486983e-01,  3.01658601e-01, -1.56354535e+00],\n",
       "        [-1.56779742e+00, -1.22952834e-01, -1.40379882e+00],\n",
       "        [-9.19952035e-01,  3.14764291e-01,  1.86195040e+00],\n",
       "        [ 3.44231427e-01,  5.05643845e-01,  8.28737676e-01],\n",
       "        [-1.61130369e-01,  3.71081114e-01,  1.29466414e-01],\n",
       "        [-9.94873166e-01,  1.74755239e+00, -9.04302478e-01],\n",
       "        [-3.88163298e-01,  6.33158982e-02, -6.85345709e-01],\n",
       "        [-6.58035338e-01,  7.37734735e-01, -1.23796630e+00]],\n",
       "\n",
       "       [[ 1.62680459e+00,  1.32617843e+00, -1.69563806e+00],\n",
       "        [-6.77775323e-01,  8.08262169e-01,  6.01236662e-03],\n",
       "        [ 1.55219166e-02, -1.02510095e+00,  3.21554810e-01],\n",
       "        [ 3.35006177e-01,  1.99884188e+00, -6.39790371e-02],\n",
       "        [-1.16190445e+00, -2.06357241e-01, -4.25627649e-01],\n",
       "        [-1.06816816e+00,  1.03230691e+00,  7.80556276e-02],\n",
       "        [-3.13318431e-01,  3.00168991e-01, -1.36430621e-01],\n",
       "        [-7.64365673e-01,  1.39826238e-01,  1.70999169e+00],\n",
       "        [-3.41805756e-01, -8.70469689e-01, -1.26517296e+00],\n",
       "        [ 1.02162230e+00, -1.75407693e-01,  3.12556088e-01]],\n",
       "\n",
       "       [[ 1.88517764e-01,  5.91816485e-01, -3.31230760e-01],\n",
       "        [ 2.09661365e-01,  1.20092726e+00,  9.18924987e-01],\n",
       "        [-6.76153719e-01,  2.41165683e-02, -8.36931944e-01],\n",
       "        [ 1.70226169e+00,  7.32276738e-01,  1.09463346e+00],\n",
       "        [-1.87608957e-01, -1.27563620e+00, -6.72676146e-01],\n",
       "        [ 5.89388490e-01, -1.37254393e+00,  9.94733334e-01],\n",
       "        [-1.80882025e+00,  8.75771716e-02, -2.24898958e+00],\n",
       "        [ 2.19127044e-01,  1.31176460e+00,  9.05483484e-01],\n",
       "        [-9.09993410e-01, -7.26843059e-01,  4.21907365e-01],\n",
       "        [ 9.13502455e-01,  1.21766925e+00, -1.75209093e+00]],\n",
       "\n",
       "       [[ 5.84937513e-01,  8.17803264e-01,  1.06913841e+00],\n",
       "        [-1.09194946e+00,  5.02991199e-01, -5.13924718e-01],\n",
       "        [ 2.96165347e-01,  1.63955712e+00,  5.22935867e-01],\n",
       "        [-9.49233115e-01,  6.14328742e-01, -2.32862487e-01],\n",
       "        [ 1.67191255e+00,  1.48186409e+00,  4.84806210e-01],\n",
       "        [-2.24033189e+00, -2.25851297e+00, -1.31739661e-01],\n",
       "        [ 1.62239477e-01, -9.51777101e-01, -7.06969798e-02],\n",
       "        [ 6.34097397e-01, -2.64249146e-01, -6.25652552e-01],\n",
       "        [-5.65087080e-01,  6.89760566e-01,  8.32360744e-01],\n",
       "        [-1.43979168e+00,  1.61607251e-01,  4.59538937e-01]],\n",
       "\n",
       "       [[ 5.18101096e-01, -2.85835471e-02, -8.67913723e-01],\n",
       "        [ 1.16980612e+00, -1.99054360e+00,  8.92418504e-01],\n",
       "        [ 1.88958645e+00,  1.25957215e+00, -2.31702164e-01],\n",
       "        [ 6.22233927e-01,  7.59622931e-01, -8.03967595e-01],\n",
       "        [ 1.20707381e+00,  1.27932549e-01,  6.21761382e-02],\n",
       "        [ 2.73475528e-01,  2.31515765e-01,  7.18649089e-01],\n",
       "        [ 1.79765952e+00,  3.97182614e-01, -9.28808212e-01],\n",
       "        [ 2.62536436e-01, -3.34717870e-01, -4.77222323e-01],\n",
       "        [-1.22534132e+00,  9.03180897e-01, -3.81502199e+00],\n",
       "        [-1.28228271e+00, -2.47924656e-01, -1.04075015e+00]],\n",
       "\n",
       "       [[-7.70410240e-01, -4.94718462e-01, -2.21131873e+00],\n",
       "        [ 3.89290005e-01,  1.06228900e+00, -1.55220702e-01],\n",
       "        [-1.17830861e+00,  2.99320787e-01,  3.05507690e-01],\n",
       "        [ 1.87913805e-01,  6.70983553e-01, -7.76138484e-01],\n",
       "        [-2.61710584e-01, -1.75008214e+00, -5.93035877e-01],\n",
       "        [ 1.14544742e-01, -7.46733129e-01,  1.28347233e-01],\n",
       "        [-5.16174585e-02, -9.19692278e-01,  1.22334182e+00],\n",
       "        [ 3.37343067e-01,  6.64462686e-01,  8.24578702e-01],\n",
       "        [ 4.70071197e-01,  1.55162755e-02, -1.79089531e-01],\n",
       "        [-1.09421313e+00, -1.28419173e+00, -3.32507908e-01]],\n",
       "\n",
       "       [[ 6.37807190e-01,  2.82803416e-01,  4.53875184e-01],\n",
       "        [-6.23685002e-01,  8.13746095e-01,  5.20318687e-01],\n",
       "        [-1.27764165e+00, -2.52391249e-01,  1.60077167e+00],\n",
       "        [-8.25679183e-01, -9.36846018e-01, -1.26432431e+00],\n",
       "        [-4.10377026e-01,  2.72557080e-01, -3.34020674e-01],\n",
       "        [-2.53592461e-01,  2.93609679e-01, -4.02389169e-01],\n",
       "        [ 1.35541812e-01, -1.27433807e-01, -4.95703012e-01],\n",
       "        [-5.89106500e-01, -3.60340364e-02, -1.25153184e-01],\n",
       "        [-1.21073723e+00,  4.19056676e-02,  9.10298705e-01],\n",
       "        [-3.87856245e-01,  1.70907766e-01,  7.22056925e-01]]],\n",
       "      dtype=float32)>"
      ]
     },
     "execution_count": 53,
     "metadata": {},
     "output_type": "execute_result"
    }
   ],
   "source": [
    "tensor3 = tf.random.normal(shape=(10, 10, 3)) # A single data point with 10x10 and 3 RGB channels\n",
    "tensor3"
   ]
  },
  {
   "cell_type": "code",
   "execution_count": 54,
   "metadata": {
    "colab": {
     "base_uri": "https://localhost:8080/"
    },
    "executionInfo": {
     "elapsed": 784,
     "status": "ok",
     "timestamp": 1618843688568,
     "user": {
      "displayName": "Abhishek Bhatia",
      "photoUrl": "",
      "userId": "05636063588651340588"
     },
     "user_tz": -330
    },
    "id": "rKCpIXUOmFLY",
    "outputId": "04fe9f58-9a3d-4af7-f5f4-e4336ebdad17"
   },
   "outputs": [
    {
     "data": {
      "text/plain": [
       "TensorShape([1, 10, 10, 3])"
      ]
     },
     "execution_count": 54,
     "metadata": {},
     "output_type": "execute_result"
    }
   ],
   "source": [
    "# Add an extra dimension in beginning \n",
    "# Often done to reshape data point as model expects a tensor of this shape (None, 10, 10, 3)\n",
    "tensor4 = tensor3[tf.newaxis, ...]\n",
    "tensor4.shape"
   ]
  },
  {
   "cell_type": "code",
   "execution_count": 55,
   "metadata": {
    "colab": {
     "base_uri": "https://localhost:8080/"
    },
    "executionInfo": {
     "elapsed": 961,
     "status": "ok",
     "timestamp": 1618843823489,
     "user": {
      "displayName": "Abhishek Bhatia",
      "photoUrl": "",
      "userId": "05636063588651340588"
     },
     "user_tz": -330
    },
    "id": "_etxp6abmt6t",
    "outputId": "25f5d0de-f465-4bf2-8da1-3243cbd59965"
   },
   "outputs": [
    {
     "data": {
      "text/plain": [
       "(1, 10, 10, 3)"
      ]
     },
     "execution_count": 55,
     "metadata": {},
     "output_type": "execute_result"
    }
   ],
   "source": [
    "# The above thing works with numpy as well\n",
    "shape = (10, 10, 3)\n",
    "arr3 = np.random.normal(size=shape)\n",
    "arr4 = arr3[np.newaxis, ...]\n",
    "arr4.shape"
   ]
  },
  {
   "cell_type": "markdown",
   "metadata": {
    "id": "J3GIUQU2nHy7"
   },
   "source": [
    "## Manipulating Tensors (tensor operations)\n",
    "**Basic operations**\n",
    "* Operator overloading i.e +-/*@"
   ]
  },
  {
   "cell_type": "code",
   "execution_count": 56,
   "metadata": {
    "colab": {
     "base_uri": "https://localhost:8080/"
    },
    "executionInfo": {
     "elapsed": 1244,
     "status": "ok",
     "timestamp": 1618843949778,
     "user": {
      "displayName": "Abhishek Bhatia",
      "photoUrl": "",
      "userId": "05636063588651340588"
     },
     "user_tz": -330
    },
    "id": "y9QzAOxWnSOb",
    "outputId": "aa32664c-c55f-4ee7-cdf0-e99547905f61"
   },
   "outputs": [
    {
     "data": {
      "text/plain": [
       "<tf.Tensor: shape=(2, 2), dtype=int32, numpy=\n",
       "array([[11, 12],\n",
       "       [13, 14]])>"
      ]
     },
     "execution_count": 56,
     "metadata": {},
     "output_type": "execute_result"
    }
   ],
   "source": [
    "# You can add values to a tensor using the addition operator\n",
    "tensor = tf.constant([1, 2, 3, 4], shape=(2, 2))\n",
    "tensor += 10\n",
    "tensor"
   ]
  },
  {
   "cell_type": "code",
   "execution_count": 57,
   "metadata": {
    "executionInfo": {
     "elapsed": 974,
     "status": "ok",
     "timestamp": 1618843972530,
     "user": {
      "displayName": "Abhishek Bhatia",
      "photoUrl": "",
      "userId": "05636063588651340588"
     },
     "user_tz": -330
    },
    "id": "JPRGF3TZnnDj"
   },
   "outputs": [],
   "source": [
    "tensor = tf.constant([1, 2, 3, 4], shape=(2, 2))\n",
    "tensor *= 10"
   ]
  },
  {
   "cell_type": "code",
   "execution_count": 58,
   "metadata": {
    "colab": {
     "base_uri": "https://localhost:8080/"
    },
    "executionInfo": {
     "elapsed": 660,
     "status": "ok",
     "timestamp": 1618844008818,
     "user": {
      "displayName": "Abhishek Bhatia",
      "photoUrl": "",
      "userId": "05636063588651340588"
     },
     "user_tz": -330
    },
    "id": "KNyQ3lE7nthZ",
    "outputId": "bb4c30f6-10db-4b86-cbf4-54c11278e89f"
   },
   "outputs": [
    {
     "data": {
      "text/plain": [
       "<tf.Tensor: shape=(2, 2), dtype=int32, numpy=\n",
       "array([[100, 200],\n",
       "       [300, 400]])>"
      ]
     },
     "execution_count": 58,
     "metadata": {},
     "output_type": "execute_result"
    }
   ],
   "source": [
    "# In addition to operator overloading, we can use builtin functions\n",
    "tf.multiply(tensor, 10)"
   ]
  },
  {
   "cell_type": "markdown",
   "metadata": {
    "id": "GQeGh1rbn1HE"
   },
   "source": [
    "### Matrix Multiplication\n",
    "\n",
    "Most common operation in whole of machine learning and deep learning\n",
    "\n",
    "Think about matrix multiplication in the following ways \\\n",
    "Justifying following points:\n",
    "- matching inner dimensions\n",
    "- Output has the shape of outer dimensions\n",
    "\n",
    "Contexts:\n",
    "\n",
    "- In context of linear transformation (and relate this to below contexts)\n",
    "- In context of linear regression\n",
    "- In context of neural network layers and neurons and their associated dataset\n",
    "- In context of batch training of RGB images, sentences, word embeddings etc\n",
    "- As a way of contraction of certain dimensions. Psst - tensor dot product is also known as tensor contraction\n",
    "\n",
    "\n",
    "Explanations:\n",
    "\n",
    "- matrix `A` times column vector `V`\n",
    "    - Linear combination of column vectors of matrix `A` using `weights` of column vector `V`\n",
    "    - Matrix `A` is a datasets with each data point stacked as rows, and their corresponding features in each column. Then, the column vector provides how important, or rather the weight of each feature. (so dot product of each row with the column vector)\n",
    "- matrix `A` times matrix `B`\n",
    "    - aa\n",
    "- aa\n",
    "\n",
    "\n",
    "Two scenarios (for quick thinking remember outer dimensions are preserved):\n",
    "\n",
    "- $WX$ - Data points as columns, neurons as rows\n",
    "- $XW$ - Data points as rows, neurons as columns"
   ]
  },
  {
   "cell_type": "code",
   "execution_count": 59,
   "metadata": {
    "colab": {
     "base_uri": "https://localhost:8080/"
    },
    "executionInfo": {
     "elapsed": 763,
     "status": "ok",
     "timestamp": 1618844204066,
     "user": {
      "displayName": "Abhishek Bhatia",
      "photoUrl": "",
      "userId": "05636063588651340588"
     },
     "user_tz": -330
    },
    "id": "vqsOJ5qtn4Tc",
    "outputId": "38f69e7f-ac9e-401d-921e-985e1d5a0bda"
   },
   "outputs": [
    {
     "name": "stdout",
     "output_type": "stream",
     "text": [
      "tf.Tensor(\n",
      "[[10 20]\n",
      " [30 40]], shape=(2, 2), dtype=int32)\n"
     ]
    }
   ],
   "source": [
    "print(tensor)"
   ]
  },
  {
   "cell_type": "code",
   "execution_count": 60,
   "metadata": {
    "colab": {
     "base_uri": "https://localhost:8080/"
    },
    "executionInfo": {
     "elapsed": 730,
     "status": "ok",
     "timestamp": 1618844227096,
     "user": {
      "displayName": "Abhishek Bhatia",
      "photoUrl": "",
      "userId": "05636063588651340588"
     },
     "user_tz": -330
    },
    "id": "IcqVndqmokPa",
    "outputId": "664341cd-6345-493e-e9d4-394c476d63ca"
   },
   "outputs": [
    {
     "data": {
      "text/plain": [
       "<tf.Tensor: shape=(2, 2), dtype=int32, numpy=\n",
       "array([[ 700, 1000],\n",
       "       [1500, 2200]])>"
      ]
     },
     "execution_count": 60,
     "metadata": {},
     "output_type": "execute_result"
    }
   ],
   "source": [
    "# Matrix multiplication in tensorflow\n",
    "tf.matmul(tensor, tensor)\n"
   ]
  },
  {
   "cell_type": "code",
   "execution_count": 61,
   "metadata": {
    "colab": {
     "base_uri": "https://localhost:8080/"
    },
    "executionInfo": {
     "elapsed": 1232,
     "status": "ok",
     "timestamp": 1618844235434,
     "user": {
      "displayName": "Abhishek Bhatia",
      "photoUrl": "",
      "userId": "05636063588651340588"
     },
     "user_tz": -330
    },
    "id": "z3nwgO00oqIP",
    "outputId": "e474e6d7-8c58-44d0-956f-018b9be78a8b"
   },
   "outputs": [
    {
     "data": {
      "text/plain": [
       "<tf.Tensor: shape=(2, 2), dtype=int32, numpy=\n",
       "array([[ 700, 1000],\n",
       "       [1500, 2200]])>"
      ]
     },
     "execution_count": 61,
     "metadata": {},
     "output_type": "execute_result"
    }
   ],
   "source": [
    "tensor @ tensor"
   ]
  },
  {
   "cell_type": "code",
   "execution_count": 62,
   "metadata": {
    "colab": {
     "base_uri": "https://localhost:8080/"
    },
    "executionInfo": {
     "elapsed": 737,
     "status": "ok",
     "timestamp": 1618844364563,
     "user": {
      "displayName": "Abhishek Bhatia",
      "photoUrl": "",
      "userId": "05636063588651340588"
     },
     "user_tz": -330
    },
    "id": "_HrRGXTAoutj",
    "outputId": "a11dce2b-1f71-4bda-89bf-7c5861ee6fad"
   },
   "outputs": [
    {
     "data": {
      "text/plain": [
       "(<tf.Tensor: shape=(3, 2), dtype=int32, numpy=\n",
       " array([[1, 2],\n",
       "        [3, 4],\n",
       "        [5, 6]])>,\n",
       " <tf.Tensor: shape=(3, 2), dtype=int32, numpy=\n",
       " array([[ 7,  8],\n",
       "        [ 9, 10],\n",
       "        [11, 12]])>)"
      ]
     },
     "execution_count": 62,
     "metadata": {},
     "output_type": "execute_result"
    }
   ],
   "source": [
    "# Create a tensor (3, 2) tensor.\n",
    "X = tf.constant([[1, 2],\n",
    "                 [3, 4],\n",
    "                 [5, 6]])\n",
    "\n",
    "Y = tf.constant([[7, 8],\n",
    "                 [9, 10],\n",
    "                 [11, 12]])\n",
    "X, Y"
   ]
  },
  {
   "cell_type": "code",
   "execution_count": 63,
   "metadata": {
    "colab": {
     "base_uri": "https://localhost:8080/",
     "height": 225
    },
    "executionInfo": {
     "elapsed": 1111,
     "status": "error",
     "timestamp": 1618844366830,
     "user": {
      "displayName": "Abhishek Bhatia",
      "photoUrl": "",
      "userId": "05636063588651340588"
     },
     "user_tz": -330
    },
    "id": "EQgNizdyo2py",
    "outputId": "deb57012-a2ac-4ed3-b2ce-68be3abac9b4"
   },
   "outputs": [
    {
     "ename": "InvalidArgumentError",
     "evalue": "Matrix size-incompatible: In[0]: [3,2], In[1]: [3,2] [Op:MatMul]",
     "output_type": "error",
     "traceback": [
      "\u001b[1;31m---------------------------------------------------------------------------\u001b[0m",
      "\u001b[1;31mInvalidArgumentError\u001b[0m                      Traceback (most recent call last)",
      "\u001b[1;32m<ipython-input-63-b58f5d491930>\u001b[0m in \u001b[0;36m<module>\u001b[1;34m\u001b[0m\n\u001b[1;32m----> 1\u001b[1;33m \u001b[0mtf\u001b[0m\u001b[1;33m.\u001b[0m\u001b[0mmatmul\u001b[0m\u001b[1;33m(\u001b[0m\u001b[0mX\u001b[0m\u001b[1;33m,\u001b[0m \u001b[0mY\u001b[0m\u001b[1;33m)\u001b[0m\u001b[1;33m\u001b[0m\u001b[1;33m\u001b[0m\u001b[0m\n\u001b[0m",
      "\u001b[1;32m~\\anaconda3\\envs\\ds-py37\\lib\\site-packages\\tensorflow\\python\\util\\dispatch.py\u001b[0m in \u001b[0;36mwrapper\u001b[1;34m(*args, **kwargs)\u001b[0m\n\u001b[0;32m    199\u001b[0m     \u001b[1;34m\"\"\"Call target, and fall back on dispatchers if there is a TypeError.\"\"\"\u001b[0m\u001b[1;33m\u001b[0m\u001b[1;33m\u001b[0m\u001b[0m\n\u001b[0;32m    200\u001b[0m     \u001b[1;32mtry\u001b[0m\u001b[1;33m:\u001b[0m\u001b[1;33m\u001b[0m\u001b[1;33m\u001b[0m\u001b[0m\n\u001b[1;32m--> 201\u001b[1;33m       \u001b[1;32mreturn\u001b[0m \u001b[0mtarget\u001b[0m\u001b[1;33m(\u001b[0m\u001b[1;33m*\u001b[0m\u001b[0margs\u001b[0m\u001b[1;33m,\u001b[0m \u001b[1;33m**\u001b[0m\u001b[0mkwargs\u001b[0m\u001b[1;33m)\u001b[0m\u001b[1;33m\u001b[0m\u001b[1;33m\u001b[0m\u001b[0m\n\u001b[0m\u001b[0;32m    202\u001b[0m     \u001b[1;32mexcept\u001b[0m \u001b[1;33m(\u001b[0m\u001b[0mTypeError\u001b[0m\u001b[1;33m,\u001b[0m \u001b[0mValueError\u001b[0m\u001b[1;33m)\u001b[0m\u001b[1;33m:\u001b[0m\u001b[1;33m\u001b[0m\u001b[1;33m\u001b[0m\u001b[0m\n\u001b[0;32m    203\u001b[0m       \u001b[1;31m# Note: convert_to_eager_tensor currently raises a ValueError, not a\u001b[0m\u001b[1;33m\u001b[0m\u001b[1;33m\u001b[0m\u001b[1;33m\u001b[0m\u001b[0m\n",
      "\u001b[1;32m~\\anaconda3\\envs\\ds-py37\\lib\\site-packages\\tensorflow\\python\\ops\\math_ops.py\u001b[0m in \u001b[0;36mmatmul\u001b[1;34m(a, b, transpose_a, transpose_b, adjoint_a, adjoint_b, a_is_sparse, b_is_sparse, name)\u001b[0m\n\u001b[0;32m   3313\u001b[0m     \u001b[1;32melse\u001b[0m\u001b[1;33m:\u001b[0m\u001b[1;33m\u001b[0m\u001b[1;33m\u001b[0m\u001b[0m\n\u001b[0;32m   3314\u001b[0m       return gen_math_ops.mat_mul(\n\u001b[1;32m-> 3315\u001b[1;33m           a, b, transpose_a=transpose_a, transpose_b=transpose_b, name=name)\n\u001b[0m\u001b[0;32m   3316\u001b[0m \u001b[1;33m\u001b[0m\u001b[0m\n\u001b[0;32m   3317\u001b[0m \u001b[1;33m\u001b[0m\u001b[0m\n",
      "\u001b[1;32m~\\anaconda3\\envs\\ds-py37\\lib\\site-packages\\tensorflow\\python\\ops\\gen_math_ops.py\u001b[0m in \u001b[0;36mmat_mul\u001b[1;34m(a, b, transpose_a, transpose_b, name)\u001b[0m\n\u001b[0;32m   5529\u001b[0m       \u001b[1;32mreturn\u001b[0m \u001b[0m_result\u001b[0m\u001b[1;33m\u001b[0m\u001b[1;33m\u001b[0m\u001b[0m\n\u001b[0;32m   5530\u001b[0m     \u001b[1;32mexcept\u001b[0m \u001b[0m_core\u001b[0m\u001b[1;33m.\u001b[0m\u001b[0m_NotOkStatusException\u001b[0m \u001b[1;32mas\u001b[0m \u001b[0me\u001b[0m\u001b[1;33m:\u001b[0m\u001b[1;33m\u001b[0m\u001b[1;33m\u001b[0m\u001b[0m\n\u001b[1;32m-> 5531\u001b[1;33m       \u001b[0m_ops\u001b[0m\u001b[1;33m.\u001b[0m\u001b[0mraise_from_not_ok_status\u001b[0m\u001b[1;33m(\u001b[0m\u001b[0me\u001b[0m\u001b[1;33m,\u001b[0m \u001b[0mname\u001b[0m\u001b[1;33m)\u001b[0m\u001b[1;33m\u001b[0m\u001b[1;33m\u001b[0m\u001b[0m\n\u001b[0m\u001b[0;32m   5532\u001b[0m     \u001b[1;32mexcept\u001b[0m \u001b[0m_core\u001b[0m\u001b[1;33m.\u001b[0m\u001b[0m_FallbackException\u001b[0m\u001b[1;33m:\u001b[0m\u001b[1;33m\u001b[0m\u001b[1;33m\u001b[0m\u001b[0m\n\u001b[0;32m   5533\u001b[0m       \u001b[1;32mpass\u001b[0m\u001b[1;33m\u001b[0m\u001b[1;33m\u001b[0m\u001b[0m\n",
      "\u001b[1;32m~\\anaconda3\\envs\\ds-py37\\lib\\site-packages\\tensorflow\\python\\framework\\ops.py\u001b[0m in \u001b[0;36mraise_from_not_ok_status\u001b[1;34m(e, name)\u001b[0m\n\u001b[0;32m   6860\u001b[0m   \u001b[0mmessage\u001b[0m \u001b[1;33m=\u001b[0m \u001b[0me\u001b[0m\u001b[1;33m.\u001b[0m\u001b[0mmessage\u001b[0m \u001b[1;33m+\u001b[0m \u001b[1;33m(\u001b[0m\u001b[1;34m\" name: \"\u001b[0m \u001b[1;33m+\u001b[0m \u001b[0mname\u001b[0m \u001b[1;32mif\u001b[0m \u001b[0mname\u001b[0m \u001b[1;32mis\u001b[0m \u001b[1;32mnot\u001b[0m \u001b[1;32mNone\u001b[0m \u001b[1;32melse\u001b[0m \u001b[1;34m\"\"\u001b[0m\u001b[1;33m)\u001b[0m\u001b[1;33m\u001b[0m\u001b[1;33m\u001b[0m\u001b[0m\n\u001b[0;32m   6861\u001b[0m   \u001b[1;31m# pylint: disable=protected-access\u001b[0m\u001b[1;33m\u001b[0m\u001b[1;33m\u001b[0m\u001b[1;33m\u001b[0m\u001b[0m\n\u001b[1;32m-> 6862\u001b[1;33m   \u001b[0msix\u001b[0m\u001b[1;33m.\u001b[0m\u001b[0mraise_from\u001b[0m\u001b[1;33m(\u001b[0m\u001b[0mcore\u001b[0m\u001b[1;33m.\u001b[0m\u001b[0m_status_to_exception\u001b[0m\u001b[1;33m(\u001b[0m\u001b[0me\u001b[0m\u001b[1;33m.\u001b[0m\u001b[0mcode\u001b[0m\u001b[1;33m,\u001b[0m \u001b[0mmessage\u001b[0m\u001b[1;33m)\u001b[0m\u001b[1;33m,\u001b[0m \u001b[1;32mNone\u001b[0m\u001b[1;33m)\u001b[0m\u001b[1;33m\u001b[0m\u001b[1;33m\u001b[0m\u001b[0m\n\u001b[0m\u001b[0;32m   6863\u001b[0m   \u001b[1;31m# pylint: enable=protected-access\u001b[0m\u001b[1;33m\u001b[0m\u001b[1;33m\u001b[0m\u001b[1;33m\u001b[0m\u001b[0m\n\u001b[0;32m   6864\u001b[0m \u001b[1;33m\u001b[0m\u001b[0m\n",
      "\u001b[1;32m~\\anaconda3\\envs\\ds-py37\\lib\\site-packages\\six.py\u001b[0m in \u001b[0;36mraise_from\u001b[1;34m(value, from_value)\u001b[0m\n",
      "\u001b[1;31mInvalidArgumentError\u001b[0m: Matrix size-incompatible: In[0]: [3,2], In[1]: [3,2] [Op:MatMul]"
     ]
    }
   ],
   "source": [
    "tf.matmul(X, Y)"
   ]
  },
  {
   "cell_type": "code",
   "execution_count": 64,
   "metadata": {
    "colab": {
     "base_uri": "https://localhost:8080/"
    },
    "executionInfo": {
     "elapsed": 971,
     "status": "ok",
     "timestamp": 1618844369276,
     "user": {
      "displayName": "Abhishek Bhatia",
      "photoUrl": "",
      "userId": "05636063588651340588"
     },
     "user_tz": -330
    },
    "id": "1GhxEb62o-DO",
    "outputId": "ee2b887c-9acf-4aa5-c17a-d08df75fdbce"
   },
   "outputs": [
    {
     "data": {
      "text/plain": [
       "<tf.Tensor: shape=(2, 3), dtype=int32, numpy=\n",
       "array([[ 7,  8,  9],\n",
       "       [10, 11, 12]])>"
      ]
     },
     "execution_count": 64,
     "metadata": {},
     "output_type": "execute_result"
    }
   ],
   "source": [
    "# Let's change the shape of Y\n",
    "tf.reshape(Y, shape=(2, 3))"
   ]
  },
  {
   "cell_type": "code",
   "execution_count": 65,
   "metadata": {
    "colab": {
     "base_uri": "https://localhost:8080/"
    },
    "executionInfo": {
     "elapsed": 940,
     "status": "ok",
     "timestamp": 1618844395344,
     "user": {
      "displayName": "Abhishek Bhatia",
      "photoUrl": "",
      "userId": "05636063588651340588"
     },
     "user_tz": -330
    },
    "id": "VoC_BrhMpPYw",
    "outputId": "8bfce5e4-72b2-4c6b-d017-dc25bd325846"
   },
   "outputs": [
    {
     "data": {
      "text/plain": [
       "<tf.Tensor: shape=(2, 3), dtype=int32, numpy=\n",
       "array([[ 7,  9, 11],\n",
       "       [ 8, 10, 12]])>"
      ]
     },
     "execution_count": 65,
     "metadata": {},
     "output_type": "execute_result"
    }
   ],
   "source": [
    "# Different from tf.transpose\n",
    "tf.transpose(Y)"
   ]
  },
  {
   "cell_type": "code",
   "execution_count": 66,
   "metadata": {
    "colab": {
     "base_uri": "https://localhost:8080/"
    },
    "executionInfo": {
     "elapsed": 964,
     "status": "ok",
     "timestamp": 1618844446629,
     "user": {
      "displayName": "Abhishek Bhatia",
      "photoUrl": "",
      "userId": "05636063588651340588"
     },
     "user_tz": -330
    },
    "id": "HIIyP7uopX-c",
    "outputId": "256b7392-cb5c-49a8-af67-989e7ad31726"
   },
   "outputs": [
    {
     "data": {
      "text/plain": [
       "<tf.Tensor: shape=(3, 3), dtype=int32, numpy=\n",
       "array([[ 27,  30,  33],\n",
       "       [ 61,  68,  75],\n",
       "       [ 95, 106, 117]])>"
      ]
     },
     "execution_count": 66,
     "metadata": {},
     "output_type": "execute_result"
    }
   ],
   "source": [
    "# now try to multiply X by Y\n",
    "X @ tf.reshape(Y, shape=(2, 3))\n"
   ]
  },
  {
   "cell_type": "markdown",
   "metadata": {
    "id": "KQ11g5MZpk1j"
   },
   "source": [
    "### Dot product\n",
    "\n",
    "* Matrix multiplication can also be expressed as a dot product\n",
    "* You can perform the matrix multiplication using:\n",
    "    * tensor.matmul()\n",
    "    * tensor.tensordot()\n",
    "    \n"
   ]
  },
  {
   "cell_type": "code",
   "execution_count": 67,
   "metadata": {
    "colab": {
     "base_uri": "https://localhost:8080/"
    },
    "executionInfo": {
     "elapsed": 879,
     "status": "ok",
     "timestamp": 1618844586012,
     "user": {
      "displayName": "Abhishek Bhatia",
      "photoUrl": "",
      "userId": "05636063588651340588"
     },
     "user_tz": -330
    },
    "id": "IJtGt1n4ppja",
    "outputId": "032b5348-3b3d-406c-a5ee-dd0e368a53dd"
   },
   "outputs": [
    {
     "data": {
      "text/plain": [
       "<tf.Tensor: shape=(2, 2), dtype=int32, numpy=\n",
       "array([[ 89,  98],\n",
       "       [116, 128]])>"
      ]
     },
     "execution_count": 67,
     "metadata": {},
     "output_type": "execute_result"
    }
   ],
   "source": [
    "\n",
    "tf.tensordot(tf.transpose(X), Y, axes=1)"
   ]
  },
  {
   "cell_type": "markdown",
   "metadata": {
    "id": "585Xmjkoqbrf"
   },
   "source": [
    "Generally when performing matrix multiplication between two tensors, and one of the dimensions do not line up, you would **transpose** one of the tensors and **NOT** reshape."
   ]
  },
  {
   "cell_type": "code",
   "execution_count": 68,
   "metadata": {
    "colab": {
     "base_uri": "https://localhost:8080/"
    },
    "executionInfo": {
     "elapsed": 746,
     "status": "ok",
     "timestamp": 1618844721933,
     "user": {
      "displayName": "Abhishek Bhatia",
      "photoUrl": "",
      "userId": "05636063588651340588"
     },
     "user_tz": -330
    },
    "id": "C6nwaImfqhON",
    "outputId": "419947ce-738c-42a6-eade-0c1f5c2663c4"
   },
   "outputs": [
    {
     "data": {
      "text/plain": [
       "tf.float32"
      ]
     },
     "execution_count": 68,
     "metadata": {},
     "output_type": "execute_result"
    }
   ],
   "source": [
    "# Create a new tensor with default datatype (float32)\n",
    "B = tf.constant([1.7, 7.4])\n",
    "B.dtype"
   ]
  },
  {
   "cell_type": "code",
   "execution_count": 69,
   "metadata": {
    "colab": {
     "base_uri": "https://localhost:8080/"
    },
    "executionInfo": {
     "elapsed": 865,
     "status": "ok",
     "timestamp": 1618844740502,
     "user": {
      "displayName": "Abhishek Bhatia",
      "photoUrl": "",
      "userId": "05636063588651340588"
     },
     "user_tz": -330
    },
    "id": "pWkb-r7hqipd",
    "outputId": "1ee3e7c9-62f4-4d48-ad23-5abc0040e746"
   },
   "outputs": [
    {
     "data": {
      "text/plain": [
       "tf.int32"
      ]
     },
     "execution_count": 69,
     "metadata": {},
     "output_type": "execute_result"
    }
   ],
   "source": [
    "C = tf.constant([7, 10])\n",
    "C.dtype"
   ]
  },
  {
   "cell_type": "code",
   "execution_count": 70,
   "metadata": {
    "colab": {
     "base_uri": "https://localhost:8080/"
    },
    "executionInfo": {
     "elapsed": 695,
     "status": "ok",
     "timestamp": 1618844796868,
     "user": {
      "displayName": "Abhishek Bhatia",
      "photoUrl": "",
      "userId": "05636063588651340588"
     },
     "user_tz": -330
    },
    "id": "BIEGrlaEqnOn",
    "outputId": "86ef8511-53d9-43d4-cfb2-3cc6dbc949fc"
   },
   "outputs": [
    {
     "data": {
      "text/plain": [
       "<tf.Tensor: shape=(2,), dtype=float16, numpy=array([1.7, 7.4], dtype=float16)>"
      ]
     },
     "execution_count": 70,
     "metadata": {},
     "output_type": "execute_result"
    }
   ],
   "source": [
    "# Change from float32 to float16 (reduced precision but high performance gains + less memory requirements)\n",
    "D = tf.cast(B, dtype=tf.float16)\n",
    "D"
   ]
  },
  {
   "cell_type": "code",
   "execution_count": 71,
   "metadata": {
    "colab": {
     "base_uri": "https://localhost:8080/"
    },
    "executionInfo": {
     "elapsed": 968,
     "status": "ok",
     "timestamp": 1618844822151,
     "user": {
      "displayName": "Abhishek Bhatia",
      "photoUrl": "",
      "userId": "05636063588651340588"
     },
     "user_tz": -330
    },
    "id": "qWl3PdRwq1uf",
    "outputId": "5c2f5034-f930-483e-f991-9bb66c639729"
   },
   "outputs": [
    {
     "data": {
      "text/plain": [
       "<tf.Tensor: shape=(2,), dtype=float32, numpy=array([ 7., 10.], dtype=float32)>"
      ]
     },
     "execution_count": 71,
     "metadata": {},
     "output_type": "execute_result"
    }
   ],
   "source": [
    "E = tf.cast(C, dtype=tf.float32)\n",
    "E"
   ]
  },
  {
   "cell_type": "markdown",
   "metadata": {
    "id": "EtzSCe90rLIk"
   },
   "source": [
    "## Aggregating tensors\n",
    "\n",
    "Use cases:\n",
    "- Implementing softmax (raise to e -> aggregated sum -> divide by sum)\n",
    "- Standardizing tensors\n",
    "- Removing noise (subtract mean noise from images)\n",
    "- Batch normalization\n",
    "- Mean prediction\n",
    "- Argmax prediction\n",
    "- Evaluating predictions\n",
    "- All neural network operations \n",
    "    - weighted linear combination\n",
    "    - then summing (aggregation)\n",
    "    - then non linearity (activation)"
   ]
  },
  {
   "cell_type": "code",
   "execution_count": 72,
   "metadata": {
    "colab": {
     "base_uri": "https://localhost:8080/"
    },
    "executionInfo": {
     "elapsed": 1204,
     "status": "ok",
     "timestamp": 1618844952765,
     "user": {
      "displayName": "Abhishek Bhatia",
      "photoUrl": "",
      "userId": "05636063588651340588"
     },
     "user_tz": -330
    },
    "id": "YMvDSO4rrQ_V",
    "outputId": "9dddd5d8-60e8-4a55-e51a-2c3464221f45"
   },
   "outputs": [
    {
     "data": {
      "text/plain": [
       "<tf.Tensor: shape=(2,), dtype=int32, numpy=array([-1,  2])>"
      ]
     },
     "execution_count": 72,
     "metadata": {},
     "output_type": "execute_result"
    }
   ],
   "source": [
    "# Creating a tensor\n",
    "tensor = tf.constant([-1, 2])\n",
    "tensor"
   ]
  },
  {
   "cell_type": "code",
   "execution_count": 73,
   "metadata": {
    "colab": {
     "base_uri": "https://localhost:8080/"
    },
    "executionInfo": {
     "elapsed": 1209,
     "status": "ok",
     "timestamp": 1618844967166,
     "user": {
      "displayName": "Abhishek Bhatia",
      "photoUrl": "",
      "userId": "05636063588651340588"
     },
     "user_tz": -330
    },
    "id": "0s3wM1TPra8v",
    "outputId": "c637595c-ba33-4a5b-9059-9fe41444f2bd"
   },
   "outputs": [
    {
     "data": {
      "text/plain": [
       "<tf.Tensor: shape=(2,), dtype=int32, numpy=array([1, 2])>"
      ]
     },
     "execution_count": 73,
     "metadata": {},
     "output_type": "execute_result"
    }
   ],
   "source": [
    "# Get the absolute values\n",
    "tf.abs(tensor)"
   ]
  },
  {
   "cell_type": "code",
   "execution_count": 81,
   "metadata": {
    "executionInfo": {
     "elapsed": 1586,
     "status": "ok",
     "timestamp": 1618845113683,
     "user": {
      "displayName": "Abhishek Bhatia",
      "photoUrl": "",
      "userId": "05636063588651340588"
     },
     "user_tz": -330
    },
    "id": "TYeRVhPZr_4z"
   },
   "outputs": [],
   "source": [
    "import tensorflow_probability as tfp"
   ]
  },
  {
   "cell_type": "code",
   "execution_count": 82,
   "metadata": {
    "colab": {
     "base_uri": "https://localhost:8080/"
    },
    "executionInfo": {
     "elapsed": 970,
     "status": "ok",
     "timestamp": 1618845170026,
     "user": {
      "displayName": "Abhishek Bhatia",
      "photoUrl": "",
      "userId": "05636063588651340588"
     },
     "user_tz": -330
    },
    "id": "tGS2WFDAsGSZ",
    "outputId": "639ebf5c-ffe2-49d0-d89b-45f103fff4e8"
   },
   "outputs": [
    {
     "data": {
      "text/plain": [
       "<tf.Tensor: shape=(50,), dtype=int32, numpy=\n",
       "array([75, 36, 27, 28, 30, 18, 74, 10, 85, 30, 85, 31, 32, 48, 79, 65, 34,\n",
       "       45, 35, 28, 84, 40, 59, 23, 48, 35, 12, 18, 17, 31, 17, 90, 87, 38,\n",
       "       20,  5, 69, 56, 54,  9, 89, 87, 59, 63, 82, 68, 90, 47, 14, 49])>"
      ]
     },
     "execution_count": 82,
     "metadata": {},
     "output_type": "execute_result"
    }
   ],
   "source": [
    "E = tf.constant(np.random.randint(0, 100, size=50))\n",
    "E"
   ]
  },
  {
   "cell_type": "code",
   "execution_count": 83,
   "metadata": {
    "executionInfo": {
     "elapsed": 953,
     "status": "ok",
     "timestamp": 1618845076526,
     "user": {
      "displayName": "Abhishek Bhatia",
      "photoUrl": "",
      "userId": "05636063588651340588"
     },
     "user_tz": -330
    },
    "id": "DICIyKmsrg9v"
   },
   "outputs": [],
   "source": [
    "def tensor_variance(tensor):\n",
    "    mu = tf.reduce_mean(tensor)\n",
    "    var = tf.reduce_sum((tensor - mu)**2)/tf.shape(tensor).numpy()\n",
    "    return tf.squeeze(var)\n",
    "    "
   ]
  },
  {
   "cell_type": "code",
   "execution_count": 90,
   "metadata": {
    "colab": {
     "base_uri": "https://localhost:8080/"
    },
    "executionInfo": {
     "elapsed": 983,
     "status": "ok",
     "timestamp": 1618845173588,
     "user": {
      "displayName": "Abhishek Bhatia",
      "photoUrl": "",
      "userId": "05636063588651340588"
     },
     "user_tz": -330
    },
    "id": "eitFLq1jr-eH",
    "outputId": "393e639a-7c98-4f46-da28-1dba564c099c"
   },
   "outputs": [
    {
     "name": "stdout",
     "output_type": "stream",
     "text": [
      "min: tf.Tensor(5, shape=(), dtype=int32)\n",
      "max: tf.Tensor(90, shape=(), dtype=int32)\n",
      "mean: tf.Tensor(47, shape=(), dtype=int32)\n",
      "sum: tf.Tensor(2355, shape=(), dtype=int32)\n",
      "std: tf.Tensor(25.859814, shape=(), dtype=float32)\n",
      "variance: tf.Tensor(668.73, shape=(), dtype=float32)\n",
      "variance: tf.Tensor(668.74, shape=(), dtype=float64)\n",
      "variance: tf.Tensor(668, shape=(), dtype=int32)\n"
     ]
    }
   ],
   "source": [
    "print('min:', tf.reduce_min(E))\n",
    "print('max:', tf.reduce_max(E))\n",
    "print('mean:', tf.reduce_mean(E))\n",
    "print('sum:', tf.reduce_sum(E))\n",
    "print('std:', tf.math.reduce_std(tf.cast(E, dtype=tf.float32)))\n",
    "print('variance:', tf.math.reduce_variance(tf.cast(E, dtype=tf.float32)))\n",
    "print('variance:', tensor_variance(E))\n",
    "print('variance:', tfp.stats.variance(E))"
   ]
  },
  {
   "cell_type": "code",
   "execution_count": 96,
   "metadata": {
    "colab": {
     "base_uri": "https://localhost:8080/"
    },
    "executionInfo": {
     "elapsed": 705,
     "status": "ok",
     "timestamp": 1618845254733,
     "user": {
      "displayName": "Abhishek Bhatia",
      "photoUrl": "",
      "userId": "05636063588651340588"
     },
     "user_tz": -330
    },
    "id": "O4w9ivd7sVI2",
    "outputId": "33e3bd86-c3f8-430a-f9ee-890951db6db1"
   },
   "outputs": [
    {
     "name": "stdout",
     "output_type": "stream",
     "text": [
      "Input must be either real or complex\n"
     ]
    }
   ],
   "source": [
    "# NOTE: requires real or complex \n",
    "# Since our E tensor is int32, we would have to cast it as above\n",
    "try:\n",
    "    tf.math.reduce_std(E) \n",
    "except Exception as e:\n",
    "    print(e)"
   ]
  },
  {
   "cell_type": "markdown",
   "metadata": {
    "id": "WWISdRn0sl-v"
   },
   "source": [
    "**Find the positional maximum and minumum**"
   ]
  },
  {
   "cell_type": "code",
   "execution_count": 97,
   "metadata": {
    "colab": {
     "base_uri": "https://localhost:8080/"
    },
    "executionInfo": {
     "elapsed": 1005,
     "status": "ok",
     "timestamp": 1618845313116,
     "user": {
      "displayName": "Abhishek Bhatia",
      "photoUrl": "",
      "userId": "05636063588651340588"
     },
     "user_tz": -330
    },
    "id": "7i3WOYK6sqh0",
    "outputId": "0c186165-a27c-4231-e95c-a09c9b5b8f42"
   },
   "outputs": [
    {
     "data": {
      "text/plain": [
       "<tf.Tensor: shape=(50,), dtype=float32, numpy=\n",
       "array([0.6645621 , 0.44100678, 0.3528825 , 0.46448255, 0.03366041,\n",
       "       0.68467236, 0.74011743, 0.8724445 , 0.22632635, 0.22319686,\n",
       "       0.3103881 , 0.7223358 , 0.13318717, 0.5480639 , 0.5746088 ,\n",
       "       0.8996835 , 0.00946367, 0.5212307 , 0.6345445 , 0.1993283 ,\n",
       "       0.72942245, 0.54583454, 0.10756552, 0.6767061 , 0.6602763 ,\n",
       "       0.33695042, 0.60141766, 0.21062577, 0.8527372 , 0.44062173,\n",
       "       0.9485276 , 0.23752594, 0.81179297, 0.5263394 , 0.494308  ,\n",
       "       0.21612847, 0.8457197 , 0.8718841 , 0.3083862 , 0.6868038 ,\n",
       "       0.23764038, 0.7817228 , 0.9671384 , 0.06870162, 0.79873943,\n",
       "       0.66028714, 0.5871513 , 0.16461694, 0.7381023 , 0.32054043],\n",
       "      dtype=float32)>"
      ]
     },
     "execution_count": 97,
     "metadata": {},
     "output_type": "execute_result"
    }
   ],
   "source": [
    "# Create a new tensor \n",
    "tf.random.set_seed(42)\n",
    "tensor = tf.random.uniform(shape=(50,))\n",
    "tensor"
   ]
  },
  {
   "cell_type": "code",
   "execution_count": 98,
   "metadata": {
    "colab": {
     "base_uri": "https://localhost:8080/"
    },
    "executionInfo": {
     "elapsed": 722,
     "status": "ok",
     "timestamp": 1618845334475,
     "user": {
      "displayName": "Abhishek Bhatia",
      "photoUrl": "",
      "userId": "05636063588651340588"
     },
     "user_tz": -330
    },
    "id": "kOT2uqfOs0bF",
    "outputId": "5533a61b-04c0-45f2-e947-fb5e0fd87ab7"
   },
   "outputs": [
    {
     "data": {
      "text/plain": [
       "<tf.Tensor: shape=(), dtype=int64, numpy=42>"
      ]
     },
     "execution_count": 98,
     "metadata": {},
     "output_type": "execute_result"
    }
   ],
   "source": [
    "# Find the positional maximum\n",
    "tf.argmax(tensor)\n"
   ]
  },
  {
   "cell_type": "code",
   "execution_count": 99,
   "metadata": {
    "colab": {
     "base_uri": "https://localhost:8080/"
    },
    "executionInfo": {
     "elapsed": 893,
     "status": "ok",
     "timestamp": 1618845365466,
     "user": {
      "displayName": "Abhishek Bhatia",
      "photoUrl": "",
      "userId": "05636063588651340588"
     },
     "user_tz": -330
    },
    "id": "DhdU6HbVs5dx",
    "outputId": "6bfc8fd3-b092-4493-88e7-af2522cdcda1"
   },
   "outputs": [
    {
     "data": {
      "text/plain": [
       "<tf.Tensor: shape=(), dtype=float32, numpy=0.9671384>"
      ]
     },
     "execution_count": 99,
     "metadata": {},
     "output_type": "execute_result"
    }
   ],
   "source": [
    "# Index on our largest value position\n",
    "tensor[tf.argmax(tensor)]"
   ]
  },
  {
   "cell_type": "code",
   "execution_count": 100,
   "metadata": {
    "colab": {
     "base_uri": "https://localhost:8080/"
    },
    "executionInfo": {
     "elapsed": 702,
     "status": "ok",
     "timestamp": 1618845396535,
     "user": {
      "displayName": "Abhishek Bhatia",
      "photoUrl": "",
      "userId": "05636063588651340588"
     },
     "user_tz": -330
    },
    "id": "2RH1PpcQtAQO",
    "outputId": "3258c257-63e6-4084-d62c-7a77513332e4"
   },
   "outputs": [
    {
     "data": {
      "text/plain": [
       "<tf.Tensor: shape=(), dtype=float32, numpy=0.9671384>"
      ]
     },
     "execution_count": 100,
     "metadata": {},
     "output_type": "execute_result"
    }
   ],
   "source": [
    "tf.reduce_max(tensor)"
   ]
  },
  {
   "cell_type": "markdown",
   "metadata": {
    "id": "isWR3MbFtnMI"
   },
   "source": [
    "### Squeeze a tensor (remove all single dimensions)\n",
    "\n"
   ]
  },
  {
   "cell_type": "code",
   "execution_count": 101,
   "metadata": {
    "colab": {
     "base_uri": "https://localhost:8080/"
    },
    "executionInfo": {
     "elapsed": 938,
     "status": "ok",
     "timestamp": 1618845612192,
     "user": {
      "displayName": "Abhishek Bhatia",
      "photoUrl": "",
      "userId": "05636063588651340588"
     },
     "user_tz": -330
    },
    "id": "4WYI9X2ltwHJ",
    "outputId": "a5d59726-aa11-4961-9f60-5f0f03dd8970"
   },
   "outputs": [
    {
     "data": {
      "text/plain": [
       "<tf.Tensor: shape=(1, 1, 1, 1, 10, 1, 2), dtype=float32, numpy=\n",
       "array([[[[[[[0.6645621 , 0.44100678]],\n",
       "\n",
       "           [[0.3528825 , 0.46448255]],\n",
       "\n",
       "           [[0.03366041, 0.68467236]],\n",
       "\n",
       "           [[0.74011743, 0.8724445 ]],\n",
       "\n",
       "           [[0.22632635, 0.22319686]],\n",
       "\n",
       "           [[0.3103881 , 0.7223358 ]],\n",
       "\n",
       "           [[0.13318717, 0.5480639 ]],\n",
       "\n",
       "           [[0.5746088 , 0.8996835 ]],\n",
       "\n",
       "           [[0.00946367, 0.5212307 ]],\n",
       "\n",
       "           [[0.6345445 , 0.1993283 ]]]]]]], dtype=float32)>"
      ]
     },
     "execution_count": 101,
     "metadata": {},
     "output_type": "execute_result"
    }
   ],
   "source": [
    "tf.random.set_seed(42)\n",
    "tensor = tf.constant(tf.random.uniform(shape=(10, 2)), shape=(1, 1, 1, 1, 10, 1, 2))\n",
    "tensor"
   ]
  },
  {
   "cell_type": "code",
   "execution_count": 102,
   "metadata": {
    "colab": {
     "base_uri": "https://localhost:8080/"
    },
    "executionInfo": {
     "elapsed": 952,
     "status": "ok",
     "timestamp": 1618845659899,
     "user": {
      "displayName": "Abhishek Bhatia",
      "photoUrl": "",
      "userId": "05636063588651340588"
     },
     "user_tz": -330
    },
    "id": "ilDrDsOcuCEQ",
    "outputId": "0985c58a-08a7-4fb3-ab0c-8607e68dc890"
   },
   "outputs": [
    {
     "data": {
      "text/plain": [
       "<tf.Tensor: shape=(10, 2), dtype=float32, numpy=\n",
       "array([[0.6645621 , 0.44100678],\n",
       "       [0.3528825 , 0.46448255],\n",
       "       [0.03366041, 0.68467236],\n",
       "       [0.74011743, 0.8724445 ],\n",
       "       [0.22632635, 0.22319686],\n",
       "       [0.3103881 , 0.7223358 ],\n",
       "       [0.13318717, 0.5480639 ],\n",
       "       [0.5746088 , 0.8996835 ],\n",
       "       [0.00946367, 0.5212307 ],\n",
       "       [0.6345445 , 0.1993283 ]], dtype=float32)>"
      ]
     },
     "execution_count": 102,
     "metadata": {},
     "output_type": "execute_result"
    }
   ],
   "source": [
    "tf.squeeze(tensor)"
   ]
  },
  {
   "cell_type": "markdown",
   "metadata": {
    "id": "j1aumzlMuL5G"
   },
   "source": [
    "### One Hot Encoding"
   ]
  },
  {
   "cell_type": "code",
   "execution_count": 103,
   "metadata": {
    "colab": {
     "base_uri": "https://localhost:8080/"
    },
    "executionInfo": {
     "elapsed": 967,
     "status": "ok",
     "timestamp": 1618845771177,
     "user": {
      "displayName": "Abhishek Bhatia",
      "photoUrl": "",
      "userId": "05636063588651340588"
     },
     "user_tz": -330
    },
    "id": "A8ug5CHFuRPs",
    "outputId": "16934c1d-11f7-49c6-c5c3-60c3819bfa87"
   },
   "outputs": [
    {
     "data": {
      "text/plain": [
       "<tf.Tensor: shape=(4, 4), dtype=float32, numpy=\n",
       "array([[1., 0., 0., 0.],\n",
       "       [0., 1., 0., 0.],\n",
       "       [0., 0., 1., 0.],\n",
       "       [0., 0., 0., 1.]], dtype=float32)>"
      ]
     },
     "execution_count": 103,
     "metadata": {},
     "output_type": "execute_result"
    }
   ],
   "source": [
    "# Create a list of labels\n",
    "some_list = [0, 1, 2, 3]\n",
    "num_cat = 4\n",
    "tf.one_hot(some_list, depth=num_cat)"
   ]
  },
  {
   "cell_type": "code",
   "execution_count": 104,
   "metadata": {
    "colab": {
     "base_uri": "https://localhost:8080/"
    },
    "executionInfo": {
     "elapsed": 688,
     "status": "ok",
     "timestamp": 1618845976787,
     "user": {
      "displayName": "Abhishek Bhatia",
      "photoUrl": "",
      "userId": "05636063588651340588"
     },
     "user_tz": -330
    },
    "id": "eCbxNnk0ujPT",
    "outputId": "f9f65af1-e91b-40d2-a435-a4bf8c78c1b3"
   },
   "outputs": [
    {
     "data": {
      "text/plain": [
       "<tf.Tensor: shape=(20,), dtype=int64, numpy=\n",
       "array([2, 1, 3, 4, 3, 3, 3, 0, 4, 2, 3, 2, 4, 0, 3, 1, 1, 3, 2, 4],\n",
       "      dtype=int64)>"
      ]
     },
     "execution_count": 104,
     "metadata": {},
     "output_type": "execute_result"
    }
   ],
   "source": [
    "# Sample from a multinomial distribution\n",
    "# Imagine this being the labels Y for a supervised problem\n",
    "num_cats = 5\n",
    "probs = [0.1, 0.2, 0.1, 0.45, 0.15]\n",
    "samples = tf.squeeze(tf.random.categorical(tf.math.log([probs]), 20))\n",
    "samples"
   ]
  },
  {
   "cell_type": "code",
   "execution_count": 105,
   "metadata": {
    "colab": {
     "base_uri": "https://localhost:8080/"
    },
    "executionInfo": {
     "elapsed": 904,
     "status": "ok",
     "timestamp": 1618845979053,
     "user": {
      "displayName": "Abhishek Bhatia",
      "photoUrl": "",
      "userId": "05636063588651340588"
     },
     "user_tz": -330
    },
    "id": "AW0ZFw-tvCa9",
    "outputId": "33f0ac71-bf60-4d64-835d-6e084ff6ed83"
   },
   "outputs": [
    {
     "data": {
      "text/plain": [
       "<tf.Tensor: shape=(20, 5), dtype=float32, numpy=\n",
       "array([[0., 0., 1., 0., 0.],\n",
       "       [0., 1., 0., 0., 0.],\n",
       "       [0., 0., 0., 1., 0.],\n",
       "       [0., 0., 0., 0., 1.],\n",
       "       [0., 0., 0., 1., 0.],\n",
       "       [0., 0., 0., 1., 0.],\n",
       "       [0., 0., 0., 1., 0.],\n",
       "       [1., 0., 0., 0., 0.],\n",
       "       [0., 0., 0., 0., 1.],\n",
       "       [0., 0., 1., 0., 0.],\n",
       "       [0., 0., 0., 1., 0.],\n",
       "       [0., 0., 1., 0., 0.],\n",
       "       [0., 0., 0., 0., 1.],\n",
       "       [1., 0., 0., 0., 0.],\n",
       "       [0., 0., 0., 1., 0.],\n",
       "       [0., 1., 0., 0., 0.],\n",
       "       [0., 1., 0., 0., 0.],\n",
       "       [0., 0., 0., 1., 0.],\n",
       "       [0., 0., 1., 0., 0.],\n",
       "       [0., 0., 0., 0., 1.]], dtype=float32)>"
      ]
     },
     "execution_count": 105,
     "metadata": {},
     "output_type": "execute_result"
    }
   ],
   "source": [
    "tf.one_hot(samples, depth=num_cats)\n"
   ]
  },
  {
   "cell_type": "code",
   "execution_count": 106,
   "metadata": {
    "colab": {
     "base_uri": "https://localhost:8080/"
    },
    "executionInfo": {
     "elapsed": 896,
     "status": "ok",
     "timestamp": 1618846026055,
     "user": {
      "displayName": "Abhishek Bhatia",
      "photoUrl": "",
      "userId": "05636063588651340588"
     },
     "user_tz": -330
    },
    "id": "fvBD2n3UvYNF",
    "outputId": "1cd58afe-aba9-492a-fc8d-ef5d712b4a22"
   },
   "outputs": [
    {
     "data": {
      "text/plain": [
       "<tf.Tensor: shape=(20, 5), dtype=string, numpy=\n",
       "array([[b'no', b'no', b'yes', b'no', b'no'],\n",
       "       [b'no', b'yes', b'no', b'no', b'no'],\n",
       "       [b'no', b'no', b'no', b'yes', b'no'],\n",
       "       [b'no', b'no', b'no', b'no', b'yes'],\n",
       "       [b'no', b'no', b'no', b'yes', b'no'],\n",
       "       [b'no', b'no', b'no', b'yes', b'no'],\n",
       "       [b'no', b'no', b'no', b'yes', b'no'],\n",
       "       [b'yes', b'no', b'no', b'no', b'no'],\n",
       "       [b'no', b'no', b'no', b'no', b'yes'],\n",
       "       [b'no', b'no', b'yes', b'no', b'no'],\n",
       "       [b'no', b'no', b'no', b'yes', b'no'],\n",
       "       [b'no', b'no', b'yes', b'no', b'no'],\n",
       "       [b'no', b'no', b'no', b'no', b'yes'],\n",
       "       [b'yes', b'no', b'no', b'no', b'no'],\n",
       "       [b'no', b'no', b'no', b'yes', b'no'],\n",
       "       [b'no', b'yes', b'no', b'no', b'no'],\n",
       "       [b'no', b'yes', b'no', b'no', b'no'],\n",
       "       [b'no', b'no', b'no', b'yes', b'no'],\n",
       "       [b'no', b'no', b'yes', b'no', b'no'],\n",
       "       [b'no', b'no', b'no', b'no', b'yes']], dtype=object)>"
      ]
     },
     "execution_count": 106,
     "metadata": {},
     "output_type": "execute_result"
    }
   ],
   "source": [
    "tf.one_hot(samples, depth=num_cats, on_value='yes', off_value='no')"
   ]
  },
  {
   "cell_type": "markdown",
   "metadata": {
    "id": "WRE43NjpviUf"
   },
   "source": [
    "### Square, log, square root"
   ]
  },
  {
   "cell_type": "code",
   "execution_count": 107,
   "metadata": {
    "colab": {
     "base_uri": "https://localhost:8080/"
    },
    "executionInfo": {
     "elapsed": 985,
     "status": "ok",
     "timestamp": 1618846055717,
     "user": {
      "displayName": "Abhishek Bhatia",
      "photoUrl": "",
      "userId": "05636063588651340588"
     },
     "user_tz": -330
    },
    "id": "o1eRmOJWvljs",
    "outputId": "f4306d4a-fde8-4588-d985-468b608c2438"
   },
   "outputs": [
    {
     "data": {
      "text/plain": [
       "<tf.Tensor: shape=(9,), dtype=int32, numpy=array([1, 2, 3, 4, 5, 6, 7, 8, 9])>"
      ]
     },
     "execution_count": 107,
     "metadata": {},
     "output_type": "execute_result"
    }
   ],
   "source": [
    "tensor = tf.range(1, 10)\n",
    "tensor"
   ]
  },
  {
   "cell_type": "code",
   "execution_count": 108,
   "metadata": {
    "colab": {
     "base_uri": "https://localhost:8080/"
    },
    "executionInfo": {
     "elapsed": 1004,
     "status": "ok",
     "timestamp": 1618846068506,
     "user": {
      "displayName": "Abhishek Bhatia",
      "photoUrl": "",
      "userId": "05636063588651340588"
     },
     "user_tz": -330
    },
    "id": "i-4_p8X7vonu",
    "outputId": "b0f27fd3-98b2-47be-d4ca-8d11b7a93c30"
   },
   "outputs": [
    {
     "data": {
      "text/plain": [
       "<tf.Tensor: shape=(9,), dtype=int32, numpy=array([ 1,  4,  9, 16, 25, 36, 49, 64, 81])>"
      ]
     },
     "execution_count": 108,
     "metadata": {},
     "output_type": "execute_result"
    }
   ],
   "source": [
    "tf.square(tensor)"
   ]
  },
  {
   "cell_type": "code",
   "execution_count": 109,
   "metadata": {
    "colab": {
     "base_uri": "https://localhost:8080/",
     "height": 277
    },
    "executionInfo": {
     "elapsed": 1049,
     "status": "error",
     "timestamp": 1618846102224,
     "user": {
      "displayName": "Abhishek Bhatia",
      "photoUrl": "",
      "userId": "05636063588651340588"
     },
     "user_tz": -330
    },
    "id": "sAwTHYp4vrJ4",
    "outputId": "0deed0b7-8dff-4ac9-d9fc-b963db03480b"
   },
   "outputs": [
    {
     "ename": "InvalidArgumentError",
     "evalue": "Value for attr 'T' of int32 is not in the list of allowed values: bfloat16, half, float, double, complex64, complex128\n\t; NodeDef: {{node Sqrt}}; Op<name=Sqrt; signature=x:T -> y:T; attr=T:type,allowed=[DT_BFLOAT16, DT_HALF, DT_FLOAT, DT_DOUBLE, DT_COMPLEX64, DT_COMPLEX128]> [Op:Sqrt]",
     "output_type": "error",
     "traceback": [
      "\u001b[1;31m---------------------------------------------------------------------------\u001b[0m",
      "\u001b[1;31mInvalidArgumentError\u001b[0m                      Traceback (most recent call last)",
      "\u001b[1;32m<ipython-input-109-6d0ffb6c5cdf>\u001b[0m in \u001b[0;36m<module>\u001b[1;34m\u001b[0m\n\u001b[0;32m      1\u001b[0m \u001b[1;31m# Square root will require a real (float) or complex -> on int it won't work\u001b[0m\u001b[1;33m\u001b[0m\u001b[1;33m\u001b[0m\u001b[1;33m\u001b[0m\u001b[0m\n\u001b[1;32m----> 2\u001b[1;33m \u001b[0mtf\u001b[0m\u001b[1;33m.\u001b[0m\u001b[0msqrt\u001b[0m\u001b[1;33m(\u001b[0m\u001b[0mtensor\u001b[0m\u001b[1;33m)\u001b[0m\u001b[1;33m\u001b[0m\u001b[1;33m\u001b[0m\u001b[0m\n\u001b[0m",
      "\u001b[1;32m~\\anaconda3\\envs\\ds-py37\\lib\\site-packages\\tensorflow\\python\\util\\dispatch.py\u001b[0m in \u001b[0;36mwrapper\u001b[1;34m(*args, **kwargs)\u001b[0m\n\u001b[0;32m    199\u001b[0m     \u001b[1;34m\"\"\"Call target, and fall back on dispatchers if there is a TypeError.\"\"\"\u001b[0m\u001b[1;33m\u001b[0m\u001b[1;33m\u001b[0m\u001b[0m\n\u001b[0;32m    200\u001b[0m     \u001b[1;32mtry\u001b[0m\u001b[1;33m:\u001b[0m\u001b[1;33m\u001b[0m\u001b[1;33m\u001b[0m\u001b[0m\n\u001b[1;32m--> 201\u001b[1;33m       \u001b[1;32mreturn\u001b[0m \u001b[0mtarget\u001b[0m\u001b[1;33m(\u001b[0m\u001b[1;33m*\u001b[0m\u001b[0margs\u001b[0m\u001b[1;33m,\u001b[0m \u001b[1;33m**\u001b[0m\u001b[0mkwargs\u001b[0m\u001b[1;33m)\u001b[0m\u001b[1;33m\u001b[0m\u001b[1;33m\u001b[0m\u001b[0m\n\u001b[0m\u001b[0;32m    202\u001b[0m     \u001b[1;32mexcept\u001b[0m \u001b[1;33m(\u001b[0m\u001b[0mTypeError\u001b[0m\u001b[1;33m,\u001b[0m \u001b[0mValueError\u001b[0m\u001b[1;33m)\u001b[0m\u001b[1;33m:\u001b[0m\u001b[1;33m\u001b[0m\u001b[1;33m\u001b[0m\u001b[0m\n\u001b[0;32m    203\u001b[0m       \u001b[1;31m# Note: convert_to_eager_tensor currently raises a ValueError, not a\u001b[0m\u001b[1;33m\u001b[0m\u001b[1;33m\u001b[0m\u001b[1;33m\u001b[0m\u001b[0m\n",
      "\u001b[1;32m~\\anaconda3\\envs\\ds-py37\\lib\\site-packages\\tensorflow\\python\\ops\\math_ops.py\u001b[0m in \u001b[0;36msqrt\u001b[1;34m(x, name)\u001b[0m\n\u001b[0;32m   4901\u001b[0m     \u001b[0mA\u001b[0m\u001b[0;31m \u001b[0m\u001b[0;31m`\u001b[0m\u001b[0mtf\u001b[0m\u001b[1;33m.\u001b[0m\u001b[0mTensor\u001b[0m\u001b[0;31m`\u001b[0m \u001b[0mof\u001b[0m \u001b[0msame\u001b[0m \u001b[0msize\u001b[0m\u001b[1;33m,\u001b[0m \u001b[0mtype\u001b[0m \u001b[1;32mand\u001b[0m \u001b[0msparsity\u001b[0m \u001b[1;32mas\u001b[0m\u001b[0;31m \u001b[0m\u001b[0;31m`\u001b[0m\u001b[0mx\u001b[0m\u001b[0;31m`\u001b[0m\u001b[1;33m.\u001b[0m\u001b[1;33m\u001b[0m\u001b[1;33m\u001b[0m\u001b[0m\n\u001b[0;32m   4902\u001b[0m   \"\"\"\n\u001b[1;32m-> 4903\u001b[1;33m   \u001b[1;32mreturn\u001b[0m \u001b[0mgen_math_ops\u001b[0m\u001b[1;33m.\u001b[0m\u001b[0msqrt\u001b[0m\u001b[1;33m(\u001b[0m\u001b[0mx\u001b[0m\u001b[1;33m,\u001b[0m \u001b[0mname\u001b[0m\u001b[1;33m)\u001b[0m\u001b[1;33m\u001b[0m\u001b[1;33m\u001b[0m\u001b[0m\n\u001b[0m\u001b[0;32m   4904\u001b[0m \u001b[1;33m\u001b[0m\u001b[0m\n\u001b[0;32m   4905\u001b[0m \u001b[1;33m\u001b[0m\u001b[0m\n",
      "\u001b[1;32m~\\anaconda3\\envs\\ds-py37\\lib\\site-packages\\tensorflow\\python\\ops\\gen_math_ops.py\u001b[0m in \u001b[0;36msqrt\u001b[1;34m(x, name)\u001b[0m\n\u001b[0;32m  10034\u001b[0m       \u001b[1;32mreturn\u001b[0m \u001b[0m_result\u001b[0m\u001b[1;33m\u001b[0m\u001b[1;33m\u001b[0m\u001b[0m\n\u001b[0;32m  10035\u001b[0m     \u001b[1;32mexcept\u001b[0m \u001b[0m_core\u001b[0m\u001b[1;33m.\u001b[0m\u001b[0m_NotOkStatusException\u001b[0m \u001b[1;32mas\u001b[0m \u001b[0me\u001b[0m\u001b[1;33m:\u001b[0m\u001b[1;33m\u001b[0m\u001b[1;33m\u001b[0m\u001b[0m\n\u001b[1;32m> 10036\u001b[1;33m       \u001b[0m_ops\u001b[0m\u001b[1;33m.\u001b[0m\u001b[0mraise_from_not_ok_status\u001b[0m\u001b[1;33m(\u001b[0m\u001b[0me\u001b[0m\u001b[1;33m,\u001b[0m \u001b[0mname\u001b[0m\u001b[1;33m)\u001b[0m\u001b[1;33m\u001b[0m\u001b[1;33m\u001b[0m\u001b[0m\n\u001b[0m\u001b[0;32m  10037\u001b[0m     \u001b[1;32mexcept\u001b[0m \u001b[0m_core\u001b[0m\u001b[1;33m.\u001b[0m\u001b[0m_FallbackException\u001b[0m\u001b[1;33m:\u001b[0m\u001b[1;33m\u001b[0m\u001b[1;33m\u001b[0m\u001b[0m\n\u001b[0;32m  10038\u001b[0m       \u001b[1;32mpass\u001b[0m\u001b[1;33m\u001b[0m\u001b[1;33m\u001b[0m\u001b[0m\n",
      "\u001b[1;32m~\\anaconda3\\envs\\ds-py37\\lib\\site-packages\\tensorflow\\python\\framework\\ops.py\u001b[0m in \u001b[0;36mraise_from_not_ok_status\u001b[1;34m(e, name)\u001b[0m\n\u001b[0;32m   6860\u001b[0m   \u001b[0mmessage\u001b[0m \u001b[1;33m=\u001b[0m \u001b[0me\u001b[0m\u001b[1;33m.\u001b[0m\u001b[0mmessage\u001b[0m \u001b[1;33m+\u001b[0m \u001b[1;33m(\u001b[0m\u001b[1;34m\" name: \"\u001b[0m \u001b[1;33m+\u001b[0m \u001b[0mname\u001b[0m \u001b[1;32mif\u001b[0m \u001b[0mname\u001b[0m \u001b[1;32mis\u001b[0m \u001b[1;32mnot\u001b[0m \u001b[1;32mNone\u001b[0m \u001b[1;32melse\u001b[0m \u001b[1;34m\"\"\u001b[0m\u001b[1;33m)\u001b[0m\u001b[1;33m\u001b[0m\u001b[1;33m\u001b[0m\u001b[0m\n\u001b[0;32m   6861\u001b[0m   \u001b[1;31m# pylint: disable=protected-access\u001b[0m\u001b[1;33m\u001b[0m\u001b[1;33m\u001b[0m\u001b[1;33m\u001b[0m\u001b[0m\n\u001b[1;32m-> 6862\u001b[1;33m   \u001b[0msix\u001b[0m\u001b[1;33m.\u001b[0m\u001b[0mraise_from\u001b[0m\u001b[1;33m(\u001b[0m\u001b[0mcore\u001b[0m\u001b[1;33m.\u001b[0m\u001b[0m_status_to_exception\u001b[0m\u001b[1;33m(\u001b[0m\u001b[0me\u001b[0m\u001b[1;33m.\u001b[0m\u001b[0mcode\u001b[0m\u001b[1;33m,\u001b[0m \u001b[0mmessage\u001b[0m\u001b[1;33m)\u001b[0m\u001b[1;33m,\u001b[0m \u001b[1;32mNone\u001b[0m\u001b[1;33m)\u001b[0m\u001b[1;33m\u001b[0m\u001b[1;33m\u001b[0m\u001b[0m\n\u001b[0m\u001b[0;32m   6863\u001b[0m   \u001b[1;31m# pylint: enable=protected-access\u001b[0m\u001b[1;33m\u001b[0m\u001b[1;33m\u001b[0m\u001b[1;33m\u001b[0m\u001b[0m\n\u001b[0;32m   6864\u001b[0m \u001b[1;33m\u001b[0m\u001b[0m\n",
      "\u001b[1;32m~\\anaconda3\\envs\\ds-py37\\lib\\site-packages\\six.py\u001b[0m in \u001b[0;36mraise_from\u001b[1;34m(value, from_value)\u001b[0m\n",
      "\u001b[1;31mInvalidArgumentError\u001b[0m: Value for attr 'T' of int32 is not in the list of allowed values: bfloat16, half, float, double, complex64, complex128\n\t; NodeDef: {{node Sqrt}}; Op<name=Sqrt; signature=x:T -> y:T; attr=T:type,allowed=[DT_BFLOAT16, DT_HALF, DT_FLOAT, DT_DOUBLE, DT_COMPLEX64, DT_COMPLEX128]> [Op:Sqrt]"
     ]
    }
   ],
   "source": [
    "# Square root will require a real (float) or complex -> on int it won't work\n",
    "tf.sqrt(tensor)"
   ]
  },
  {
   "cell_type": "code",
   "execution_count": 110,
   "metadata": {
    "colab": {
     "base_uri": "https://localhost:8080/"
    },
    "executionInfo": {
     "elapsed": 871,
     "status": "ok",
     "timestamp": 1618846178120,
     "user": {
      "displayName": "Abhishek Bhatia",
      "photoUrl": "",
      "userId": "05636063588651340588"
     },
     "user_tz": -330
    },
    "id": "lnkQH9Y0vtHE",
    "outputId": "5c95dd82-34ea-4176-847e-5392a8b55c31"
   },
   "outputs": [
    {
     "data": {
      "text/plain": [
       "<tf.Tensor: shape=(9,), dtype=float16, numpy=\n",
       "array([1.   , 1.414, 1.732, 2.   , 2.236, 2.45 , 2.646, 2.828, 3.   ],\n",
       "      dtype=float16)>"
      ]
     },
     "execution_count": 110,
     "metadata": {},
     "output_type": "execute_result"
    }
   ],
   "source": [
    "tf.sqrt(tf.cast(tensor, dtype=tf.float16))"
   ]
  },
  {
   "cell_type": "code",
   "execution_count": 111,
   "metadata": {
    "colab": {
     "base_uri": "https://localhost:8080/"
    },
    "executionInfo": {
     "elapsed": 1268,
     "status": "ok",
     "timestamp": 1618846205376,
     "user": {
      "displayName": "Abhishek Bhatia",
      "photoUrl": "",
      "userId": "05636063588651340588"
     },
     "user_tz": -330
    },
    "id": "gTuTHHQ7wHJ1",
    "outputId": "2eac2d1a-3823-45d2-e3df-44757a0dce9d"
   },
   "outputs": [
    {
     "data": {
      "text/plain": [
       "<tf.Tensor: shape=(9,), dtype=float16, numpy=\n",
       "array([0.    , 0.6934, 1.099 , 1.387 , 1.609 , 1.792 , 1.946 , 2.08  ,\n",
       "       2.197 ], dtype=float16)>"
      ]
     },
     "execution_count": 111,
     "metadata": {},
     "output_type": "execute_result"
    }
   ],
   "source": [
    "tf.math.log(tf.cast(tensor, dtype=tf.float16))"
   ]
  },
  {
   "cell_type": "markdown",
   "metadata": {
    "id": "ic1Rzqu3wNVn"
   },
   "source": [
    "### Tensors and numpy\n",
    "Tensorflow interacts beautifully with Numpy arrays (full interoperability)"
   ]
  },
  {
   "cell_type": "code",
   "execution_count": 112,
   "metadata": {
    "colab": {
     "base_uri": "https://localhost:8080/"
    },
    "executionInfo": {
     "elapsed": 724,
     "status": "ok",
     "timestamp": 1618846288239,
     "user": {
      "displayName": "Abhishek Bhatia",
      "photoUrl": "",
      "userId": "05636063588651340588"
     },
     "user_tz": -330
    },
    "id": "mYGWzXQowd53",
    "outputId": "fe27a900-7809-40bd-e3a7-aeccc4fcc3ba"
   },
   "outputs": [
    {
     "data": {
      "text/plain": [
       "array([1, 2, 3, 4, 5, 6, 7, 8, 9])"
      ]
     },
     "execution_count": 112,
     "metadata": {},
     "output_type": "execute_result"
    }
   ],
   "source": [
    "tensor.numpy()"
   ]
  },
  {
   "cell_type": "code",
   "execution_count": 113,
   "metadata": {
    "colab": {
     "base_uri": "https://localhost:8080/"
    },
    "executionInfo": {
     "elapsed": 761,
     "status": "ok",
     "timestamp": 1618846393938,
     "user": {
      "displayName": "Abhishek Bhatia",
      "photoUrl": "",
      "userId": "05636063588651340588"
     },
     "user_tz": -330
    },
    "id": "P1lVTHR1wizj",
    "outputId": "9be33960-8544-4cd6-ff45-4fc1383fde10"
   },
   "outputs": [
    {
     "name": "stdout",
     "output_type": "stream",
     "text": [
      "tensorflow datatype:  <dtype: 'float32'>\n",
      "numpy datatype:  <dtype: 'float64'>\n"
     ]
    }
   ],
   "source": [
    "# The default types of each are slightly different\n",
    "tensor_np = tf.constant(np.array([3., 7., 10.]))\n",
    "tensor_tf = tf.constant([3., 7., 10.])\n",
    "\n",
    "print('tensorflow datatype: ', tensor_tf.dtype)\n",
    "print('numpy datatype: ', tensor_np.dtype)"
   ]
  }
 ],
 "metadata": {
  "colab": {
   "authorship_tag": "ABX9TyNsaAAutvXrIP/R3xZriPFR",
   "collapsed_sections": [],
   "mount_file_id": "1kGCBcYs-HImWqE-jyj_UHvGfWcqorqgP",
   "name": "00-tensorflow-fundamentals.ipynb",
   "provenance": []
  },
  "kernelspec": {
   "display_name": "Python 3",
   "language": "python",
   "name": "python3"
  },
  "language_info": {
   "codemirror_mode": {
    "name": "ipython",
    "version": 3
   },
   "file_extension": ".py",
   "mimetype": "text/x-python",
   "name": "python",
   "nbconvert_exporter": "python",
   "pygments_lexer": "ipython3",
   "version": "3.7.10"
  }
 },
 "nbformat": 4,
 "nbformat_minor": 4
}
