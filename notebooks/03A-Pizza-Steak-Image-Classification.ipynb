{
 "cells": [
  {
   "cell_type": "markdown",
   "metadata": {},
   "source": [
    "# 03A-Pizza-Steak-Image-Classification\n",
    "\n",
    "## Introduction to CNN and Computer Vision with Tensorflow\n",
    "\n",
    "**Note**: \n",
    "\n",
    "* You can use CNNs for image data as well as text data. CNNs exploit local relationships very well.\n",
    "* An image has patterns which are very well spatially correlated on a local scale (i.e. we don't have per pixel patterns, rather they span in a spatial location with a definite structure)\n",
    "* So if a sentence has a structure which is influenced more by local nearby relationships (in context of the NLP problem), CNNs will work really well.\n",
    "\n",
    "**Examples**\n",
    "* Simple image classification, whether a picture of a food contains pizza or a steak\n",
    "* Detect whether or not an object appears in an image (i.e. did a specific car pass through the security cameras)\n",
    "\n",
    "**Steps**\n",
    "* Getting the dataset. \n",
    "    * Where to keep/host large datasets in case > gdrive storage. \n",
    "    * Dataset fetching scripts\n",
    "    * Common dataset sources for different kinds of problems\n",
    "* Preparing the dataset\n",
    "    * Making sure it's the right size.\n",
    "    * Dataset directory structure/Creating a CustomDataset Class\n",
    "    * Augmentation techniques\n",
    "    * Noise removal\n",
    "    * Batch Data Loader, prefetching (Important for large datasets)\n",
    "* Creating a baseline model \n",
    "* Experimenting with large models (on small training subset)\n",
    "* Fitting and monitoring the training (TensorBoard, Weights & Biases)\n",
    "* Visualizing the predictions\n",
    "* Evaluating the model\n",
    "* Improving the model\n",
    "* Comparing the models\n",
    "* Making a prediction with the trained model"
   ]
  },
  {
   "cell_type": "markdown",
   "metadata": {},
   "source": [
    "## `ClassicImageDatasetDirectory`\n",
    "\n",
    "* Two folders with train and test images\n",
    "* Each of train and test contain subfolders with class_names\n",
    "* Each class_names folder contains images "
   ]
  },
  {
   "cell_type": "code",
   "execution_count": 46,
   "metadata": {},
   "outputs": [],
   "source": [
    "import os\n",
    "import glob\n",
    "import pandas as pd"
   ]
  },
  {
   "cell_type": "code",
   "execution_count": 39,
   "metadata": {},
   "outputs": [],
   "source": [
    "data_dir = '../data/pizza_steak/'\n",
    "subsets = ['train', 'test']\n",
    "class_names = ['pizza', 'steak']\n",
    "\n",
    "\n",
    "class ClassicImageDataDirectory:\n",
    "    \n",
    "    def __init__(self, data_dir):\n",
    "        self._verify_train_test_structure(data_dir)\n",
    "        \n",
    "        self.data_dir = data_dir\n",
    "        \n",
    "        self.train = self.__get_subset_info('train')\n",
    "        self.test = self.__get_subset_info('test')\n",
    "        \n",
    "    \n",
    "    # TODO\n",
    "    @staticmethod\n",
    "    def _verify_train_test_structure(data_dir):\n",
    "        pass\n",
    "    \n",
    "    @staticmethod\n",
    "    def __list_files(folder):\n",
    "        return [f for f in os.listdir(folder) if not f.startswith('.')]\n",
    "    \n",
    "    def list_data_files(self, subset, class_label):\n",
    "        folder = os.path.join(self.data_dir, subset, class_label)\n",
    "        return self.__list_files(folder)\n",
    "    \n",
    "    def __get_subset_info(self, subset):\n",
    "        d = {}\n",
    "        d['dir'] = os.path.join(self.data_dir, 'train')\n",
    "        d['class_name'] = self.__list_files(d['dir'])\n",
    "        d['count'] = [len(self.list_data_files(subset, c)) for c in d['class_name']]\n",
    "        \n",
    "        return d\n",
    "    \n",
    "    \n",
    "    \n",
    "        \n"
   ]
  },
  {
   "cell_type": "code",
   "execution_count": 40,
   "metadata": {},
   "outputs": [],
   "source": [
    "imgdir = ClassicImageDataDirectory('../data/pizza_steak')"
   ]
  },
  {
   "cell_type": "code",
   "execution_count": 50,
   "metadata": {},
   "outputs": [
    {
     "data": {
      "text/plain": [
       "{'dir': '../data/pizza_steak\\\\train',\n",
       " 'class_name': ['pizza', 'steak'],\n",
       " 'count': [750, 750]}"
      ]
     },
     "execution_count": 50,
     "metadata": {},
     "output_type": "execute_result"
    }
   ],
   "source": [
    "imgdir.train"
   ]
  },
  {
   "cell_type": "code",
   "execution_count": 57,
   "metadata": {},
   "outputs": [],
   "source": [
    "traindf = pd.DataFrame(imgdir.train).drop('dir', axis=1)"
   ]
  },
  {
   "cell_type": "code",
   "execution_count": 56,
   "metadata": {},
   "outputs": [],
   "source": [
    "testdf = pd.DataFrame(imgdir.test).drop('dir', axis=1)"
   ]
  },
  {
   "cell_type": "code",
   "execution_count": 58,
   "metadata": {},
   "outputs": [
    {
     "data": {
      "text/html": [
       "<div>\n",
       "<style scoped>\n",
       "    .dataframe tbody tr th:only-of-type {\n",
       "        vertical-align: middle;\n",
       "    }\n",
       "\n",
       "    .dataframe tbody tr th {\n",
       "        vertical-align: top;\n",
       "    }\n",
       "\n",
       "    .dataframe thead th {\n",
       "        text-align: right;\n",
       "    }\n",
       "</style>\n",
       "<table border=\"1\" class=\"dataframe\">\n",
       "  <thead>\n",
       "    <tr style=\"text-align: right;\">\n",
       "      <th></th>\n",
       "      <th>class_name</th>\n",
       "      <th>count_train</th>\n",
       "      <th>count_test</th>\n",
       "    </tr>\n",
       "  </thead>\n",
       "  <tbody>\n",
       "    <tr>\n",
       "      <th>0</th>\n",
       "      <td>pizza</td>\n",
       "      <td>750</td>\n",
       "      <td>250</td>\n",
       "    </tr>\n",
       "    <tr>\n",
       "      <th>1</th>\n",
       "      <td>steak</td>\n",
       "      <td>750</td>\n",
       "      <td>250</td>\n",
       "    </tr>\n",
       "  </tbody>\n",
       "</table>\n",
       "</div>"
      ],
      "text/plain": [
       "  class_name  count_train  count_test\n",
       "0      pizza          750         250\n",
       "1      steak          750         250"
      ]
     },
     "execution_count": 58,
     "metadata": {},
     "output_type": "execute_result"
    }
   ],
   "source": [
    "traindf.merge(testdf, on='class_name', how='outer', suffixes=('_train', '_test'))"
   ]
  }
 ],
 "metadata": {
  "kernelspec": {
   "display_name": "src",
   "language": "python",
   "name": "src"
  },
  "language_info": {
   "codemirror_mode": {
    "name": "ipython",
    "version": 3
   },
   "file_extension": ".py",
   "mimetype": "text/x-python",
   "name": "python",
   "nbconvert_exporter": "python",
   "pygments_lexer": "ipython3",
   "version": "3.7.10"
  }
 },
 "nbformat": 4,
 "nbformat_minor": 4
}
