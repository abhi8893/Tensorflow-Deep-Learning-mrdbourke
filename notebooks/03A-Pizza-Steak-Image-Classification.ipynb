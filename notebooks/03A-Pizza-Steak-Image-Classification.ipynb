{
 "cells": [
  {
   "cell_type": "code",
   "execution_count": 3,
   "metadata": {},
   "outputs": [],
   "source": [
    "%load_ext autoreload\n",
    "%autoreload 2"
   ]
  },
  {
   "cell_type": "markdown",
   "metadata": {},
   "source": [
    "# 03A-Pizza-Steak-Image-Classification\n",
    "\n",
    "## Introduction to CNN and Computer Vision with Tensorflow\n",
    "\n",
    "**Note**: \n",
    "\n",
    "* You can use CNNs for image data as well as text data. CNNs exploit local relationships very well.\n",
    "* An image has patterns which are very well spatially correlated on a local scale (i.e. we don't have per pixel patterns, rather they span in a spatial location with a definite structure)\n",
    "* So if a sentence has a structure which is influenced more by local nearby relationships (in context of the NLP problem), CNNs will work really well.\n",
    "\n",
    "**Examples**\n",
    "* Simple image classification, whether a picture of a food contains pizza or a steak\n",
    "* Detect whether or not an object appears in an image (i.e. did a specific car pass through the security cameras)\n",
    "\n",
    "**Steps**\n",
    "* Getting the dataset. \n",
    "    * Where to keep/host large datasets in case > gdrive storage. \n",
    "    * Dataset fetching scripts\n",
    "    * Common dataset sources for different kinds of problems\n",
    "* Preparing the dataset\n",
    "    * Making sure it's the right size.\n",
    "    * Dataset directory structure/Creating a CustomDataset Class\n",
    "    * Augmentation techniques\n",
    "    * Noise removal\n",
    "    * Batch Data Loader, prefetching (Important for large datasets)\n",
    "* Creating a baseline model \n",
    "* Experimenting with large models (on small training subset)\n",
    "* Fitting and monitoring the training (TensorBoard, Weights & Biases)\n",
    "* Visualizing the predictions\n",
    "* Evaluating the model\n",
    "* Improving the model\n",
    "* Comparing the models\n",
    "* Making a prediction with the trained model"
   ]
  },
  {
   "cell_type": "markdown",
   "metadata": {},
   "source": [
    "## `ClassicImageDatasetDirectory`\n",
    "\n",
    "* Two folders with train and test images\n",
    "* Each of train and test contain subfolders with class_names\n",
    "* Each class_names folder contains images "
   ]
  },
  {
   "cell_type": "code",
   "execution_count": 73,
   "metadata": {},
   "outputs": [],
   "source": [
    "import os\n",
    "from src import ClassicImageDataDirectory"
   ]
  },
  {
   "cell_type": "code",
   "execution_count": 74,
   "metadata": {},
   "outputs": [],
   "source": [
    "data_dir = '../data/pizza_steak/'\n",
    "subsets = ['train', 'test']\n",
    "class_names = ['pizza', 'steak']"
   ]
  },
  {
   "cell_type": "code",
   "execution_count": 86,
   "metadata": {},
   "outputs": [],
   "source": [
    "imgdir = ClassicImageDataDirectory(data_dir, target_image_size=(224, 224))"
   ]
  },
  {
   "cell_type": "code",
   "execution_count": 91,
   "metadata": {},
   "outputs": [
    {
     "data": {
      "text/plain": [
       "<AxesSubplot:title={'center':'Train vs Test label distribution'}, xlabel='name'>"
      ]
     },
     "execution_count": 91,
     "metadata": {},
     "output_type": "execute_result"
    },
    {
     "data": {
      "image/png": "[encoded data removed]",
      "text/plain": [
       "<Figure size 864x288 with 1 Axes>"
      ]
     },
     "metadata": {
      "needs_background": "light"
     },
     "output_type": "display_data"
    }
   ],
   "source": [
    "imgdir.plot_labelcounts()"
   ]
  },
  {
   "cell_type": "code",
   "execution_count": 76,
   "metadata": {},
   "outputs": [],
   "source": [
    "imgen = imgdir.load()\n",
    "batch = next(imgen)"
   ]
  },
  {
   "cell_type": "code",
   "execution_count": 77,
   "metadata": {},
   "outputs": [],
   "source": [
    "datagen = imgdir.load()"
   ]
  },
  {
   "cell_type": "code",
   "execution_count": 78,
   "metadata": {},
   "outputs": [],
   "source": [
    "batch = next(datagen)"
   ]
  }
 ],
 "metadata": {
  "kernelspec": {
   "display_name": "src",
   "language": "python",
   "name": "src"
  },
  "language_info": {
   "codemirror_mode": {
    "name": "ipython",
    "version": 3
   },
   "file_extension": ".py",
   "mimetype": "text/x-python",
   "name": "python",
   "nbconvert_exporter": "python",
   "pygments_lexer": "ipython3",
   "version": "3.7.10"
  }
 },
 "nbformat": 4,
 "nbformat_minor": 4
}
