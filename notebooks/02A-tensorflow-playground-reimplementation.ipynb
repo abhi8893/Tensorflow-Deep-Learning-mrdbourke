{
 "cells": [
  {
   "cell_type": "markdown",
   "metadata": {},
   "source": [
    "# 02A-Tensorflow-PlayGround-Reimplementation\n",
    "\n",
    "[Tensorflow Playground](https://playground.tensorflow.org/#activation=tanh&batchSize=10&dataset=spiral&regDataset=reg-plane&learningRate=0.03&regularizationRate=0&noise=0&networkShape=4&seed=0.11537&showTestData=false&discretize=false&percTrainData=50&x=true&y=true&xTimesY=false&xSquared=false&ySquared=false&cosX=false&sinX=false&cosY=false&sinY=false&collectStats=false&problem=classification&initZero=false&hideText=false)"
   ]
  },
  {
   "cell_type": "code",
   "execution_count": 17,
   "metadata": {},
   "outputs": [],
   "source": [
    "import tensorflow as tf\n",
    "import matplotlib.pyplot as plt\n",
    "import pandas as pd\n",
    "import numpy as np"
   ]
  },
  {
   "cell_type": "markdown",
   "metadata": {},
   "source": [
    "## Classification Homepage\n",
    "\n",
    "![](../references/tfplayground_classification.PNG)"
   ]
  },
  {
   "cell_type": "markdown",
   "metadata": {},
   "source": [
    "## Datasets\n",
    "\n",
    "| circle        | exclusive_or           | guassian  |  spiral |\n",
    "| ------------- |:-------------:| -----:| ---:|\n",
    "| ![](../references/tfplayground_circle.png) | ![](../references/tfplayground_exclusive_or.png) | ![](../references/tfplayground_gaussian.png) | ![](../references/tfplayground_spiral.png) |\n"
   ]
  },
  {
   "cell_type": "markdown",
   "metadata": {},
   "source": [
    "## Features\n",
    "\n",
    "* Start, pause, resume and reset training\n",
    "    * Set max epochs\n",
    "* Adjust Learning rate (+ Optimizer)\n",
    "* Adjust activation (overall except last layer)\n",
    "    * First layer activation option also\n",
    "* Add Regularization (Overall all weights, [L1, L2])\n",
    "    * Adjusting regularization rate\n",
    "* Choose datasets - circle, exclusive_or, gaussian, spiral\n",
    "    * Ratio of training to test data\n",
    "    * Noise level\n",
    "* Choose Features - $X_1, X_2, X_1^2, X_2^2, X_1X_2, \\sin(X_1), \\sin(X_2)$\n",
    "* Choose architecture - no of hidden layers, no or neurons in each layer\n",
    "* Monitor/Plot learning curves\n",
    "* Monitor/Plot decision boundary\n",
    "    * Option to show test data\n",
    "    * Option to discretize output"
   ]
  },
  {
   "cell_type": "markdown",
   "metadata": {},
   "source": [
    "TODO: [Add type hints](https://stackoverflow.com/questions/19202633/python-3-type-hinting-for-none#:~:text=import%20typing%20def%20foo(%20hello,str%5D%3DNone)%3A%20...&text=Or%20at%20least%2C%20it%20can,of%20up%20to%20the%20tools.\n",
    ")"
   ]
  },
  {
   "cell_type": "markdown",
   "metadata": {},
   "source": [
    "## Custom `TfpDataset`"
   ]
  },
  {
   "cell_type": "code",
   "execution_count": 249,
   "metadata": {},
   "outputs": [],
   "source": [
    "from sklearn.model_selection import train_test_split\n",
    "from sklearn.preprocessing import StandardScaler\n",
    "\n",
    "FEATURE_STORE = {\n",
    "    'X1':lambda X: X[:, 0],\n",
    "    'X2': lambda X: X[:, 1],\n",
    "    'X1_sq': lambda X: X[:, 0]**2,\n",
    "    'X2_sq': lambda X: X[:, 1]**2,\n",
    "    'X1X2': lambda X: X[:, 0]*X[:, 1],\n",
    "    'sin(X1)': lambda X: np.sin(X[:, 0]),\n",
    "    'sin(X2)': lambda X: np.sin(X[:, 1])\n",
    "    }\n",
    "\n",
    "class TfplayDataset:\n",
    "    \n",
    "    def __init__(self, X: np.array, y: np.array, features=['X1', 'X2'], \n",
    "                 scale=True, train_test_ratio=0.5, random_state=None):\n",
    "        assert X.shape[1] == 2\n",
    "        assert X.shape[0] == y.shape[0]\n",
    "        \n",
    "        self.features = features      \n",
    "        self.__data = self._make_dataframe(X, y)\n",
    "        \n",
    "        idx = {}\n",
    "        idx['train'], idx['test'] = train_test_split(self.__data.index, test_size=1/(1+train_test_ratio))\n",
    "        \n",
    "        \n",
    "        # TODO: Make below code DRY\n",
    "        \n",
    "        self.train = {}\n",
    "        self.train['data'] = self.__data.loc[idx['train'], ['X1', 'X2']].copy()\n",
    "      \n",
    "        \n",
    "        self.test = {}\n",
    "        self.test['data'] = self.__data.loc[idx['test'], ['X1', 'X2']].copy()\n",
    "        \n",
    "        if scale:\n",
    "            self.scaler = StandardScaler()\n",
    "            self.__data.loc[idx['train'], features] = self.scaler.fit_transform(self.__data.loc[idx['train'], features])\n",
    "            self.__data.loc[idx['test'], features] = self.scaler.transform(self.__data.loc[idx['test'], features])\n",
    "            \n",
    "            \n",
    "        self.train['features'] = self.__data.loc[idx['train'], features]\n",
    "        self.train['label'] = self.__data.loc[idx['train'], ['label']]\n",
    "        \n",
    "        self.test['features'] = self.__data.loc[idx['test'], features]\n",
    "        self.test['label'] = self.__data.loc[idx['test'], ['label']]\n",
    "        \n",
    "        \n",
    "    def _make_dataframe(self, X, y):\n",
    "        df = pd.DataFrame(X, columns=['X1', 'X2'])\n",
    "        features = [f for f in self.features if f not in ['X1', 'X2']]\n",
    "        df = pd.concat([df, self._featurize(X, features)], axis=1)\n",
    "        df['label'] = y\n",
    "        \n",
    "        return df\n",
    "        \n",
    "    \n",
    "    @staticmethod\n",
    "    def _featurize(X, features):\n",
    "        features_df = pd.DataFrame({feat: FEATURE_STORE[feat](X) for feat in features})\n",
    "        return features_df\n",
    "    \n",
    "    \n",
    "    def plot(self, ax=None):\n",
    "        \n",
    "        if ax is None:\n",
    "            fig, ax = plt.subplots()\n",
    "            \n",
    "        X_train = tfp.data.train['data'].values\n",
    "        y_train = tfp.data.train['label'].values.flatten()\n",
    "\n",
    "        ax.scatter(X_train[y_train == 0, 0], X_train[y_train == 0, 1], color='red', label='0')\n",
    "        ax.scatter(X_train[y_train == 1, 0], X_train[y_train == 1, 1], color='blue', label='1')\n",
    "        ax.set(xlabel='X1', ylabel='X2')\n",
    "        \n",
    "        plt.legend()\n",
    "        \n",
    "        return fig, ax\n",
    "        \n",
    "        \n",
    "        "
   ]
  },
  {
   "cell_type": "code",
   "execution_count": 250,
   "metadata": {},
   "outputs": [],
   "source": [
    "from tensorflow.keras import layers, losses, optimizers, regularizers\n",
    "from src.visualize import plot_learning_curve"
   ]
  },
  {
   "cell_type": "code",
   "execution_count": 251,
   "metadata": {},
   "outputs": [],
   "source": [
    "class TensorflowPlayground:\n",
    "    \n",
    "    \n",
    "    def __init__(self, \n",
    "                 dataset: str,\n",
    "                 train_test_ratio=0.5,\n",
    "                 noise=0,\n",
    "                 features=['X1', 'X2'],\n",
    "                 scale=True,\n",
    "                 n_samples=1000,\n",
    "                 neurons=(4, ),\n",
    "                 learning_rate=0.03,\n",
    "                 activation='tanh',\n",
    "                 regularization=None,\n",
    "                 regularization_rate=0,\n",
    "                 random_state=None):\n",
    "        \n",
    "        \n",
    "        if dataset != 'circle':\n",
    "            raise NotImplementedError(\"Only 'circle' dataset is implemented!\")\n",
    "            \n",
    "        \n",
    "        self.dataset = dataset\n",
    "        self.train_test_ratio = train_test_ratio\n",
    "        self.noise = noise\n",
    "        self.features = features\n",
    "        self.scale = scale\n",
    "        self.n_samples = n_samples\n",
    "        self.neurons = neurons\n",
    "        self.learning_rate = learning_rate\n",
    "        self.activation = activation\n",
    "        self.regularization = regularization\n",
    "        self.regularization_rate = regularization_rate\n",
    "        self.random_state = random_state\n",
    "            \n",
    "        \n",
    "        # Make dataset\n",
    "        self.make_data()\n",
    "        # Make model\n",
    "        self.make_model()\n",
    "        \n",
    "        \n",
    "        \n",
    "    def make_data(self):\n",
    "        if self.dataset == 'circle':\n",
    "            X, y = self._make_circle_X_y(self.noise, self.n_samples, self.random_state)\n",
    "        \n",
    "        self.data = TfplayDataset(X, y, self.features, self.scale, self.train_test_ratio, self.random_state)\n",
    "            \n",
    "    @staticmethod        \n",
    "    def _make_circle_X_y(noise=0, n_samples=1000, random_state=None):\n",
    "        return sklearn.datasets.make_circles(n_samples=n_samples, noise=noise, random_state=random_state)\n",
    "\n",
    "    \n",
    "    @staticmethod\n",
    "    def _make_model(input_shape, neurons, learning_rate, \n",
    "                   activation, regularization=None, regularization_rate=0):\n",
    "        \n",
    "        if regularization == 'L1':\n",
    "            reg = regularizers.l1(regularization_rate)\n",
    "        elif regularization == 'L2':\n",
    "            reg = regularizers.l2(regularization_rate)\n",
    "        else:\n",
    "            reg = None\n",
    "            \n",
    "        model = tf.keras.models.Sequential()\n",
    "        \n",
    "        # Input layer\n",
    "        model.add(layers.Input(shape=input_shape))\n",
    "        \n",
    "        num_layers = len(neurons)\n",
    "        \n",
    "        # Hidden layers\n",
    "        for i in range(num_layers):\n",
    "            model.add(layers.Dense(neurons[i], activation=activation, kernel_regularizer=reg))\n",
    "            \n",
    "        # Output layer\n",
    "        model.add(layers.Dense(1, activation='sigmoid'))\n",
    "        \n",
    "        # Compile model\n",
    "        model.compile(loss=losses.binary_crossentropy, optimizer=optimizers.Adam(learning_rate=learning_rate))\n",
    "        \n",
    "        \n",
    "        return model\n",
    "                \n",
    "            \n",
    "    def make_model(self):\n",
    "        num_feats = len(self.features)\n",
    "        self.model = self._make_model(num_feats, self.neurons, self.learning_rate, \n",
    "                                      self.activation, self.regularization, self.regularization_rate)\n",
    "        \n",
    "    def train(self, epochs=10, batch_size=None):\n",
    "        self.model.fit(self.data.train['features'], self.data.train['label'], epochs=epochs, batch_size=batch_size)\n",
    "    \n",
    "    \n",
    "    def plot_data(self, show_test_data=False, discretize_output=False):\n",
    "        pass\n",
    "\n",
    "    \n",
    "    def plot_learning_curve(self):\n",
    "        return plot_learning_curve(self.model.history.history)\n",
    "    \n",
    "    "
   ]
  },
  {
   "cell_type": "markdown",
   "metadata": {},
   "source": [
    "## `make_dataset`\n",
    "\n",
    "```python\n",
    "\n",
    "    def _make_dataset(dataset, features, train_test_ratio, noise):\n",
    "        pass\n",
    "\n",
    "```"
   ]
  },
  {
   "cell_type": "code",
   "execution_count": 252,
   "metadata": {},
   "outputs": [],
   "source": [
    "def _make_circle_X_y(noise=0, n_samples=1000, random_state=None):\n",
    "    return sklearn.datasets.make_circles(n_samples=n_samples, noise=noise, random_state=random_state)\n"
   ]
  },
  {
   "cell_type": "code",
   "execution_count": 253,
   "metadata": {},
   "outputs": [],
   "source": [
    "def _make_data(dataset, features, train_test_ratio, noise):\n",
    "    if dataset == 'circle':\n",
    "        data = _make_circle_X_y()\n"
   ]
  },
  {
   "cell_type": "code",
   "execution_count": 254,
   "metadata": {},
   "outputs": [],
   "source": [
    "tfp = TensorflowPlayground('circle', features=['X1'])"
   ]
  },
  {
   "cell_type": "code",
   "execution_count": 255,
   "metadata": {},
   "outputs": [
    {
     "data": {
      "text/plain": [
       "(<Figure size 432x288 with 1 Axes>, <AxesSubplot:xlabel='X1', ylabel='X2'>)"
      ]
     },
     "execution_count": 255,
     "metadata": {},
     "output_type": "execute_result"
    },
    {
     "data": {
      "image/png": "[encoded data removed]",
      "text/plain": [
       "<Figure size 432x288 with 1 Axes>"
      ]
     },
     "metadata": {
      "needs_background": "light"
     },
     "output_type": "display_data"
    }
   ],
   "source": [
    "tfp.data.plot()"
   ]
  },
  {
   "cell_type": "code",
   "execution_count": 218,
   "metadata": {},
   "outputs": [
    {
     "data": {
      "text/plain": [
       "<matplotlib.collections.PathCollection at 0x269bae0db48>"
      ]
     },
     "execution_count": 218,
     "metadata": {},
     "output_type": "execute_result"
    },
    {
     "data": {
      "image/png": "[encoded data removed]",
      "text/plain": [
       "<Figure size 432x288 with 1 Axes>"
      ]
     },
     "metadata": {
      "needs_background": "light"
     },
     "output_type": "display_data"
    }
   ],
   "source": [
    "X_train = tfp.data.train['data'].values\n",
    "y_train = tfp.data.train['label'].values\n",
    "\n",
    "plt.scatter(X_train[:, 0], X_train[:, 1], c=y_train, cmap='RdBu')"
   ]
  },
  {
   "cell_type": "code",
   "execution_count": 213,
   "metadata": {},
   "outputs": [
    {
     "data": {
      "text/html": [
       "<div>\n",
       "<style scoped>\n",
       "    .dataframe tbody tr th:only-of-type {\n",
       "        vertical-align: middle;\n",
       "    }\n",
       "\n",
       "    .dataframe tbody tr th {\n",
       "        vertical-align: top;\n",
       "    }\n",
       "\n",
       "    .dataframe thead th {\n",
       "        text-align: right;\n",
       "    }\n",
       "</style>\n",
       "<table border=\"1\" class=\"dataframe\">\n",
       "  <thead>\n",
       "    <tr style=\"text-align: right;\">\n",
       "      <th></th>\n",
       "      <th>X1</th>\n",
       "      <th>X2</th>\n",
       "    </tr>\n",
       "  </thead>\n",
       "  <tbody>\n",
       "    <tr>\n",
       "      <th>567</th>\n",
       "      <td>0.968583</td>\n",
       "      <td>0.248690</td>\n",
       "    </tr>\n",
       "    <tr>\n",
       "      <th>944</th>\n",
       "      <td>-0.546394</td>\n",
       "      <td>0.837528</td>\n",
       "    </tr>\n",
       "    <tr>\n",
       "      <th>260</th>\n",
       "      <td>0.075327</td>\n",
       "      <td>-0.997159</td>\n",
       "    </tr>\n",
       "    <tr>\n",
       "      <th>131</th>\n",
       "      <td>-0.567269</td>\n",
       "      <td>-0.823533</td>\n",
       "    </tr>\n",
       "    <tr>\n",
       "      <th>275</th>\n",
       "      <td>0.702650</td>\n",
       "      <td>-0.711536</td>\n",
       "    </tr>\n",
       "    <tr>\n",
       "      <th>...</th>\n",
       "      <td>...</td>\n",
       "      <td>...</td>\n",
       "    </tr>\n",
       "    <tr>\n",
       "      <th>410</th>\n",
       "      <td>0.795961</td>\n",
       "      <td>0.080289</td>\n",
       "    </tr>\n",
       "    <tr>\n",
       "      <th>163</th>\n",
       "      <td>0.140018</td>\n",
       "      <td>0.787651</td>\n",
       "    </tr>\n",
       "    <tr>\n",
       "      <th>67</th>\n",
       "      <td>0.777305</td>\n",
       "      <td>0.189199</td>\n",
       "    </tr>\n",
       "    <tr>\n",
       "      <th>690</th>\n",
       "      <td>-0.797727</td>\n",
       "      <td>0.060261</td>\n",
       "    </tr>\n",
       "    <tr>\n",
       "      <th>211</th>\n",
       "      <td>0.391374</td>\n",
       "      <td>-0.920232</td>\n",
       "    </tr>\n",
       "  </tbody>\n",
       "</table>\n",
       "<p>333 rows × 2 columns</p>\n",
       "</div>"
      ],
      "text/plain": [
       "           X1        X2\n",
       "567  0.968583  0.248690\n",
       "944 -0.546394  0.837528\n",
       "260  0.075327 -0.997159\n",
       "131 -0.567269 -0.823533\n",
       "275  0.702650 -0.711536\n",
       "..        ...       ...\n",
       "410  0.795961  0.080289\n",
       "163  0.140018  0.787651\n",
       "67   0.777305  0.189199\n",
       "690 -0.797727  0.060261\n",
       "211  0.391374 -0.920232\n",
       "\n",
       "[333 rows x 2 columns]"
      ]
     },
     "execution_count": 213,
     "metadata": {},
     "output_type": "execute_result"
    }
   ],
   "source": []
  },
  {
   "cell_type": "code",
   "execution_count": 203,
   "metadata": {},
   "outputs": [
    {
     "name": "stdout",
     "output_type": "stream",
     "text": [
      "Epoch 1/10\n",
      "11/11 [==============================] - 1s 2ms/step - loss: 0.6915\n",
      "Epoch 2/10\n",
      "11/11 [==============================] - 0s 2ms/step - loss: 0.6951\n",
      "Epoch 3/10\n",
      "11/11 [==============================] - 0s 2ms/step - loss: 0.6898\n",
      "Epoch 4/10\n",
      "11/11 [==============================] - 0s 2ms/step - loss: 0.6877\n",
      "Epoch 5/10\n",
      "11/11 [==============================] - 0s 2ms/step - loss: 0.6870\n",
      "Epoch 6/10\n",
      "11/11 [==============================] - 0s 2ms/step - loss: 0.6849\n",
      "Epoch 7/10\n",
      "11/11 [==============================] - 0s 2ms/step - loss: 0.6847\n",
      "Epoch 8/10\n",
      "11/11 [==============================] - 0s 2ms/step - loss: 0.6795\n",
      "Epoch 9/10\n",
      "11/11 [==============================] - 0s 2ms/step - loss: 0.6830\n",
      "Epoch 10/10\n",
      "11/11 [==============================] - 0s 2ms/step - loss: 0.6698\n"
     ]
    }
   ],
   "source": [
    "tfp.train()"
   ]
  },
  {
   "cell_type": "code",
   "execution_count": 204,
   "metadata": {},
   "outputs": [
    {
     "data": {
      "text/plain": [
       "(<Figure size 432x288 with 1 Axes>,\n",
       " array([<AxesSubplot:title={'center':'loss'}>], dtype=object))"
      ]
     },
     "execution_count": 204,
     "metadata": {},
     "output_type": "execute_result"
    },
    {
     "data": {
      "image/png": "[encoded data removed]",
      "text/plain": [
       "<Figure size 432x288 with 1 Axes>"
      ]
     },
     "metadata": {
      "needs_background": "light"
     },
     "output_type": "display_data"
    }
   ],
   "source": [
    "tfp.plot_learning_curve()"
   ]
  }
 ],
 "metadata": {
  "kernelspec": {
   "display_name": "src",
   "language": "python",
   "name": "src"
  },
  "language_info": {
   "codemirror_mode": {
    "name": "ipython",
    "version": 3
   },
   "file_extension": ".py",
   "mimetype": "text/x-python",
   "name": "python",
   "nbconvert_exporter": "python",
   "pygments_lexer": "ipython3",
   "version": "3.7.10"
  }
 },
 "nbformat": 4,
 "nbformat_minor": 4
}
