{
 "cells": [
  {
   "cell_type": "code",
   "execution_count": 413,
   "metadata": {},
   "outputs": [
    {
     "name": "stdout",
     "output_type": "stream",
     "text": [
      "The autoreload extension is already loaded. To reload it, use:\n",
      "  %reload_ext autoreload\n"
     ]
    }
   ],
   "source": [
    "%load_ext autoreload\n",
    "%autoreload 2"
   ]
  },
  {
   "cell_type": "markdown",
   "metadata": {},
   "source": [
    "# 02A-Tensorflow-PlayGround-Reimplementation\n",
    "\n",
    "[Tensorflow Playground](https://playground.tensorflow.org/#activation=tanh&batchSize=10&dataset=spiral&regDataset=reg-plane&learningRate=0.03&regularizationRate=0&noise=0&networkShape=4&seed=0.11537&showTestData=false&discretize=false&percTrainData=50&x=true&y=true&xTimesY=false&xSquared=false&ySquared=false&cosX=false&sinX=false&cosY=false&sinY=false&collectStats=false&problem=classification&initZero=false&hideText=false)"
   ]
  },
  {
   "cell_type": "code",
   "execution_count": 414,
   "metadata": {},
   "outputs": [],
   "source": [
    "import tensorflow as tf\n",
    "import matplotlib.pyplot as plt\n",
    "import pandas as pd\n",
    "import numpy as np"
   ]
  },
  {
   "cell_type": "markdown",
   "metadata": {},
   "source": [
    "## Classification Homepage\n",
    "\n",
    "![](../references/tfplayground_classification.PNG)"
   ]
  },
  {
   "cell_type": "markdown",
   "metadata": {},
   "source": [
    "## Datasets\n",
    "\n",
    "| circle        | exclusive_or           | guassian  |  spiral |\n",
    "| ------------- |:-------------:| -----:| ---:|\n",
    "| ![](../references/tfplayground_circle.png) | ![](../references/tfplayground_exclusive_or.png) | ![](../references/tfplayground_gaussian.png) | ![](../references/tfplayground_spiral.png) |\n"
   ]
  },
  {
   "cell_type": "markdown",
   "metadata": {},
   "source": [
    "## Features\n",
    "\n",
    "* Start, pause, resume and reset training\n",
    "    * Set max epochs\n",
    "* Adjust Learning rate (+ Optimizer)\n",
    "* Adjust activation (overall except last layer)\n",
    "    * First layer activation option also\n",
    "* Add Regularization (Overall all weights, [L1, L2])\n",
    "    * Adjusting regularization rate\n",
    "* Choose datasets - circle, exclusive_or, gaussian, spiral\n",
    "    * Ratio of training to test data\n",
    "    * Noise level\n",
    "* Choose Features - $X_1, X_2, X_1^2, X_2^2, X_1X_2, \\sin(X_1), \\sin(X_2)$\n",
    "* Choose architecture - no of hidden layers, no or neurons in each layer\n",
    "* Monitor/Plot learning curves\n",
    "* Monitor/Plot decision boundary\n",
    "    * Option to show test data\n",
    "    * Option to discretize output"
   ]
  },
  {
   "cell_type": "markdown",
   "metadata": {},
   "source": [
    "TODO: [Add type hints](https://stackoverflow.com/questions/19202633/python-3-type-hinting-for-none#:~:text=import%20typing%20def%20foo(%20hello,str%5D%3DNone)%3A%20...&text=Or%20at%20least%2C%20it%20can,of%20up%20to%20the%20tools.\n",
    ")"
   ]
  },
  {
   "cell_type": "markdown",
   "metadata": {},
   "source": [
    "## Custom `TfPlayDataset`"
   ]
  },
  {
   "cell_type": "code",
   "execution_count": 418,
   "metadata": {},
   "outputs": [],
   "source": [
    "from sklearn.model_selection import train_test_split\n",
    "from sklearn.preprocessing import StandardScaler\n",
    "\n",
    "FEATURE_STORE = {\n",
    "    'X1':lambda X: X[:, 0],\n",
    "    'X2': lambda X: X[:, 1],\n",
    "    'X1_sq': lambda X: X[:, 0]**2,\n",
    "    'X2_sq': lambda X: X[:, 1]**2,\n",
    "    'X1X2': lambda X: X[:, 0]*X[:, 1],\n",
    "    'sin(X1)': lambda X: np.sin(X[:, 0]),\n",
    "    'sin(X2)': lambda X: np.sin(X[:, 1])\n",
    "    }\n",
    "\n",
    "class TfPlayDataset:\n",
    "    \n",
    "    def __init__(self, X: np.array, y: np.array, features=['X1', 'X2'], \n",
    "                 scale=True, train_test_ratio=0.5, random_state=None):\n",
    "        assert X.shape[1] == 2\n",
    "        assert X.shape[0] == y.shape[0]\n",
    "        \n",
    "        self.features = features      \n",
    "        self.__data = self._make_dataframe(X, y)\n",
    "        \n",
    "        idx = {}\n",
    "        idx['train'], idx['test'] = train_test_split(self.__data.index, test_size=1/(1+train_test_ratio))\n",
    "        \n",
    "        \n",
    "        # TODO: Make below code DRY\n",
    "        \n",
    "        self.train = {}\n",
    "        self.train['data'] = self.__data.loc[idx['train'], ['X1', 'X2']].copy()\n",
    "      \n",
    "        \n",
    "        self.test = {}\n",
    "        self.test['data'] = self.__data.loc[idx['test'], ['X1', 'X2']].copy()\n",
    "        \n",
    "        if scale:\n",
    "            self.scaler = StandardScaler()\n",
    "            self.__data.loc[idx['train'], features] = self.scaler.fit_transform(self.__data.loc[idx['train'], features])\n",
    "            self.__data.loc[idx['test'], features] = self.scaler.transform(self.__data.loc[idx['test'], features])\n",
    "            \n",
    "            \n",
    "        self.train['features'] = self.__data.loc[idx['train'], features]\n",
    "        self.train['label'] = self.__data.loc[idx['train'], ['label']]\n",
    "        \n",
    "        self.test['features'] = self.__data.loc[idx['test'], features]\n",
    "        self.test['label'] = self.__data.loc[idx['test'], ['label']]\n",
    "        \n",
    "        \n",
    "    def _make_dataframe(self, X, y):\n",
    "        df = pd.DataFrame(X, columns=['X1', 'X2'])\n",
    "        features = [f for f in self.features if f not in ['X1', 'X2']]\n",
    "        df = pd.concat([df, self._featurize(X, features)], axis=1)\n",
    "        df['label'] = y\n",
    "        \n",
    "        return df\n",
    "        \n",
    "    \n",
    "    @staticmethod\n",
    "    def _featurize(X, features):\n",
    "        features_df = pd.DataFrame({feat: FEATURE_STORE[feat](X) for feat in features})\n",
    "        return features_df\n",
    "    \n",
    "    \n",
    "    def plot(self, subset='train', ax=None):\n",
    "        \n",
    "        if ax is None:\n",
    "            fig, ax = plt.subplots()\n",
    "        \n",
    "        \n",
    "        subset_dict = self.__getattribute__(subset)\n",
    "        \n",
    "        X = subset_dict['data'].values\n",
    "        y = subset_dict['label'].values.flatten()\n",
    "\n",
    "        ax.scatter(X[y == 0, 0], X[y == 0, 1], color='red', label='0')\n",
    "        ax.scatter(X[y == 1, 0], X[y == 1, 1], color='blue', label='1')\n",
    "        ax.set(xlabel='X1', ylabel='X2')\n",
    "        \n",
    "        plt.legend()\n",
    "        \n",
    "        return ax\n",
    "        \n",
    "        \n",
    "        "
   ]
  },
  {
   "cell_type": "code",
   "execution_count": 419,
   "metadata": {},
   "outputs": [],
   "source": [
    "from tensorflow.keras import layers, losses, optimizers, regularizers\n",
    "from src.visualize import plot_learning_curve, plot2d_decision_function"
   ]
  },
  {
   "cell_type": "code",
   "execution_count": 420,
   "metadata": {},
   "outputs": [],
   "source": [
    "class TensorflowPlayground:\n",
    "    \n",
    "    \n",
    "    def __init__(self, \n",
    "                 dataset: str,\n",
    "                 train_test_ratio=0.5,\n",
    "                 noise=0,\n",
    "                 features=['X1', 'X2'],\n",
    "                 scale=True,\n",
    "                 n_samples=1000,\n",
    "                 neurons=(4, ),\n",
    "                 learning_rate=0.03,\n",
    "                 activation='tanh',\n",
    "                 regularization=None,\n",
    "                 regularization_rate=0,\n",
    "                 random_state=None):\n",
    "        \n",
    "        \n",
    "        if dataset != 'circle':\n",
    "            raise NotImplementedError(\"Only 'circle' dataset is implemented!\")\n",
    "            \n",
    "        \n",
    "        self.dataset = dataset\n",
    "        self.train_test_ratio = train_test_ratio\n",
    "        self.noise = noise\n",
    "        self.features = features\n",
    "        self.scale = scale\n",
    "        self.n_samples = n_samples\n",
    "        self.neurons = neurons\n",
    "        self.learning_rate = learning_rate\n",
    "        self.activation = activation\n",
    "        self.regularization = regularization\n",
    "        self.regularization_rate = regularization_rate\n",
    "        self.random_state = random_state\n",
    "            \n",
    "        \n",
    "        # Make dataset\n",
    "        self.make_data()\n",
    "        # Make model\n",
    "        self.make_model()\n",
    "         \n",
    "        \n",
    "    def make_data(self):\n",
    "        if self.dataset == 'circle':\n",
    "            X, y = self._make_circle_X_y(self.noise, self.n_samples, self.random_state)\n",
    "        \n",
    "        self.data = TfPlayDataset(X, y, self.features, self.scale, self.train_test_ratio, self.random_state)\n",
    "            \n",
    "    @staticmethod        \n",
    "    def _make_circle_X_y(noise=0, n_samples=1000, random_state=None):\n",
    "        return sklearn.datasets.make_circles(n_samples=n_samples, noise=noise, random_state=random_state)\n",
    "\n",
    "    \n",
    "    @staticmethod\n",
    "    def _make_model(input_shape, neurons, learning_rate, \n",
    "                   activation, regularization=None, regularization_rate=0):\n",
    "        \n",
    "        if regularization == 'L1':\n",
    "            reg = regularizers.l1(regularization_rate)\n",
    "        elif regularization == 'L2':\n",
    "            reg = regularizers.l2(regularization_rate)\n",
    "        else:\n",
    "            reg = None\n",
    "            \n",
    "        model = tf.keras.models.Sequential()\n",
    "        \n",
    "        # Input layer\n",
    "        model.add(layers.Input(shape=input_shape))\n",
    "        \n",
    "        num_layers = len(neurons)\n",
    "        \n",
    "        # Hidden layers\n",
    "        for i in range(num_layers):\n",
    "            model.add(layers.Dense(neurons[i], activation=activation, kernel_regularizer=reg))\n",
    "            \n",
    "        # Output layer\n",
    "        model.add(layers.Dense(1, activation='sigmoid'))\n",
    "        \n",
    "        # Compile model\n",
    "        model.compile(loss=losses.binary_crossentropy, optimizer=optimizers.Adam(learning_rate=learning_rate))\n",
    "        \n",
    "        \n",
    "        return model\n",
    "                \n",
    "            \n",
    "    def make_model(self):\n",
    "        num_feats = len(self.features)\n",
    "        self.model = self._make_model(num_feats, self.neurons, self.learning_rate, \n",
    "                                      self.activation, self.regularization, self.regularization_rate)\n",
    "        \n",
    "    def train(self, epochs=10, batch_size=None):\n",
    "        self.model.fit(self.data.train['features'], self.data.train['label'], epochs=epochs, batch_size=batch_size)\n",
    "        \n",
    "        \n",
    "    def predict(self, X):\n",
    "        X_feat = self.data._featurize(X, self.features)\n",
    "        if self.scale:\n",
    "            X_feat = self.data.scaler.transform(X_feat)\n",
    "            \n",
    "        return self.model.predict(X_feat)\n",
    "    \n",
    "    def plot_learning_curve(self):\n",
    "        return plot_learning_curve(self.model.history.history)\n",
    "    \n",
    "    \n",
    "    def plot_decision_function(self, ax=None):\n",
    "        subset_dict = self.data.train\n",
    "        cp = plot2d_decision_function(self.predict, subset_dict['data'].values, ax=ax)\n",
    "        return cp\n",
    "    \n",
    "    "
   ]
  },
  {
   "cell_type": "markdown",
   "metadata": {},
   "source": [
    "## Setup your playground!"
   ]
  },
  {
   "cell_type": "code",
   "execution_count": 489,
   "metadata": {},
   "outputs": [],
   "source": [
    "tfp = TensorflowPlayground('circle', features=['X1', 'X2'], neurons=[4], activation='sigmoid', learning_rate=0.1, scale=True)"
   ]
  },
  {
   "cell_type": "markdown",
   "metadata": {},
   "source": [
    "## Plot the data!"
   ]
  },
  {
   "cell_type": "code",
   "execution_count": 490,
   "metadata": {},
   "outputs": [
    {
     "data": {
      "text/plain": [
       "<AxesSubplot:xlabel='X1', ylabel='X2'>"
      ]
     },
     "execution_count": 490,
     "metadata": {},
     "output_type": "execute_result"
    },
    {
     "data": {
      "image/png": "[encoded data removed]",
      "text/plain": [
       "<Figure size 432x288 with 1 Axes>"
      ]
     },
     "metadata": {
      "needs_background": "light"
     },
     "output_type": "display_data"
    }
   ],
   "source": [
    "tfp.data.plot()"
   ]
  },
  {
   "cell_type": "markdown",
   "metadata": {},
   "source": [
    "## Train the model!"
   ]
  },
  {
   "cell_type": "code",
   "execution_count": 491,
   "metadata": {},
   "outputs": [
    {
     "name": "stdout",
     "output_type": "stream",
     "text": [
      "Epoch 1/10\n",
      "12/12 [==============================] - 1s 2ms/step - loss: 0.7106\n",
      "Epoch 2/10\n",
      "12/12 [==============================] - 0s 2ms/step - loss: 0.7021\n",
      "Epoch 3/10\n",
      "12/12 [==============================] - 0s 3ms/step - loss: 0.7046\n",
      "Epoch 4/10\n",
      "12/12 [==============================] - 0s 2ms/step - loss: 0.6910\n",
      "Epoch 5/10\n",
      "12/12 [==============================] - 0s 3ms/step - loss: 0.6898\n",
      "Epoch 6/10\n",
      "12/12 [==============================] - 0s 3ms/step - loss: 0.6875\n",
      "Epoch 7/10\n",
      "12/12 [==============================] - 0s 3ms/step - loss: 0.6968\n",
      "Epoch 8/10\n",
      "12/12 [==============================] - 0s 2ms/step - loss: 0.6987\n",
      "Epoch 9/10\n",
      "12/12 [==============================] - 0s 2ms/step - loss: 0.7091\n",
      "Epoch 10/10\n",
      "12/12 [==============================] - 0s 3ms/step - loss: 0.6806\n"
     ]
    }
   ],
   "source": [
    "tfp.train(epochs=10, batch_size=30)"
   ]
  },
  {
   "cell_type": "markdown",
   "metadata": {},
   "source": [
    "## Plot the learning curve!"
   ]
  },
  {
   "cell_type": "code",
   "execution_count": 492,
   "metadata": {},
   "outputs": [
    {
     "data": {
      "text/plain": [
       "(<Figure size 432x288 with 1 Axes>,\n",
       " array([<AxesSubplot:title={'center':'loss'}>], dtype=object))"
      ]
     },
     "execution_count": 492,
     "metadata": {},
     "output_type": "execute_result"
    },
    {
     "data": {
      "image/png": "[encoded data removed]",
      "text/plain": [
       "<Figure size 432x288 with 1 Axes>"
      ]
     },
     "metadata": {
      "needs_background": "light"
     },
     "output_type": "display_data"
    }
   ],
   "source": [
    "tfp.plot_learning_curve()"
   ]
  },
  {
   "cell_type": "markdown",
   "metadata": {},
   "source": [
    "## Plot the predictions!"
   ]
  },
  {
   "cell_type": "code",
   "execution_count": 493,
   "metadata": {},
   "outputs": [
    {
     "name": "stderr",
     "output_type": "stream",
     "text": [
      "No handles with labels found to put in legend.\n"
     ]
    },
    {
     "data": {
      "text/plain": [
       "<matplotlib.colorbar.Colorbar at 0x269ba9a1088>"
      ]
     },
     "execution_count": 493,
     "metadata": {},
     "output_type": "execute_result"
    },
    {
     "data": {
      "image/png": "[encoded data removed]",
      "text/plain": [
       "<Figure size 864x288 with 3 Axes>"
      ]
     },
     "metadata": {
      "needs_background": "light"
     },
     "output_type": "display_data"
    }
   ],
   "source": [
    "fig, axn = plt.subplots(1, 2, figsize=(12, 4))\n",
    "\n",
    "for ax, subset in zip(axn, ['train', 'test']):\n",
    "    cp = tfp.plot_decision_function(ax=ax)\n",
    "    tfp.data.plot(subset=subset, ax=cp.axes)\n",
    "    \n",
    "    ax.set_title(subset, fontdict=dict(weight='bold', size=20))\n",
    "    \n",
    "\n",
    "fig.colorbar(cp)"
   ]
  },
  {
   "cell_type": "code",
   "execution_count": null,
   "metadata": {},
   "outputs": [],
   "source": []
  }
 ],
 "metadata": {
  "kernelspec": {
   "display_name": "src",
   "language": "python",
   "name": "src"
  },
  "language_info": {
   "codemirror_mode": {
    "name": "ipython",
    "version": 3
   },
   "file_extension": ".py",
   "mimetype": "text/x-python",
   "name": "python",
   "nbconvert_exporter": "python",
   "pygments_lexer": "ipython3",
   "version": "3.7.10"
  }
 },
 "nbformat": 4,
 "nbformat_minor": 4
}
